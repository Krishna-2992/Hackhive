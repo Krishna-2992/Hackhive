{
  "nbformat": 4,
  "nbformat_minor": 0,
  "metadata": {
    "colab": {
      "provenance": [],
      "gpuType": "T4"
    },
    "kernelspec": {
      "name": "python3",
      "display_name": "Python 3"
    },
    "language_info": {
      "name": "python"
    },
    "accelerator": "GPU",
    "widgets": {
      "application/vnd.jupyter.widget-state+json": {
        "6b77c3aeeb7a4447848f43f7c83e3216": {
          "model_module": "@jupyter-widgets/controls",
          "model_name": "HBoxModel",
          "model_module_version": "1.5.0",
          "state": {
            "_dom_classes": [],
            "_model_module": "@jupyter-widgets/controls",
            "_model_module_version": "1.5.0",
            "_model_name": "HBoxModel",
            "_view_count": null,
            "_view_module": "@jupyter-widgets/controls",
            "_view_module_version": "1.5.0",
            "_view_name": "HBoxView",
            "box_style": "",
            "children": [
              "IPY_MODEL_3e85214c27e94226963afaaf1f14d2c3",
              "IPY_MODEL_14aaad45bd1f41b1bb615a42fc1539f3",
              "IPY_MODEL_20fdfd9d50884aa582fdf17401e7c86e"
            ],
            "layout": "IPY_MODEL_e018c5d8afc34aa389720c2fdb9ed1a2"
          }
        },
        "3e85214c27e94226963afaaf1f14d2c3": {
          "model_module": "@jupyter-widgets/controls",
          "model_name": "HTMLModel",
          "model_module_version": "1.5.0",
          "state": {
            "_dom_classes": [],
            "_model_module": "@jupyter-widgets/controls",
            "_model_module_version": "1.5.0",
            "_model_name": "HTMLModel",
            "_view_count": null,
            "_view_module": "@jupyter-widgets/controls",
            "_view_module_version": "1.5.0",
            "_view_name": "HTMLView",
            "description": "",
            "description_tooltip": null,
            "layout": "IPY_MODEL_4b7c3f2d70c74067be8b6e89029c53dc",
            "placeholder": "​",
            "style": "IPY_MODEL_8e18a4fd327f483b959d0a7be37a13d0",
            "value": "tokenizer_config.json: 100%"
          }
        },
        "14aaad45bd1f41b1bb615a42fc1539f3": {
          "model_module": "@jupyter-widgets/controls",
          "model_name": "FloatProgressModel",
          "model_module_version": "1.5.0",
          "state": {
            "_dom_classes": [],
            "_model_module": "@jupyter-widgets/controls",
            "_model_module_version": "1.5.0",
            "_model_name": "FloatProgressModel",
            "_view_count": null,
            "_view_module": "@jupyter-widgets/controls",
            "_view_module_version": "1.5.0",
            "_view_name": "ProgressView",
            "bar_style": "success",
            "description": "",
            "description_tooltip": null,
            "layout": "IPY_MODEL_e88ceac488404e389eccfd89d8c2a333",
            "max": 88,
            "min": 0,
            "orientation": "horizontal",
            "style": "IPY_MODEL_bff7ddc3438e47319dd0ece05d39af43",
            "value": 88
          }
        },
        "20fdfd9d50884aa582fdf17401e7c86e": {
          "model_module": "@jupyter-widgets/controls",
          "model_name": "HTMLModel",
          "model_module_version": "1.5.0",
          "state": {
            "_dom_classes": [],
            "_model_module": "@jupyter-widgets/controls",
            "_model_module_version": "1.5.0",
            "_model_name": "HTMLModel",
            "_view_count": null,
            "_view_module": "@jupyter-widgets/controls",
            "_view_module_version": "1.5.0",
            "_view_name": "HTMLView",
            "description": "",
            "description_tooltip": null,
            "layout": "IPY_MODEL_b39175c7640f4072827257a958dd6d5d",
            "placeholder": "​",
            "style": "IPY_MODEL_415d0bcf45344d6687693d50445d1056",
            "value": " 88.0/88.0 [00:00&lt;00:00, 5.72kB/s]"
          }
        },
        "e018c5d8afc34aa389720c2fdb9ed1a2": {
          "model_module": "@jupyter-widgets/base",
          "model_name": "LayoutModel",
          "model_module_version": "1.2.0",
          "state": {
            "_model_module": "@jupyter-widgets/base",
            "_model_module_version": "1.2.0",
            "_model_name": "LayoutModel",
            "_view_count": null,
            "_view_module": "@jupyter-widgets/base",
            "_view_module_version": "1.2.0",
            "_view_name": "LayoutView",
            "align_content": null,
            "align_items": null,
            "align_self": null,
            "border": null,
            "bottom": null,
            "display": null,
            "flex": null,
            "flex_flow": null,
            "grid_area": null,
            "grid_auto_columns": null,
            "grid_auto_flow": null,
            "grid_auto_rows": null,
            "grid_column": null,
            "grid_gap": null,
            "grid_row": null,
            "grid_template_areas": null,
            "grid_template_columns": null,
            "grid_template_rows": null,
            "height": null,
            "justify_content": null,
            "justify_items": null,
            "left": null,
            "margin": null,
            "max_height": null,
            "max_width": null,
            "min_height": null,
            "min_width": null,
            "object_fit": null,
            "object_position": null,
            "order": null,
            "overflow": null,
            "overflow_x": null,
            "overflow_y": null,
            "padding": null,
            "right": null,
            "top": null,
            "visibility": null,
            "width": null
          }
        },
        "4b7c3f2d70c74067be8b6e89029c53dc": {
          "model_module": "@jupyter-widgets/base",
          "model_name": "LayoutModel",
          "model_module_version": "1.2.0",
          "state": {
            "_model_module": "@jupyter-widgets/base",
            "_model_module_version": "1.2.0",
            "_model_name": "LayoutModel",
            "_view_count": null,
            "_view_module": "@jupyter-widgets/base",
            "_view_module_version": "1.2.0",
            "_view_name": "LayoutView",
            "align_content": null,
            "align_items": null,
            "align_self": null,
            "border": null,
            "bottom": null,
            "display": null,
            "flex": null,
            "flex_flow": null,
            "grid_area": null,
            "grid_auto_columns": null,
            "grid_auto_flow": null,
            "grid_auto_rows": null,
            "grid_column": null,
            "grid_gap": null,
            "grid_row": null,
            "grid_template_areas": null,
            "grid_template_columns": null,
            "grid_template_rows": null,
            "height": null,
            "justify_content": null,
            "justify_items": null,
            "left": null,
            "margin": null,
            "max_height": null,
            "max_width": null,
            "min_height": null,
            "min_width": null,
            "object_fit": null,
            "object_position": null,
            "order": null,
            "overflow": null,
            "overflow_x": null,
            "overflow_y": null,
            "padding": null,
            "right": null,
            "top": null,
            "visibility": null,
            "width": null
          }
        },
        "8e18a4fd327f483b959d0a7be37a13d0": {
          "model_module": "@jupyter-widgets/controls",
          "model_name": "DescriptionStyleModel",
          "model_module_version": "1.5.0",
          "state": {
            "_model_module": "@jupyter-widgets/controls",
            "_model_module_version": "1.5.0",
            "_model_name": "DescriptionStyleModel",
            "_view_count": null,
            "_view_module": "@jupyter-widgets/base",
            "_view_module_version": "1.2.0",
            "_view_name": "StyleView",
            "description_width": ""
          }
        },
        "e88ceac488404e389eccfd89d8c2a333": {
          "model_module": "@jupyter-widgets/base",
          "model_name": "LayoutModel",
          "model_module_version": "1.2.0",
          "state": {
            "_model_module": "@jupyter-widgets/base",
            "_model_module_version": "1.2.0",
            "_model_name": "LayoutModel",
            "_view_count": null,
            "_view_module": "@jupyter-widgets/base",
            "_view_module_version": "1.2.0",
            "_view_name": "LayoutView",
            "align_content": null,
            "align_items": null,
            "align_self": null,
            "border": null,
            "bottom": null,
            "display": null,
            "flex": null,
            "flex_flow": null,
            "grid_area": null,
            "grid_auto_columns": null,
            "grid_auto_flow": null,
            "grid_auto_rows": null,
            "grid_column": null,
            "grid_gap": null,
            "grid_row": null,
            "grid_template_areas": null,
            "grid_template_columns": null,
            "grid_template_rows": null,
            "height": null,
            "justify_content": null,
            "justify_items": null,
            "left": null,
            "margin": null,
            "max_height": null,
            "max_width": null,
            "min_height": null,
            "min_width": null,
            "object_fit": null,
            "object_position": null,
            "order": null,
            "overflow": null,
            "overflow_x": null,
            "overflow_y": null,
            "padding": null,
            "right": null,
            "top": null,
            "visibility": null,
            "width": null
          }
        },
        "bff7ddc3438e47319dd0ece05d39af43": {
          "model_module": "@jupyter-widgets/controls",
          "model_name": "ProgressStyleModel",
          "model_module_version": "1.5.0",
          "state": {
            "_model_module": "@jupyter-widgets/controls",
            "_model_module_version": "1.5.0",
            "_model_name": "ProgressStyleModel",
            "_view_count": null,
            "_view_module": "@jupyter-widgets/base",
            "_view_module_version": "1.2.0",
            "_view_name": "StyleView",
            "bar_color": null,
            "description_width": ""
          }
        },
        "b39175c7640f4072827257a958dd6d5d": {
          "model_module": "@jupyter-widgets/base",
          "model_name": "LayoutModel",
          "model_module_version": "1.2.0",
          "state": {
            "_model_module": "@jupyter-widgets/base",
            "_model_module_version": "1.2.0",
            "_model_name": "LayoutModel",
            "_view_count": null,
            "_view_module": "@jupyter-widgets/base",
            "_view_module_version": "1.2.0",
            "_view_name": "LayoutView",
            "align_content": null,
            "align_items": null,
            "align_self": null,
            "border": null,
            "bottom": null,
            "display": null,
            "flex": null,
            "flex_flow": null,
            "grid_area": null,
            "grid_auto_columns": null,
            "grid_auto_flow": null,
            "grid_auto_rows": null,
            "grid_column": null,
            "grid_gap": null,
            "grid_row": null,
            "grid_template_areas": null,
            "grid_template_columns": null,
            "grid_template_rows": null,
            "height": null,
            "justify_content": null,
            "justify_items": null,
            "left": null,
            "margin": null,
            "max_height": null,
            "max_width": null,
            "min_height": null,
            "min_width": null,
            "object_fit": null,
            "object_position": null,
            "order": null,
            "overflow": null,
            "overflow_x": null,
            "overflow_y": null,
            "padding": null,
            "right": null,
            "top": null,
            "visibility": null,
            "width": null
          }
        },
        "415d0bcf45344d6687693d50445d1056": {
          "model_module": "@jupyter-widgets/controls",
          "model_name": "DescriptionStyleModel",
          "model_module_version": "1.5.0",
          "state": {
            "_model_module": "@jupyter-widgets/controls",
            "_model_module_version": "1.5.0",
            "_model_name": "DescriptionStyleModel",
            "_view_count": null,
            "_view_module": "@jupyter-widgets/base",
            "_view_module_version": "1.2.0",
            "_view_name": "StyleView",
            "description_width": ""
          }
        },
        "f106f13a7676479b85d0f2c219fb61bb": {
          "model_module": "@jupyter-widgets/controls",
          "model_name": "HBoxModel",
          "model_module_version": "1.5.0",
          "state": {
            "_dom_classes": [],
            "_model_module": "@jupyter-widgets/controls",
            "_model_module_version": "1.5.0",
            "_model_name": "HBoxModel",
            "_view_count": null,
            "_view_module": "@jupyter-widgets/controls",
            "_view_module_version": "1.5.0",
            "_view_name": "HBoxView",
            "box_style": "",
            "children": [
              "IPY_MODEL_c53ea1fcfc3143ec80da226f0be60420",
              "IPY_MODEL_3939dc77bad84dbbb038acfd512fc85a",
              "IPY_MODEL_765b0d061b8c4ea4a04cab247258cfd8"
            ],
            "layout": "IPY_MODEL_02b8e385082e46bb99a4cce3d416ba5f"
          }
        },
        "c53ea1fcfc3143ec80da226f0be60420": {
          "model_module": "@jupyter-widgets/controls",
          "model_name": "HTMLModel",
          "model_module_version": "1.5.0",
          "state": {
            "_dom_classes": [],
            "_model_module": "@jupyter-widgets/controls",
            "_model_module_version": "1.5.0",
            "_model_name": "HTMLModel",
            "_view_count": null,
            "_view_module": "@jupyter-widgets/controls",
            "_view_module_version": "1.5.0",
            "_view_name": "HTMLView",
            "description": "",
            "description_tooltip": null,
            "layout": "IPY_MODEL_897238f8a8df480c8c77915e1edf19f0",
            "placeholder": "​",
            "style": "IPY_MODEL_596fcaac5b334a399ef7d033aa992377",
            "value": "config.json: 100%"
          }
        },
        "3939dc77bad84dbbb038acfd512fc85a": {
          "model_module": "@jupyter-widgets/controls",
          "model_name": "FloatProgressModel",
          "model_module_version": "1.5.0",
          "state": {
            "_dom_classes": [],
            "_model_module": "@jupyter-widgets/controls",
            "_model_module_version": "1.5.0",
            "_model_name": "FloatProgressModel",
            "_view_count": null,
            "_view_module": "@jupyter-widgets/controls",
            "_view_module_version": "1.5.0",
            "_view_name": "ProgressView",
            "bar_style": "success",
            "description": "",
            "description_tooltip": null,
            "layout": "IPY_MODEL_79f33551cb3a462fb4c617ceb03c1632",
            "max": 1120,
            "min": 0,
            "orientation": "horizontal",
            "style": "IPY_MODEL_b56cdf59534c4040ad1f3a5b578314a8",
            "value": 1120
          }
        },
        "765b0d061b8c4ea4a04cab247258cfd8": {
          "model_module": "@jupyter-widgets/controls",
          "model_name": "HTMLModel",
          "model_module_version": "1.5.0",
          "state": {
            "_dom_classes": [],
            "_model_module": "@jupyter-widgets/controls",
            "_model_module_version": "1.5.0",
            "_model_name": "HTMLModel",
            "_view_count": null,
            "_view_module": "@jupyter-widgets/controls",
            "_view_module_version": "1.5.0",
            "_view_name": "HTMLView",
            "description": "",
            "description_tooltip": null,
            "layout": "IPY_MODEL_604859082f6e48e2b0a13f14edc38bb7",
            "placeholder": "​",
            "style": "IPY_MODEL_e092b9f9fa81475fa64e64e3dc817b7b",
            "value": " 1.12k/1.12k [00:00&lt;00:00, 77.4kB/s]"
          }
        },
        "02b8e385082e46bb99a4cce3d416ba5f": {
          "model_module": "@jupyter-widgets/base",
          "model_name": "LayoutModel",
          "model_module_version": "1.2.0",
          "state": {
            "_model_module": "@jupyter-widgets/base",
            "_model_module_version": "1.2.0",
            "_model_name": "LayoutModel",
            "_view_count": null,
            "_view_module": "@jupyter-widgets/base",
            "_view_module_version": "1.2.0",
            "_view_name": "LayoutView",
            "align_content": null,
            "align_items": null,
            "align_self": null,
            "border": null,
            "bottom": null,
            "display": null,
            "flex": null,
            "flex_flow": null,
            "grid_area": null,
            "grid_auto_columns": null,
            "grid_auto_flow": null,
            "grid_auto_rows": null,
            "grid_column": null,
            "grid_gap": null,
            "grid_row": null,
            "grid_template_areas": null,
            "grid_template_columns": null,
            "grid_template_rows": null,
            "height": null,
            "justify_content": null,
            "justify_items": null,
            "left": null,
            "margin": null,
            "max_height": null,
            "max_width": null,
            "min_height": null,
            "min_width": null,
            "object_fit": null,
            "object_position": null,
            "order": null,
            "overflow": null,
            "overflow_x": null,
            "overflow_y": null,
            "padding": null,
            "right": null,
            "top": null,
            "visibility": null,
            "width": null
          }
        },
        "897238f8a8df480c8c77915e1edf19f0": {
          "model_module": "@jupyter-widgets/base",
          "model_name": "LayoutModel",
          "model_module_version": "1.2.0",
          "state": {
            "_model_module": "@jupyter-widgets/base",
            "_model_module_version": "1.2.0",
            "_model_name": "LayoutModel",
            "_view_count": null,
            "_view_module": "@jupyter-widgets/base",
            "_view_module_version": "1.2.0",
            "_view_name": "LayoutView",
            "align_content": null,
            "align_items": null,
            "align_self": null,
            "border": null,
            "bottom": null,
            "display": null,
            "flex": null,
            "flex_flow": null,
            "grid_area": null,
            "grid_auto_columns": null,
            "grid_auto_flow": null,
            "grid_auto_rows": null,
            "grid_column": null,
            "grid_gap": null,
            "grid_row": null,
            "grid_template_areas": null,
            "grid_template_columns": null,
            "grid_template_rows": null,
            "height": null,
            "justify_content": null,
            "justify_items": null,
            "left": null,
            "margin": null,
            "max_height": null,
            "max_width": null,
            "min_height": null,
            "min_width": null,
            "object_fit": null,
            "object_position": null,
            "order": null,
            "overflow": null,
            "overflow_x": null,
            "overflow_y": null,
            "padding": null,
            "right": null,
            "top": null,
            "visibility": null,
            "width": null
          }
        },
        "596fcaac5b334a399ef7d033aa992377": {
          "model_module": "@jupyter-widgets/controls",
          "model_name": "DescriptionStyleModel",
          "model_module_version": "1.5.0",
          "state": {
            "_model_module": "@jupyter-widgets/controls",
            "_model_module_version": "1.5.0",
            "_model_name": "DescriptionStyleModel",
            "_view_count": null,
            "_view_module": "@jupyter-widgets/base",
            "_view_module_version": "1.2.0",
            "_view_name": "StyleView",
            "description_width": ""
          }
        },
        "79f33551cb3a462fb4c617ceb03c1632": {
          "model_module": "@jupyter-widgets/base",
          "model_name": "LayoutModel",
          "model_module_version": "1.2.0",
          "state": {
            "_model_module": "@jupyter-widgets/base",
            "_model_module_version": "1.2.0",
            "_model_name": "LayoutModel",
            "_view_count": null,
            "_view_module": "@jupyter-widgets/base",
            "_view_module_version": "1.2.0",
            "_view_name": "LayoutView",
            "align_content": null,
            "align_items": null,
            "align_self": null,
            "border": null,
            "bottom": null,
            "display": null,
            "flex": null,
            "flex_flow": null,
            "grid_area": null,
            "grid_auto_columns": null,
            "grid_auto_flow": null,
            "grid_auto_rows": null,
            "grid_column": null,
            "grid_gap": null,
            "grid_row": null,
            "grid_template_areas": null,
            "grid_template_columns": null,
            "grid_template_rows": null,
            "height": null,
            "justify_content": null,
            "justify_items": null,
            "left": null,
            "margin": null,
            "max_height": null,
            "max_width": null,
            "min_height": null,
            "min_width": null,
            "object_fit": null,
            "object_position": null,
            "order": null,
            "overflow": null,
            "overflow_x": null,
            "overflow_y": null,
            "padding": null,
            "right": null,
            "top": null,
            "visibility": null,
            "width": null
          }
        },
        "b56cdf59534c4040ad1f3a5b578314a8": {
          "model_module": "@jupyter-widgets/controls",
          "model_name": "ProgressStyleModel",
          "model_module_version": "1.5.0",
          "state": {
            "_model_module": "@jupyter-widgets/controls",
            "_model_module_version": "1.5.0",
            "_model_name": "ProgressStyleModel",
            "_view_count": null,
            "_view_module": "@jupyter-widgets/base",
            "_view_module_version": "1.2.0",
            "_view_name": "StyleView",
            "bar_color": null,
            "description_width": ""
          }
        },
        "604859082f6e48e2b0a13f14edc38bb7": {
          "model_module": "@jupyter-widgets/base",
          "model_name": "LayoutModel",
          "model_module_version": "1.2.0",
          "state": {
            "_model_module": "@jupyter-widgets/base",
            "_model_module_version": "1.2.0",
            "_model_name": "LayoutModel",
            "_view_count": null,
            "_view_module": "@jupyter-widgets/base",
            "_view_module_version": "1.2.0",
            "_view_name": "LayoutView",
            "align_content": null,
            "align_items": null,
            "align_self": null,
            "border": null,
            "bottom": null,
            "display": null,
            "flex": null,
            "flex_flow": null,
            "grid_area": null,
            "grid_auto_columns": null,
            "grid_auto_flow": null,
            "grid_auto_rows": null,
            "grid_column": null,
            "grid_gap": null,
            "grid_row": null,
            "grid_template_areas": null,
            "grid_template_columns": null,
            "grid_template_rows": null,
            "height": null,
            "justify_content": null,
            "justify_items": null,
            "left": null,
            "margin": null,
            "max_height": null,
            "max_width": null,
            "min_height": null,
            "min_width": null,
            "object_fit": null,
            "object_position": null,
            "order": null,
            "overflow": null,
            "overflow_x": null,
            "overflow_y": null,
            "padding": null,
            "right": null,
            "top": null,
            "visibility": null,
            "width": null
          }
        },
        "e092b9f9fa81475fa64e64e3dc817b7b": {
          "model_module": "@jupyter-widgets/controls",
          "model_name": "DescriptionStyleModel",
          "model_module_version": "1.5.0",
          "state": {
            "_model_module": "@jupyter-widgets/controls",
            "_model_module_version": "1.5.0",
            "_model_name": "DescriptionStyleModel",
            "_view_count": null,
            "_view_module": "@jupyter-widgets/base",
            "_view_module_version": "1.2.0",
            "_view_name": "StyleView",
            "description_width": ""
          }
        },
        "25664065ec6a44b7b483a3e1d1f2c41a": {
          "model_module": "@jupyter-widgets/controls",
          "model_name": "HBoxModel",
          "model_module_version": "1.5.0",
          "state": {
            "_dom_classes": [],
            "_model_module": "@jupyter-widgets/controls",
            "_model_module_version": "1.5.0",
            "_model_name": "HBoxModel",
            "_view_count": null,
            "_view_module": "@jupyter-widgets/controls",
            "_view_module_version": "1.5.0",
            "_view_name": "HBoxView",
            "box_style": "",
            "children": [
              "IPY_MODEL_ee1a4091041d4739ac859d0a4ad4bf9f",
              "IPY_MODEL_42631f4ec201483d9e6624ed6d1be80c",
              "IPY_MODEL_1ebe9d6cb83e4354a75c5b2c62519c46"
            ],
            "layout": "IPY_MODEL_eb3c40dbf17d4089a5c5b8a5d9d914fe"
          }
        },
        "ee1a4091041d4739ac859d0a4ad4bf9f": {
          "model_module": "@jupyter-widgets/controls",
          "model_name": "HTMLModel",
          "model_module_version": "1.5.0",
          "state": {
            "_dom_classes": [],
            "_model_module": "@jupyter-widgets/controls",
            "_model_module_version": "1.5.0",
            "_model_name": "HTMLModel",
            "_view_count": null,
            "_view_module": "@jupyter-widgets/controls",
            "_view_module_version": "1.5.0",
            "_view_name": "HTMLView",
            "description": "",
            "description_tooltip": null,
            "layout": "IPY_MODEL_6137752f98444e79b77e0600abfdd1e2",
            "placeholder": "​",
            "style": "IPY_MODEL_23196e2a87ce452b8c0ff333b9c750e1",
            "value": "spiece.model: 100%"
          }
        },
        "42631f4ec201483d9e6624ed6d1be80c": {
          "model_module": "@jupyter-widgets/controls",
          "model_name": "FloatProgressModel",
          "model_module_version": "1.5.0",
          "state": {
            "_dom_classes": [],
            "_model_module": "@jupyter-widgets/controls",
            "_model_module_version": "1.5.0",
            "_model_name": "FloatProgressModel",
            "_view_count": null,
            "_view_module": "@jupyter-widgets/controls",
            "_view_module_version": "1.5.0",
            "_view_name": "ProgressView",
            "bar_style": "success",
            "description": "",
            "description_tooltip": null,
            "layout": "IPY_MODEL_3bff65ea42f744b69dcccfc13c1e40e5",
            "max": 1912529,
            "min": 0,
            "orientation": "horizontal",
            "style": "IPY_MODEL_13c1b66c651145b1b5e884a3306f2dd7",
            "value": 1912529
          }
        },
        "1ebe9d6cb83e4354a75c5b2c62519c46": {
          "model_module": "@jupyter-widgets/controls",
          "model_name": "HTMLModel",
          "model_module_version": "1.5.0",
          "state": {
            "_dom_classes": [],
            "_model_module": "@jupyter-widgets/controls",
            "_model_module_version": "1.5.0",
            "_model_name": "HTMLModel",
            "_view_count": null,
            "_view_module": "@jupyter-widgets/controls",
            "_view_module_version": "1.5.0",
            "_view_name": "HTMLView",
            "description": "",
            "description_tooltip": null,
            "layout": "IPY_MODEL_3c2aaf3e8b7c4ce18b0f15a2a7741a01",
            "placeholder": "​",
            "style": "IPY_MODEL_3264d95089a4468f96f7c6aad2650f53",
            "value": " 1.91M/1.91M [00:00&lt;00:00, 23.7MB/s]"
          }
        },
        "eb3c40dbf17d4089a5c5b8a5d9d914fe": {
          "model_module": "@jupyter-widgets/base",
          "model_name": "LayoutModel",
          "model_module_version": "1.2.0",
          "state": {
            "_model_module": "@jupyter-widgets/base",
            "_model_module_version": "1.2.0",
            "_model_name": "LayoutModel",
            "_view_count": null,
            "_view_module": "@jupyter-widgets/base",
            "_view_module_version": "1.2.0",
            "_view_name": "LayoutView",
            "align_content": null,
            "align_items": null,
            "align_self": null,
            "border": null,
            "bottom": null,
            "display": null,
            "flex": null,
            "flex_flow": null,
            "grid_area": null,
            "grid_auto_columns": null,
            "grid_auto_flow": null,
            "grid_auto_rows": null,
            "grid_column": null,
            "grid_gap": null,
            "grid_row": null,
            "grid_template_areas": null,
            "grid_template_columns": null,
            "grid_template_rows": null,
            "height": null,
            "justify_content": null,
            "justify_items": null,
            "left": null,
            "margin": null,
            "max_height": null,
            "max_width": null,
            "min_height": null,
            "min_width": null,
            "object_fit": null,
            "object_position": null,
            "order": null,
            "overflow": null,
            "overflow_x": null,
            "overflow_y": null,
            "padding": null,
            "right": null,
            "top": null,
            "visibility": null,
            "width": null
          }
        },
        "6137752f98444e79b77e0600abfdd1e2": {
          "model_module": "@jupyter-widgets/base",
          "model_name": "LayoutModel",
          "model_module_version": "1.2.0",
          "state": {
            "_model_module": "@jupyter-widgets/base",
            "_model_module_version": "1.2.0",
            "_model_name": "LayoutModel",
            "_view_count": null,
            "_view_module": "@jupyter-widgets/base",
            "_view_module_version": "1.2.0",
            "_view_name": "LayoutView",
            "align_content": null,
            "align_items": null,
            "align_self": null,
            "border": null,
            "bottom": null,
            "display": null,
            "flex": null,
            "flex_flow": null,
            "grid_area": null,
            "grid_auto_columns": null,
            "grid_auto_flow": null,
            "grid_auto_rows": null,
            "grid_column": null,
            "grid_gap": null,
            "grid_row": null,
            "grid_template_areas": null,
            "grid_template_columns": null,
            "grid_template_rows": null,
            "height": null,
            "justify_content": null,
            "justify_items": null,
            "left": null,
            "margin": null,
            "max_height": null,
            "max_width": null,
            "min_height": null,
            "min_width": null,
            "object_fit": null,
            "object_position": null,
            "order": null,
            "overflow": null,
            "overflow_x": null,
            "overflow_y": null,
            "padding": null,
            "right": null,
            "top": null,
            "visibility": null,
            "width": null
          }
        },
        "23196e2a87ce452b8c0ff333b9c750e1": {
          "model_module": "@jupyter-widgets/controls",
          "model_name": "DescriptionStyleModel",
          "model_module_version": "1.5.0",
          "state": {
            "_model_module": "@jupyter-widgets/controls",
            "_model_module_version": "1.5.0",
            "_model_name": "DescriptionStyleModel",
            "_view_count": null,
            "_view_module": "@jupyter-widgets/base",
            "_view_module_version": "1.2.0",
            "_view_name": "StyleView",
            "description_width": ""
          }
        },
        "3bff65ea42f744b69dcccfc13c1e40e5": {
          "model_module": "@jupyter-widgets/base",
          "model_name": "LayoutModel",
          "model_module_version": "1.2.0",
          "state": {
            "_model_module": "@jupyter-widgets/base",
            "_model_module_version": "1.2.0",
            "_model_name": "LayoutModel",
            "_view_count": null,
            "_view_module": "@jupyter-widgets/base",
            "_view_module_version": "1.2.0",
            "_view_name": "LayoutView",
            "align_content": null,
            "align_items": null,
            "align_self": null,
            "border": null,
            "bottom": null,
            "display": null,
            "flex": null,
            "flex_flow": null,
            "grid_area": null,
            "grid_auto_columns": null,
            "grid_auto_flow": null,
            "grid_auto_rows": null,
            "grid_column": null,
            "grid_gap": null,
            "grid_row": null,
            "grid_template_areas": null,
            "grid_template_columns": null,
            "grid_template_rows": null,
            "height": null,
            "justify_content": null,
            "justify_items": null,
            "left": null,
            "margin": null,
            "max_height": null,
            "max_width": null,
            "min_height": null,
            "min_width": null,
            "object_fit": null,
            "object_position": null,
            "order": null,
            "overflow": null,
            "overflow_x": null,
            "overflow_y": null,
            "padding": null,
            "right": null,
            "top": null,
            "visibility": null,
            "width": null
          }
        },
        "13c1b66c651145b1b5e884a3306f2dd7": {
          "model_module": "@jupyter-widgets/controls",
          "model_name": "ProgressStyleModel",
          "model_module_version": "1.5.0",
          "state": {
            "_model_module": "@jupyter-widgets/controls",
            "_model_module_version": "1.5.0",
            "_model_name": "ProgressStyleModel",
            "_view_count": null,
            "_view_module": "@jupyter-widgets/base",
            "_view_module_version": "1.2.0",
            "_view_name": "StyleView",
            "bar_color": null,
            "description_width": ""
          }
        },
        "3c2aaf3e8b7c4ce18b0f15a2a7741a01": {
          "model_module": "@jupyter-widgets/base",
          "model_name": "LayoutModel",
          "model_module_version": "1.2.0",
          "state": {
            "_model_module": "@jupyter-widgets/base",
            "_model_module_version": "1.2.0",
            "_model_name": "LayoutModel",
            "_view_count": null,
            "_view_module": "@jupyter-widgets/base",
            "_view_module_version": "1.2.0",
            "_view_name": "LayoutView",
            "align_content": null,
            "align_items": null,
            "align_self": null,
            "border": null,
            "bottom": null,
            "display": null,
            "flex": null,
            "flex_flow": null,
            "grid_area": null,
            "grid_auto_columns": null,
            "grid_auto_flow": null,
            "grid_auto_rows": null,
            "grid_column": null,
            "grid_gap": null,
            "grid_row": null,
            "grid_template_areas": null,
            "grid_template_columns": null,
            "grid_template_rows": null,
            "height": null,
            "justify_content": null,
            "justify_items": null,
            "left": null,
            "margin": null,
            "max_height": null,
            "max_width": null,
            "min_height": null,
            "min_width": null,
            "object_fit": null,
            "object_position": null,
            "order": null,
            "overflow": null,
            "overflow_x": null,
            "overflow_y": null,
            "padding": null,
            "right": null,
            "top": null,
            "visibility": null,
            "width": null
          }
        },
        "3264d95089a4468f96f7c6aad2650f53": {
          "model_module": "@jupyter-widgets/controls",
          "model_name": "DescriptionStyleModel",
          "model_module_version": "1.5.0",
          "state": {
            "_model_module": "@jupyter-widgets/controls",
            "_model_module_version": "1.5.0",
            "_model_name": "DescriptionStyleModel",
            "_view_count": null,
            "_view_module": "@jupyter-widgets/base",
            "_view_module_version": "1.2.0",
            "_view_name": "StyleView",
            "description_width": ""
          }
        },
        "c5b48cff638c489090d675f8ddb561de": {
          "model_module": "@jupyter-widgets/controls",
          "model_name": "HBoxModel",
          "model_module_version": "1.5.0",
          "state": {
            "_dom_classes": [],
            "_model_module": "@jupyter-widgets/controls",
            "_model_module_version": "1.5.0",
            "_model_name": "HBoxModel",
            "_view_count": null,
            "_view_module": "@jupyter-widgets/controls",
            "_view_module_version": "1.5.0",
            "_view_name": "HBoxView",
            "box_style": "",
            "children": [
              "IPY_MODEL_f9b387696f2041e196fb84b20188af2f",
              "IPY_MODEL_9461f446272548dfac7ebe474c0199a8",
              "IPY_MODEL_ccb5c759a8cb412f88b03f8df918af97"
            ],
            "layout": "IPY_MODEL_23dca6507ec042f198f595554ef59921"
          }
        },
        "f9b387696f2041e196fb84b20188af2f": {
          "model_module": "@jupyter-widgets/controls",
          "model_name": "HTMLModel",
          "model_module_version": "1.5.0",
          "state": {
            "_dom_classes": [],
            "_model_module": "@jupyter-widgets/controls",
            "_model_module_version": "1.5.0",
            "_model_name": "HTMLModel",
            "_view_count": null,
            "_view_module": "@jupyter-widgets/controls",
            "_view_module_version": "1.5.0",
            "_view_name": "HTMLView",
            "description": "",
            "description_tooltip": null,
            "layout": "IPY_MODEL_bda74ed9d1d54a9cb393672e5e24ddc5",
            "placeholder": "​",
            "style": "IPY_MODEL_b2e70b8bb94c46b89ec1561eece8d765",
            "value": "special_tokens_map.json: 100%"
          }
        },
        "9461f446272548dfac7ebe474c0199a8": {
          "model_module": "@jupyter-widgets/controls",
          "model_name": "FloatProgressModel",
          "model_module_version": "1.5.0",
          "state": {
            "_dom_classes": [],
            "_model_module": "@jupyter-widgets/controls",
            "_model_module_version": "1.5.0",
            "_model_name": "FloatProgressModel",
            "_view_count": null,
            "_view_module": "@jupyter-widgets/controls",
            "_view_module_version": "1.5.0",
            "_view_name": "ProgressView",
            "bar_style": "success",
            "description": "",
            "description_tooltip": null,
            "layout": "IPY_MODEL_c730a148efbb46cb82cc5082502d1f81",
            "max": 65,
            "min": 0,
            "orientation": "horizontal",
            "style": "IPY_MODEL_8c0f08010391456a8753e2d6b1ebcae5",
            "value": 65
          }
        },
        "ccb5c759a8cb412f88b03f8df918af97": {
          "model_module": "@jupyter-widgets/controls",
          "model_name": "HTMLModel",
          "model_module_version": "1.5.0",
          "state": {
            "_dom_classes": [],
            "_model_module": "@jupyter-widgets/controls",
            "_model_module_version": "1.5.0",
            "_model_name": "HTMLModel",
            "_view_count": null,
            "_view_module": "@jupyter-widgets/controls",
            "_view_module_version": "1.5.0",
            "_view_name": "HTMLView",
            "description": "",
            "description_tooltip": null,
            "layout": "IPY_MODEL_4d5f59821ee44d719f88c52edbc74ef1",
            "placeholder": "​",
            "style": "IPY_MODEL_0ecf637e26e54d6b8a79139726068efb",
            "value": " 65.0/65.0 [00:00&lt;00:00, 3.94kB/s]"
          }
        },
        "23dca6507ec042f198f595554ef59921": {
          "model_module": "@jupyter-widgets/base",
          "model_name": "LayoutModel",
          "model_module_version": "1.2.0",
          "state": {
            "_model_module": "@jupyter-widgets/base",
            "_model_module_version": "1.2.0",
            "_model_name": "LayoutModel",
            "_view_count": null,
            "_view_module": "@jupyter-widgets/base",
            "_view_module_version": "1.2.0",
            "_view_name": "LayoutView",
            "align_content": null,
            "align_items": null,
            "align_self": null,
            "border": null,
            "bottom": null,
            "display": null,
            "flex": null,
            "flex_flow": null,
            "grid_area": null,
            "grid_auto_columns": null,
            "grid_auto_flow": null,
            "grid_auto_rows": null,
            "grid_column": null,
            "grid_gap": null,
            "grid_row": null,
            "grid_template_areas": null,
            "grid_template_columns": null,
            "grid_template_rows": null,
            "height": null,
            "justify_content": null,
            "justify_items": null,
            "left": null,
            "margin": null,
            "max_height": null,
            "max_width": null,
            "min_height": null,
            "min_width": null,
            "object_fit": null,
            "object_position": null,
            "order": null,
            "overflow": null,
            "overflow_x": null,
            "overflow_y": null,
            "padding": null,
            "right": null,
            "top": null,
            "visibility": null,
            "width": null
          }
        },
        "bda74ed9d1d54a9cb393672e5e24ddc5": {
          "model_module": "@jupyter-widgets/base",
          "model_name": "LayoutModel",
          "model_module_version": "1.2.0",
          "state": {
            "_model_module": "@jupyter-widgets/base",
            "_model_module_version": "1.2.0",
            "_model_name": "LayoutModel",
            "_view_count": null,
            "_view_module": "@jupyter-widgets/base",
            "_view_module_version": "1.2.0",
            "_view_name": "LayoutView",
            "align_content": null,
            "align_items": null,
            "align_self": null,
            "border": null,
            "bottom": null,
            "display": null,
            "flex": null,
            "flex_flow": null,
            "grid_area": null,
            "grid_auto_columns": null,
            "grid_auto_flow": null,
            "grid_auto_rows": null,
            "grid_column": null,
            "grid_gap": null,
            "grid_row": null,
            "grid_template_areas": null,
            "grid_template_columns": null,
            "grid_template_rows": null,
            "height": null,
            "justify_content": null,
            "justify_items": null,
            "left": null,
            "margin": null,
            "max_height": null,
            "max_width": null,
            "min_height": null,
            "min_width": null,
            "object_fit": null,
            "object_position": null,
            "order": null,
            "overflow": null,
            "overflow_x": null,
            "overflow_y": null,
            "padding": null,
            "right": null,
            "top": null,
            "visibility": null,
            "width": null
          }
        },
        "b2e70b8bb94c46b89ec1561eece8d765": {
          "model_module": "@jupyter-widgets/controls",
          "model_name": "DescriptionStyleModel",
          "model_module_version": "1.5.0",
          "state": {
            "_model_module": "@jupyter-widgets/controls",
            "_model_module_version": "1.5.0",
            "_model_name": "DescriptionStyleModel",
            "_view_count": null,
            "_view_module": "@jupyter-widgets/base",
            "_view_module_version": "1.2.0",
            "_view_name": "StyleView",
            "description_width": ""
          }
        },
        "c730a148efbb46cb82cc5082502d1f81": {
          "model_module": "@jupyter-widgets/base",
          "model_name": "LayoutModel",
          "model_module_version": "1.2.0",
          "state": {
            "_model_module": "@jupyter-widgets/base",
            "_model_module_version": "1.2.0",
            "_model_name": "LayoutModel",
            "_view_count": null,
            "_view_module": "@jupyter-widgets/base",
            "_view_module_version": "1.2.0",
            "_view_name": "LayoutView",
            "align_content": null,
            "align_items": null,
            "align_self": null,
            "border": null,
            "bottom": null,
            "display": null,
            "flex": null,
            "flex_flow": null,
            "grid_area": null,
            "grid_auto_columns": null,
            "grid_auto_flow": null,
            "grid_auto_rows": null,
            "grid_column": null,
            "grid_gap": null,
            "grid_row": null,
            "grid_template_areas": null,
            "grid_template_columns": null,
            "grid_template_rows": null,
            "height": null,
            "justify_content": null,
            "justify_items": null,
            "left": null,
            "margin": null,
            "max_height": null,
            "max_width": null,
            "min_height": null,
            "min_width": null,
            "object_fit": null,
            "object_position": null,
            "order": null,
            "overflow": null,
            "overflow_x": null,
            "overflow_y": null,
            "padding": null,
            "right": null,
            "top": null,
            "visibility": null,
            "width": null
          }
        },
        "8c0f08010391456a8753e2d6b1ebcae5": {
          "model_module": "@jupyter-widgets/controls",
          "model_name": "ProgressStyleModel",
          "model_module_version": "1.5.0",
          "state": {
            "_model_module": "@jupyter-widgets/controls",
            "_model_module_version": "1.5.0",
            "_model_name": "ProgressStyleModel",
            "_view_count": null,
            "_view_module": "@jupyter-widgets/base",
            "_view_module_version": "1.2.0",
            "_view_name": "StyleView",
            "bar_color": null,
            "description_width": ""
          }
        },
        "4d5f59821ee44d719f88c52edbc74ef1": {
          "model_module": "@jupyter-widgets/base",
          "model_name": "LayoutModel",
          "model_module_version": "1.2.0",
          "state": {
            "_model_module": "@jupyter-widgets/base",
            "_model_module_version": "1.2.0",
            "_model_name": "LayoutModel",
            "_view_count": null,
            "_view_module": "@jupyter-widgets/base",
            "_view_module_version": "1.2.0",
            "_view_name": "LayoutView",
            "align_content": null,
            "align_items": null,
            "align_self": null,
            "border": null,
            "bottom": null,
            "display": null,
            "flex": null,
            "flex_flow": null,
            "grid_area": null,
            "grid_auto_columns": null,
            "grid_auto_flow": null,
            "grid_auto_rows": null,
            "grid_column": null,
            "grid_gap": null,
            "grid_row": null,
            "grid_template_areas": null,
            "grid_template_columns": null,
            "grid_template_rows": null,
            "height": null,
            "justify_content": null,
            "justify_items": null,
            "left": null,
            "margin": null,
            "max_height": null,
            "max_width": null,
            "min_height": null,
            "min_width": null,
            "object_fit": null,
            "object_position": null,
            "order": null,
            "overflow": null,
            "overflow_x": null,
            "overflow_y": null,
            "padding": null,
            "right": null,
            "top": null,
            "visibility": null,
            "width": null
          }
        },
        "0ecf637e26e54d6b8a79139726068efb": {
          "model_module": "@jupyter-widgets/controls",
          "model_name": "DescriptionStyleModel",
          "model_module_version": "1.5.0",
          "state": {
            "_model_module": "@jupyter-widgets/controls",
            "_model_module_version": "1.5.0",
            "_model_name": "DescriptionStyleModel",
            "_view_count": null,
            "_view_module": "@jupyter-widgets/base",
            "_view_module_version": "1.2.0",
            "_view_name": "StyleView",
            "description_width": ""
          }
        },
        "9288678c59a9441d8da6cfb7f819ecf0": {
          "model_module": "@jupyter-widgets/controls",
          "model_name": "HBoxModel",
          "model_module_version": "1.5.0",
          "state": {
            "_dom_classes": [],
            "_model_module": "@jupyter-widgets/controls",
            "_model_module_version": "1.5.0",
            "_model_name": "HBoxModel",
            "_view_count": null,
            "_view_module": "@jupyter-widgets/controls",
            "_view_module_version": "1.5.0",
            "_view_name": "HBoxView",
            "box_style": "",
            "children": [
              "IPY_MODEL_ce64463924874884a782160797894e62",
              "IPY_MODEL_36e9df7667d1452b9d879ee640f2a435",
              "IPY_MODEL_c44a87e556724de69a80860b87e488e9"
            ],
            "layout": "IPY_MODEL_d862d7bc9fc44fc5a1245fd59a277eba"
          }
        },
        "ce64463924874884a782160797894e62": {
          "model_module": "@jupyter-widgets/controls",
          "model_name": "HTMLModel",
          "model_module_version": "1.5.0",
          "state": {
            "_dom_classes": [],
            "_model_module": "@jupyter-widgets/controls",
            "_model_module_version": "1.5.0",
            "_model_name": "HTMLModel",
            "_view_count": null,
            "_view_module": "@jupyter-widgets/controls",
            "_view_module_version": "1.5.0",
            "_view_name": "HTMLView",
            "description": "",
            "description_tooltip": null,
            "layout": "IPY_MODEL_cd758cdf8f014d548498cee23abf36b9",
            "placeholder": "​",
            "style": "IPY_MODEL_fe0fd3d50e2445a1a363a257eadbf8dc",
            "value": "pytorch_model.bin: 100%"
          }
        },
        "36e9df7667d1452b9d879ee640f2a435": {
          "model_module": "@jupyter-widgets/controls",
          "model_name": "FloatProgressModel",
          "model_module_version": "1.5.0",
          "state": {
            "_dom_classes": [],
            "_model_module": "@jupyter-widgets/controls",
            "_model_module_version": "1.5.0",
            "_model_name": "FloatProgressModel",
            "_view_count": null,
            "_view_module": "@jupyter-widgets/controls",
            "_view_module_version": "1.5.0",
            "_view_name": "ProgressView",
            "bar_style": "success",
            "description": "",
            "description_tooltip": null,
            "layout": "IPY_MODEL_56ef3512378b40f1a8d9c6d60b363a2d",
            "max": 2275327883,
            "min": 0,
            "orientation": "horizontal",
            "style": "IPY_MODEL_68ab4b6e127f44768e6516f933fe9d01",
            "value": 2275327883
          }
        },
        "c44a87e556724de69a80860b87e488e9": {
          "model_module": "@jupyter-widgets/controls",
          "model_name": "HTMLModel",
          "model_module_version": "1.5.0",
          "state": {
            "_dom_classes": [],
            "_model_module": "@jupyter-widgets/controls",
            "_model_module_version": "1.5.0",
            "_model_name": "HTMLModel",
            "_view_count": null,
            "_view_module": "@jupyter-widgets/controls",
            "_view_module_version": "1.5.0",
            "_view_name": "HTMLView",
            "description": "",
            "description_tooltip": null,
            "layout": "IPY_MODEL_573b1eaa8100401ab6b0466314414180",
            "placeholder": "​",
            "style": "IPY_MODEL_92da01ce2d734d20abd4d35791e50c84",
            "value": " 2.28G/2.28G [00:18&lt;00:00, 69.7MB/s]"
          }
        },
        "d862d7bc9fc44fc5a1245fd59a277eba": {
          "model_module": "@jupyter-widgets/base",
          "model_name": "LayoutModel",
          "model_module_version": "1.2.0",
          "state": {
            "_model_module": "@jupyter-widgets/base",
            "_model_module_version": "1.2.0",
            "_model_name": "LayoutModel",
            "_view_count": null,
            "_view_module": "@jupyter-widgets/base",
            "_view_module_version": "1.2.0",
            "_view_name": "LayoutView",
            "align_content": null,
            "align_items": null,
            "align_self": null,
            "border": null,
            "bottom": null,
            "display": null,
            "flex": null,
            "flex_flow": null,
            "grid_area": null,
            "grid_auto_columns": null,
            "grid_auto_flow": null,
            "grid_auto_rows": null,
            "grid_column": null,
            "grid_gap": null,
            "grid_row": null,
            "grid_template_areas": null,
            "grid_template_columns": null,
            "grid_template_rows": null,
            "height": null,
            "justify_content": null,
            "justify_items": null,
            "left": null,
            "margin": null,
            "max_height": null,
            "max_width": null,
            "min_height": null,
            "min_width": null,
            "object_fit": null,
            "object_position": null,
            "order": null,
            "overflow": null,
            "overflow_x": null,
            "overflow_y": null,
            "padding": null,
            "right": null,
            "top": null,
            "visibility": null,
            "width": null
          }
        },
        "cd758cdf8f014d548498cee23abf36b9": {
          "model_module": "@jupyter-widgets/base",
          "model_name": "LayoutModel",
          "model_module_version": "1.2.0",
          "state": {
            "_model_module": "@jupyter-widgets/base",
            "_model_module_version": "1.2.0",
            "_model_name": "LayoutModel",
            "_view_count": null,
            "_view_module": "@jupyter-widgets/base",
            "_view_module_version": "1.2.0",
            "_view_name": "LayoutView",
            "align_content": null,
            "align_items": null,
            "align_self": null,
            "border": null,
            "bottom": null,
            "display": null,
            "flex": null,
            "flex_flow": null,
            "grid_area": null,
            "grid_auto_columns": null,
            "grid_auto_flow": null,
            "grid_auto_rows": null,
            "grid_column": null,
            "grid_gap": null,
            "grid_row": null,
            "grid_template_areas": null,
            "grid_template_columns": null,
            "grid_template_rows": null,
            "height": null,
            "justify_content": null,
            "justify_items": null,
            "left": null,
            "margin": null,
            "max_height": null,
            "max_width": null,
            "min_height": null,
            "min_width": null,
            "object_fit": null,
            "object_position": null,
            "order": null,
            "overflow": null,
            "overflow_x": null,
            "overflow_y": null,
            "padding": null,
            "right": null,
            "top": null,
            "visibility": null,
            "width": null
          }
        },
        "fe0fd3d50e2445a1a363a257eadbf8dc": {
          "model_module": "@jupyter-widgets/controls",
          "model_name": "DescriptionStyleModel",
          "model_module_version": "1.5.0",
          "state": {
            "_model_module": "@jupyter-widgets/controls",
            "_model_module_version": "1.5.0",
            "_model_name": "DescriptionStyleModel",
            "_view_count": null,
            "_view_module": "@jupyter-widgets/base",
            "_view_module_version": "1.2.0",
            "_view_name": "StyleView",
            "description_width": ""
          }
        },
        "56ef3512378b40f1a8d9c6d60b363a2d": {
          "model_module": "@jupyter-widgets/base",
          "model_name": "LayoutModel",
          "model_module_version": "1.2.0",
          "state": {
            "_model_module": "@jupyter-widgets/base",
            "_model_module_version": "1.2.0",
            "_model_name": "LayoutModel",
            "_view_count": null,
            "_view_module": "@jupyter-widgets/base",
            "_view_module_version": "1.2.0",
            "_view_name": "LayoutView",
            "align_content": null,
            "align_items": null,
            "align_self": null,
            "border": null,
            "bottom": null,
            "display": null,
            "flex": null,
            "flex_flow": null,
            "grid_area": null,
            "grid_auto_columns": null,
            "grid_auto_flow": null,
            "grid_auto_rows": null,
            "grid_column": null,
            "grid_gap": null,
            "grid_row": null,
            "grid_template_areas": null,
            "grid_template_columns": null,
            "grid_template_rows": null,
            "height": null,
            "justify_content": null,
            "justify_items": null,
            "left": null,
            "margin": null,
            "max_height": null,
            "max_width": null,
            "min_height": null,
            "min_width": null,
            "object_fit": null,
            "object_position": null,
            "order": null,
            "overflow": null,
            "overflow_x": null,
            "overflow_y": null,
            "padding": null,
            "right": null,
            "top": null,
            "visibility": null,
            "width": null
          }
        },
        "68ab4b6e127f44768e6516f933fe9d01": {
          "model_module": "@jupyter-widgets/controls",
          "model_name": "ProgressStyleModel",
          "model_module_version": "1.5.0",
          "state": {
            "_model_module": "@jupyter-widgets/controls",
            "_model_module_version": "1.5.0",
            "_model_name": "ProgressStyleModel",
            "_view_count": null,
            "_view_module": "@jupyter-widgets/base",
            "_view_module_version": "1.2.0",
            "_view_name": "StyleView",
            "bar_color": null,
            "description_width": ""
          }
        },
        "573b1eaa8100401ab6b0466314414180": {
          "model_module": "@jupyter-widgets/base",
          "model_name": "LayoutModel",
          "model_module_version": "1.2.0",
          "state": {
            "_model_module": "@jupyter-widgets/base",
            "_model_module_version": "1.2.0",
            "_model_name": "LayoutModel",
            "_view_count": null,
            "_view_module": "@jupyter-widgets/base",
            "_view_module_version": "1.2.0",
            "_view_name": "LayoutView",
            "align_content": null,
            "align_items": null,
            "align_self": null,
            "border": null,
            "bottom": null,
            "display": null,
            "flex": null,
            "flex_flow": null,
            "grid_area": null,
            "grid_auto_columns": null,
            "grid_auto_flow": null,
            "grid_auto_rows": null,
            "grid_column": null,
            "grid_gap": null,
            "grid_row": null,
            "grid_template_areas": null,
            "grid_template_columns": null,
            "grid_template_rows": null,
            "height": null,
            "justify_content": null,
            "justify_items": null,
            "left": null,
            "margin": null,
            "max_height": null,
            "max_width": null,
            "min_height": null,
            "min_width": null,
            "object_fit": null,
            "object_position": null,
            "order": null,
            "overflow": null,
            "overflow_x": null,
            "overflow_y": null,
            "padding": null,
            "right": null,
            "top": null,
            "visibility": null,
            "width": null
          }
        },
        "92da01ce2d734d20abd4d35791e50c84": {
          "model_module": "@jupyter-widgets/controls",
          "model_name": "DescriptionStyleModel",
          "model_module_version": "1.5.0",
          "state": {
            "_model_module": "@jupyter-widgets/controls",
            "_model_module_version": "1.5.0",
            "_model_name": "DescriptionStyleModel",
            "_view_count": null,
            "_view_module": "@jupyter-widgets/base",
            "_view_module_version": "1.2.0",
            "_view_name": "StyleView",
            "description_width": ""
          }
        },
        "e3c877861ae54e468afc17306d891899": {
          "model_module": "@jupyter-widgets/controls",
          "model_name": "HBoxModel",
          "model_module_version": "1.5.0",
          "state": {
            "_dom_classes": [],
            "_model_module": "@jupyter-widgets/controls",
            "_model_module_version": "1.5.0",
            "_model_name": "HBoxModel",
            "_view_count": null,
            "_view_module": "@jupyter-widgets/controls",
            "_view_module_version": "1.5.0",
            "_view_name": "HBoxView",
            "box_style": "",
            "children": [
              "IPY_MODEL_c7aee391381d456b91c6cb4df99f9ac0",
              "IPY_MODEL_f5d88ee8081146a6b27c2c66d7c5e149",
              "IPY_MODEL_c2c285759c13458cab10fd03b4fe9d96"
            ],
            "layout": "IPY_MODEL_d23d64c8c99740d5804c1f558f75b6a5"
          }
        },
        "c7aee391381d456b91c6cb4df99f9ac0": {
          "model_module": "@jupyter-widgets/controls",
          "model_name": "HTMLModel",
          "model_module_version": "1.5.0",
          "state": {
            "_dom_classes": [],
            "_model_module": "@jupyter-widgets/controls",
            "_model_module_version": "1.5.0",
            "_model_name": "HTMLModel",
            "_view_count": null,
            "_view_module": "@jupyter-widgets/controls",
            "_view_module_version": "1.5.0",
            "_view_name": "HTMLView",
            "description": "",
            "description_tooltip": null,
            "layout": "IPY_MODEL_c22760be5f1b44dfb6ded1324e3c5e1c",
            "placeholder": "​",
            "style": "IPY_MODEL_cab85d360563446f9ad264e9ec89ca8a",
            "value": "generation_config.json: 100%"
          }
        },
        "f5d88ee8081146a6b27c2c66d7c5e149": {
          "model_module": "@jupyter-widgets/controls",
          "model_name": "FloatProgressModel",
          "model_module_version": "1.5.0",
          "state": {
            "_dom_classes": [],
            "_model_module": "@jupyter-widgets/controls",
            "_model_module_version": "1.5.0",
            "_model_name": "FloatProgressModel",
            "_view_count": null,
            "_view_module": "@jupyter-widgets/controls",
            "_view_module_version": "1.5.0",
            "_view_name": "ProgressView",
            "bar_style": "success",
            "description": "",
            "description_tooltip": null,
            "layout": "IPY_MODEL_7ea2ae237d3040359e0e735d424c6f4b",
            "max": 280,
            "min": 0,
            "orientation": "horizontal",
            "style": "IPY_MODEL_a154797443d045529e76fcc8c69215a6",
            "value": 280
          }
        },
        "c2c285759c13458cab10fd03b4fe9d96": {
          "model_module": "@jupyter-widgets/controls",
          "model_name": "HTMLModel",
          "model_module_version": "1.5.0",
          "state": {
            "_dom_classes": [],
            "_model_module": "@jupyter-widgets/controls",
            "_model_module_version": "1.5.0",
            "_model_name": "HTMLModel",
            "_view_count": null,
            "_view_module": "@jupyter-widgets/controls",
            "_view_module_version": "1.5.0",
            "_view_name": "HTMLView",
            "description": "",
            "description_tooltip": null,
            "layout": "IPY_MODEL_5dc022f249cd4315ab35de33c0fd3af3",
            "placeholder": "​",
            "style": "IPY_MODEL_cb3f2dd42ead4bbd97cb90ae3066ccc5",
            "value": " 280/280 [00:00&lt;00:00, 10.3kB/s]"
          }
        },
        "d23d64c8c99740d5804c1f558f75b6a5": {
          "model_module": "@jupyter-widgets/base",
          "model_name": "LayoutModel",
          "model_module_version": "1.2.0",
          "state": {
            "_model_module": "@jupyter-widgets/base",
            "_model_module_version": "1.2.0",
            "_model_name": "LayoutModel",
            "_view_count": null,
            "_view_module": "@jupyter-widgets/base",
            "_view_module_version": "1.2.0",
            "_view_name": "LayoutView",
            "align_content": null,
            "align_items": null,
            "align_self": null,
            "border": null,
            "bottom": null,
            "display": null,
            "flex": null,
            "flex_flow": null,
            "grid_area": null,
            "grid_auto_columns": null,
            "grid_auto_flow": null,
            "grid_auto_rows": null,
            "grid_column": null,
            "grid_gap": null,
            "grid_row": null,
            "grid_template_areas": null,
            "grid_template_columns": null,
            "grid_template_rows": null,
            "height": null,
            "justify_content": null,
            "justify_items": null,
            "left": null,
            "margin": null,
            "max_height": null,
            "max_width": null,
            "min_height": null,
            "min_width": null,
            "object_fit": null,
            "object_position": null,
            "order": null,
            "overflow": null,
            "overflow_x": null,
            "overflow_y": null,
            "padding": null,
            "right": null,
            "top": null,
            "visibility": null,
            "width": null
          }
        },
        "c22760be5f1b44dfb6ded1324e3c5e1c": {
          "model_module": "@jupyter-widgets/base",
          "model_name": "LayoutModel",
          "model_module_version": "1.2.0",
          "state": {
            "_model_module": "@jupyter-widgets/base",
            "_model_module_version": "1.2.0",
            "_model_name": "LayoutModel",
            "_view_count": null,
            "_view_module": "@jupyter-widgets/base",
            "_view_module_version": "1.2.0",
            "_view_name": "LayoutView",
            "align_content": null,
            "align_items": null,
            "align_self": null,
            "border": null,
            "bottom": null,
            "display": null,
            "flex": null,
            "flex_flow": null,
            "grid_area": null,
            "grid_auto_columns": null,
            "grid_auto_flow": null,
            "grid_auto_rows": null,
            "grid_column": null,
            "grid_gap": null,
            "grid_row": null,
            "grid_template_areas": null,
            "grid_template_columns": null,
            "grid_template_rows": null,
            "height": null,
            "justify_content": null,
            "justify_items": null,
            "left": null,
            "margin": null,
            "max_height": null,
            "max_width": null,
            "min_height": null,
            "min_width": null,
            "object_fit": null,
            "object_position": null,
            "order": null,
            "overflow": null,
            "overflow_x": null,
            "overflow_y": null,
            "padding": null,
            "right": null,
            "top": null,
            "visibility": null,
            "width": null
          }
        },
        "cab85d360563446f9ad264e9ec89ca8a": {
          "model_module": "@jupyter-widgets/controls",
          "model_name": "DescriptionStyleModel",
          "model_module_version": "1.5.0",
          "state": {
            "_model_module": "@jupyter-widgets/controls",
            "_model_module_version": "1.5.0",
            "_model_name": "DescriptionStyleModel",
            "_view_count": null,
            "_view_module": "@jupyter-widgets/base",
            "_view_module_version": "1.2.0",
            "_view_name": "StyleView",
            "description_width": ""
          }
        },
        "7ea2ae237d3040359e0e735d424c6f4b": {
          "model_module": "@jupyter-widgets/base",
          "model_name": "LayoutModel",
          "model_module_version": "1.2.0",
          "state": {
            "_model_module": "@jupyter-widgets/base",
            "_model_module_version": "1.2.0",
            "_model_name": "LayoutModel",
            "_view_count": null,
            "_view_module": "@jupyter-widgets/base",
            "_view_module_version": "1.2.0",
            "_view_name": "LayoutView",
            "align_content": null,
            "align_items": null,
            "align_self": null,
            "border": null,
            "bottom": null,
            "display": null,
            "flex": null,
            "flex_flow": null,
            "grid_area": null,
            "grid_auto_columns": null,
            "grid_auto_flow": null,
            "grid_auto_rows": null,
            "grid_column": null,
            "grid_gap": null,
            "grid_row": null,
            "grid_template_areas": null,
            "grid_template_columns": null,
            "grid_template_rows": null,
            "height": null,
            "justify_content": null,
            "justify_items": null,
            "left": null,
            "margin": null,
            "max_height": null,
            "max_width": null,
            "min_height": null,
            "min_width": null,
            "object_fit": null,
            "object_position": null,
            "order": null,
            "overflow": null,
            "overflow_x": null,
            "overflow_y": null,
            "padding": null,
            "right": null,
            "top": null,
            "visibility": null,
            "width": null
          }
        },
        "a154797443d045529e76fcc8c69215a6": {
          "model_module": "@jupyter-widgets/controls",
          "model_name": "ProgressStyleModel",
          "model_module_version": "1.5.0",
          "state": {
            "_model_module": "@jupyter-widgets/controls",
            "_model_module_version": "1.5.0",
            "_model_name": "ProgressStyleModel",
            "_view_count": null,
            "_view_module": "@jupyter-widgets/base",
            "_view_module_version": "1.2.0",
            "_view_name": "StyleView",
            "bar_color": null,
            "description_width": ""
          }
        },
        "5dc022f249cd4315ab35de33c0fd3af3": {
          "model_module": "@jupyter-widgets/base",
          "model_name": "LayoutModel",
          "model_module_version": "1.2.0",
          "state": {
            "_model_module": "@jupyter-widgets/base",
            "_model_module_version": "1.2.0",
            "_model_name": "LayoutModel",
            "_view_count": null,
            "_view_module": "@jupyter-widgets/base",
            "_view_module_version": "1.2.0",
            "_view_name": "LayoutView",
            "align_content": null,
            "align_items": null,
            "align_self": null,
            "border": null,
            "bottom": null,
            "display": null,
            "flex": null,
            "flex_flow": null,
            "grid_area": null,
            "grid_auto_columns": null,
            "grid_auto_flow": null,
            "grid_auto_rows": null,
            "grid_column": null,
            "grid_gap": null,
            "grid_row": null,
            "grid_template_areas": null,
            "grid_template_columns": null,
            "grid_template_rows": null,
            "height": null,
            "justify_content": null,
            "justify_items": null,
            "left": null,
            "margin": null,
            "max_height": null,
            "max_width": null,
            "min_height": null,
            "min_width": null,
            "object_fit": null,
            "object_position": null,
            "order": null,
            "overflow": null,
            "overflow_x": null,
            "overflow_y": null,
            "padding": null,
            "right": null,
            "top": null,
            "visibility": null,
            "width": null
          }
        },
        "cb3f2dd42ead4bbd97cb90ae3066ccc5": {
          "model_module": "@jupyter-widgets/controls",
          "model_name": "DescriptionStyleModel",
          "model_module_version": "1.5.0",
          "state": {
            "_model_module": "@jupyter-widgets/controls",
            "_model_module_version": "1.5.0",
            "_model_name": "DescriptionStyleModel",
            "_view_count": null,
            "_view_module": "@jupyter-widgets/base",
            "_view_module_version": "1.2.0",
            "_view_name": "StyleView",
            "description_width": ""
          }
        },
        "f8879127fe1b4e95ac1589d9d6c1d8bc": {
          "model_module": "@jupyter-widgets/controls",
          "model_name": "HBoxModel",
          "model_module_version": "1.5.0",
          "state": {
            "_dom_classes": [],
            "_model_module": "@jupyter-widgets/controls",
            "_model_module_version": "1.5.0",
            "_model_name": "HBoxModel",
            "_view_count": null,
            "_view_module": "@jupyter-widgets/controls",
            "_view_module_version": "1.5.0",
            "_view_name": "HBoxView",
            "box_style": "",
            "children": [
              "IPY_MODEL_fc4c41db71034f7593cfa4b92472626b",
              "IPY_MODEL_b709ff39aea643f09c68d65339221b7b",
              "IPY_MODEL_236ec8fa3dec4928930a98ae2af1e13a"
            ],
            "layout": "IPY_MODEL_5ce09aeceb8f4044b1a5e3ec609fcf59"
          }
        },
        "fc4c41db71034f7593cfa4b92472626b": {
          "model_module": "@jupyter-widgets/controls",
          "model_name": "HTMLModel",
          "model_module_version": "1.5.0",
          "state": {
            "_dom_classes": [],
            "_model_module": "@jupyter-widgets/controls",
            "_model_module_version": "1.5.0",
            "_model_name": "HTMLModel",
            "_view_count": null,
            "_view_module": "@jupyter-widgets/controls",
            "_view_module_version": "1.5.0",
            "_view_name": "HTMLView",
            "description": "",
            "description_tooltip": null,
            "layout": "IPY_MODEL_3bfe261d52ba4fc5b8df610589be0a54",
            "placeholder": "​",
            "style": "IPY_MODEL_e1298bf62e9f4955b881b0bd02ef178b",
            "value": "Downloading data: 100%"
          }
        },
        "b709ff39aea643f09c68d65339221b7b": {
          "model_module": "@jupyter-widgets/controls",
          "model_name": "FloatProgressModel",
          "model_module_version": "1.5.0",
          "state": {
            "_dom_classes": [],
            "_model_module": "@jupyter-widgets/controls",
            "_model_module_version": "1.5.0",
            "_model_name": "FloatProgressModel",
            "_view_count": null,
            "_view_module": "@jupyter-widgets/controls",
            "_view_module_version": "1.5.0",
            "_view_name": "ProgressView",
            "bar_style": "success",
            "description": "",
            "description_tooltip": null,
            "layout": "IPY_MODEL_67808ab3a7f74b0fadab4a070c1f3e0a",
            "max": 6055313,
            "min": 0,
            "orientation": "horizontal",
            "style": "IPY_MODEL_6e068a9f6c6f4ef5b10d262d18558d1d",
            "value": 6055313
          }
        },
        "236ec8fa3dec4928930a98ae2af1e13a": {
          "model_module": "@jupyter-widgets/controls",
          "model_name": "HTMLModel",
          "model_module_version": "1.5.0",
          "state": {
            "_dom_classes": [],
            "_model_module": "@jupyter-widgets/controls",
            "_model_module_version": "1.5.0",
            "_model_name": "HTMLModel",
            "_view_count": null,
            "_view_module": "@jupyter-widgets/controls",
            "_view_module_version": "1.5.0",
            "_view_name": "HTMLView",
            "description": "",
            "description_tooltip": null,
            "layout": "IPY_MODEL_a58009aaf9104f1a92cbe221190b373f",
            "placeholder": "​",
            "style": "IPY_MODEL_de601be4a378419595fe0f3b3324d7f1",
            "value": " 6.06M/6.06M [00:00&lt;00:00, 10.5MB/s]"
          }
        },
        "5ce09aeceb8f4044b1a5e3ec609fcf59": {
          "model_module": "@jupyter-widgets/base",
          "model_name": "LayoutModel",
          "model_module_version": "1.2.0",
          "state": {
            "_model_module": "@jupyter-widgets/base",
            "_model_module_version": "1.2.0",
            "_model_name": "LayoutModel",
            "_view_count": null,
            "_view_module": "@jupyter-widgets/base",
            "_view_module_version": "1.2.0",
            "_view_name": "LayoutView",
            "align_content": null,
            "align_items": null,
            "align_self": null,
            "border": null,
            "bottom": null,
            "display": null,
            "flex": null,
            "flex_flow": null,
            "grid_area": null,
            "grid_auto_columns": null,
            "grid_auto_flow": null,
            "grid_auto_rows": null,
            "grid_column": null,
            "grid_gap": null,
            "grid_row": null,
            "grid_template_areas": null,
            "grid_template_columns": null,
            "grid_template_rows": null,
            "height": null,
            "justify_content": null,
            "justify_items": null,
            "left": null,
            "margin": null,
            "max_height": null,
            "max_width": null,
            "min_height": null,
            "min_width": null,
            "object_fit": null,
            "object_position": null,
            "order": null,
            "overflow": null,
            "overflow_x": null,
            "overflow_y": null,
            "padding": null,
            "right": null,
            "top": null,
            "visibility": null,
            "width": null
          }
        },
        "3bfe261d52ba4fc5b8df610589be0a54": {
          "model_module": "@jupyter-widgets/base",
          "model_name": "LayoutModel",
          "model_module_version": "1.2.0",
          "state": {
            "_model_module": "@jupyter-widgets/base",
            "_model_module_version": "1.2.0",
            "_model_name": "LayoutModel",
            "_view_count": null,
            "_view_module": "@jupyter-widgets/base",
            "_view_module_version": "1.2.0",
            "_view_name": "LayoutView",
            "align_content": null,
            "align_items": null,
            "align_self": null,
            "border": null,
            "bottom": null,
            "display": null,
            "flex": null,
            "flex_flow": null,
            "grid_area": null,
            "grid_auto_columns": null,
            "grid_auto_flow": null,
            "grid_auto_rows": null,
            "grid_column": null,
            "grid_gap": null,
            "grid_row": null,
            "grid_template_areas": null,
            "grid_template_columns": null,
            "grid_template_rows": null,
            "height": null,
            "justify_content": null,
            "justify_items": null,
            "left": null,
            "margin": null,
            "max_height": null,
            "max_width": null,
            "min_height": null,
            "min_width": null,
            "object_fit": null,
            "object_position": null,
            "order": null,
            "overflow": null,
            "overflow_x": null,
            "overflow_y": null,
            "padding": null,
            "right": null,
            "top": null,
            "visibility": null,
            "width": null
          }
        },
        "e1298bf62e9f4955b881b0bd02ef178b": {
          "model_module": "@jupyter-widgets/controls",
          "model_name": "DescriptionStyleModel",
          "model_module_version": "1.5.0",
          "state": {
            "_model_module": "@jupyter-widgets/controls",
            "_model_module_version": "1.5.0",
            "_model_name": "DescriptionStyleModel",
            "_view_count": null,
            "_view_module": "@jupyter-widgets/base",
            "_view_module_version": "1.2.0",
            "_view_name": "StyleView",
            "description_width": ""
          }
        },
        "67808ab3a7f74b0fadab4a070c1f3e0a": {
          "model_module": "@jupyter-widgets/base",
          "model_name": "LayoutModel",
          "model_module_version": "1.2.0",
          "state": {
            "_model_module": "@jupyter-widgets/base",
            "_model_module_version": "1.2.0",
            "_model_name": "LayoutModel",
            "_view_count": null,
            "_view_module": "@jupyter-widgets/base",
            "_view_module_version": "1.2.0",
            "_view_name": "LayoutView",
            "align_content": null,
            "align_items": null,
            "align_self": null,
            "border": null,
            "bottom": null,
            "display": null,
            "flex": null,
            "flex_flow": null,
            "grid_area": null,
            "grid_auto_columns": null,
            "grid_auto_flow": null,
            "grid_auto_rows": null,
            "grid_column": null,
            "grid_gap": null,
            "grid_row": null,
            "grid_template_areas": null,
            "grid_template_columns": null,
            "grid_template_rows": null,
            "height": null,
            "justify_content": null,
            "justify_items": null,
            "left": null,
            "margin": null,
            "max_height": null,
            "max_width": null,
            "min_height": null,
            "min_width": null,
            "object_fit": null,
            "object_position": null,
            "order": null,
            "overflow": null,
            "overflow_x": null,
            "overflow_y": null,
            "padding": null,
            "right": null,
            "top": null,
            "visibility": null,
            "width": null
          }
        },
        "6e068a9f6c6f4ef5b10d262d18558d1d": {
          "model_module": "@jupyter-widgets/controls",
          "model_name": "ProgressStyleModel",
          "model_module_version": "1.5.0",
          "state": {
            "_model_module": "@jupyter-widgets/controls",
            "_model_module_version": "1.5.0",
            "_model_name": "ProgressStyleModel",
            "_view_count": null,
            "_view_module": "@jupyter-widgets/base",
            "_view_module_version": "1.2.0",
            "_view_name": "StyleView",
            "bar_color": null,
            "description_width": ""
          }
        },
        "a58009aaf9104f1a92cbe221190b373f": {
          "model_module": "@jupyter-widgets/base",
          "model_name": "LayoutModel",
          "model_module_version": "1.2.0",
          "state": {
            "_model_module": "@jupyter-widgets/base",
            "_model_module_version": "1.2.0",
            "_model_name": "LayoutModel",
            "_view_count": null,
            "_view_module": "@jupyter-widgets/base",
            "_view_module_version": "1.2.0",
            "_view_name": "LayoutView",
            "align_content": null,
            "align_items": null,
            "align_self": null,
            "border": null,
            "bottom": null,
            "display": null,
            "flex": null,
            "flex_flow": null,
            "grid_area": null,
            "grid_auto_columns": null,
            "grid_auto_flow": null,
            "grid_auto_rows": null,
            "grid_column": null,
            "grid_gap": null,
            "grid_row": null,
            "grid_template_areas": null,
            "grid_template_columns": null,
            "grid_template_rows": null,
            "height": null,
            "justify_content": null,
            "justify_items": null,
            "left": null,
            "margin": null,
            "max_height": null,
            "max_width": null,
            "min_height": null,
            "min_width": null,
            "object_fit": null,
            "object_position": null,
            "order": null,
            "overflow": null,
            "overflow_x": null,
            "overflow_y": null,
            "padding": null,
            "right": null,
            "top": null,
            "visibility": null,
            "width": null
          }
        },
        "de601be4a378419595fe0f3b3324d7f1": {
          "model_module": "@jupyter-widgets/controls",
          "model_name": "DescriptionStyleModel",
          "model_module_version": "1.5.0",
          "state": {
            "_model_module": "@jupyter-widgets/controls",
            "_model_module_version": "1.5.0",
            "_model_name": "DescriptionStyleModel",
            "_view_count": null,
            "_view_module": "@jupyter-widgets/base",
            "_view_module_version": "1.2.0",
            "_view_name": "StyleView",
            "description_width": ""
          }
        },
        "63e08ec19e6449f4a87e3cc450c74b74": {
          "model_module": "@jupyter-widgets/controls",
          "model_name": "HBoxModel",
          "model_module_version": "1.5.0",
          "state": {
            "_dom_classes": [],
            "_model_module": "@jupyter-widgets/controls",
            "_model_module_version": "1.5.0",
            "_model_name": "HBoxModel",
            "_view_count": null,
            "_view_module": "@jupyter-widgets/controls",
            "_view_module_version": "1.5.0",
            "_view_name": "HBoxView",
            "box_style": "",
            "children": [
              "IPY_MODEL_d8d4009f5fcc4ae08c82e90bf9b2b147",
              "IPY_MODEL_a24fc31aaa4a4c29945d44e982f8f4a4",
              "IPY_MODEL_4f35045e467e4024bb64bea8c95f5f84"
            ],
            "layout": "IPY_MODEL_af7c46d7b3da45cab041ef21b978e88c"
          }
        },
        "d8d4009f5fcc4ae08c82e90bf9b2b147": {
          "model_module": "@jupyter-widgets/controls",
          "model_name": "HTMLModel",
          "model_module_version": "1.5.0",
          "state": {
            "_dom_classes": [],
            "_model_module": "@jupyter-widgets/controls",
            "_model_module_version": "1.5.0",
            "_model_name": "HTMLModel",
            "_view_count": null,
            "_view_module": "@jupyter-widgets/controls",
            "_view_module_version": "1.5.0",
            "_view_name": "HTMLView",
            "description": "",
            "description_tooltip": null,
            "layout": "IPY_MODEL_aa4d5634330c4a329ae1c29acf374bfa",
            "placeholder": "​",
            "style": "IPY_MODEL_0e3e9b2c18f04e5e8224adaafa95a556",
            "value": "Downloading data: 100%"
          }
        },
        "a24fc31aaa4a4c29945d44e982f8f4a4": {
          "model_module": "@jupyter-widgets/controls",
          "model_name": "FloatProgressModel",
          "model_module_version": "1.5.0",
          "state": {
            "_dom_classes": [],
            "_model_module": "@jupyter-widgets/controls",
            "_model_module_version": "1.5.0",
            "_model_name": "FloatProgressModel",
            "_view_count": null,
            "_view_module": "@jupyter-widgets/controls",
            "_view_module_version": "1.5.0",
            "_view_name": "ProgressView",
            "bar_style": "success",
            "description": "",
            "description_tooltip": null,
            "layout": "IPY_MODEL_5da1167cdded46cea36fd8989b9ec6b3",
            "max": 347351,
            "min": 0,
            "orientation": "horizontal",
            "style": "IPY_MODEL_fe6c346378284fe397ba80e598df85e5",
            "value": 347351
          }
        },
        "4f35045e467e4024bb64bea8c95f5f84": {
          "model_module": "@jupyter-widgets/controls",
          "model_name": "HTMLModel",
          "model_module_version": "1.5.0",
          "state": {
            "_dom_classes": [],
            "_model_module": "@jupyter-widgets/controls",
            "_model_module_version": "1.5.0",
            "_model_name": "HTMLModel",
            "_view_count": null,
            "_view_module": "@jupyter-widgets/controls",
            "_view_module_version": "1.5.0",
            "_view_name": "HTMLView",
            "description": "",
            "description_tooltip": null,
            "layout": "IPY_MODEL_28115f5f12f64627a8cf96dc98ef1d5c",
            "placeholder": "​",
            "style": "IPY_MODEL_777114f55b9d43a7b9ef18b9fca9d62e",
            "value": " 347k/347k [00:00&lt;00:00, 2.04MB/s]"
          }
        },
        "af7c46d7b3da45cab041ef21b978e88c": {
          "model_module": "@jupyter-widgets/base",
          "model_name": "LayoutModel",
          "model_module_version": "1.2.0",
          "state": {
            "_model_module": "@jupyter-widgets/base",
            "_model_module_version": "1.2.0",
            "_model_name": "LayoutModel",
            "_view_count": null,
            "_view_module": "@jupyter-widgets/base",
            "_view_module_version": "1.2.0",
            "_view_name": "LayoutView",
            "align_content": null,
            "align_items": null,
            "align_self": null,
            "border": null,
            "bottom": null,
            "display": null,
            "flex": null,
            "flex_flow": null,
            "grid_area": null,
            "grid_auto_columns": null,
            "grid_auto_flow": null,
            "grid_auto_rows": null,
            "grid_column": null,
            "grid_gap": null,
            "grid_row": null,
            "grid_template_areas": null,
            "grid_template_columns": null,
            "grid_template_rows": null,
            "height": null,
            "justify_content": null,
            "justify_items": null,
            "left": null,
            "margin": null,
            "max_height": null,
            "max_width": null,
            "min_height": null,
            "min_width": null,
            "object_fit": null,
            "object_position": null,
            "order": null,
            "overflow": null,
            "overflow_x": null,
            "overflow_y": null,
            "padding": null,
            "right": null,
            "top": null,
            "visibility": null,
            "width": null
          }
        },
        "aa4d5634330c4a329ae1c29acf374bfa": {
          "model_module": "@jupyter-widgets/base",
          "model_name": "LayoutModel",
          "model_module_version": "1.2.0",
          "state": {
            "_model_module": "@jupyter-widgets/base",
            "_model_module_version": "1.2.0",
            "_model_name": "LayoutModel",
            "_view_count": null,
            "_view_module": "@jupyter-widgets/base",
            "_view_module_version": "1.2.0",
            "_view_name": "LayoutView",
            "align_content": null,
            "align_items": null,
            "align_self": null,
            "border": null,
            "bottom": null,
            "display": null,
            "flex": null,
            "flex_flow": null,
            "grid_area": null,
            "grid_auto_columns": null,
            "grid_auto_flow": null,
            "grid_auto_rows": null,
            "grid_column": null,
            "grid_gap": null,
            "grid_row": null,
            "grid_template_areas": null,
            "grid_template_columns": null,
            "grid_template_rows": null,
            "height": null,
            "justify_content": null,
            "justify_items": null,
            "left": null,
            "margin": null,
            "max_height": null,
            "max_width": null,
            "min_height": null,
            "min_width": null,
            "object_fit": null,
            "object_position": null,
            "order": null,
            "overflow": null,
            "overflow_x": null,
            "overflow_y": null,
            "padding": null,
            "right": null,
            "top": null,
            "visibility": null,
            "width": null
          }
        },
        "0e3e9b2c18f04e5e8224adaafa95a556": {
          "model_module": "@jupyter-widgets/controls",
          "model_name": "DescriptionStyleModel",
          "model_module_version": "1.5.0",
          "state": {
            "_model_module": "@jupyter-widgets/controls",
            "_model_module_version": "1.5.0",
            "_model_name": "DescriptionStyleModel",
            "_view_count": null,
            "_view_module": "@jupyter-widgets/base",
            "_view_module_version": "1.2.0",
            "_view_name": "StyleView",
            "description_width": ""
          }
        },
        "5da1167cdded46cea36fd8989b9ec6b3": {
          "model_module": "@jupyter-widgets/base",
          "model_name": "LayoutModel",
          "model_module_version": "1.2.0",
          "state": {
            "_model_module": "@jupyter-widgets/base",
            "_model_module_version": "1.2.0",
            "_model_name": "LayoutModel",
            "_view_count": null,
            "_view_module": "@jupyter-widgets/base",
            "_view_module_version": "1.2.0",
            "_view_name": "LayoutView",
            "align_content": null,
            "align_items": null,
            "align_self": null,
            "border": null,
            "bottom": null,
            "display": null,
            "flex": null,
            "flex_flow": null,
            "grid_area": null,
            "grid_auto_columns": null,
            "grid_auto_flow": null,
            "grid_auto_rows": null,
            "grid_column": null,
            "grid_gap": null,
            "grid_row": null,
            "grid_template_areas": null,
            "grid_template_columns": null,
            "grid_template_rows": null,
            "height": null,
            "justify_content": null,
            "justify_items": null,
            "left": null,
            "margin": null,
            "max_height": null,
            "max_width": null,
            "min_height": null,
            "min_width": null,
            "object_fit": null,
            "object_position": null,
            "order": null,
            "overflow": null,
            "overflow_x": null,
            "overflow_y": null,
            "padding": null,
            "right": null,
            "top": null,
            "visibility": null,
            "width": null
          }
        },
        "fe6c346378284fe397ba80e598df85e5": {
          "model_module": "@jupyter-widgets/controls",
          "model_name": "ProgressStyleModel",
          "model_module_version": "1.5.0",
          "state": {
            "_model_module": "@jupyter-widgets/controls",
            "_model_module_version": "1.5.0",
            "_model_name": "ProgressStyleModel",
            "_view_count": null,
            "_view_module": "@jupyter-widgets/base",
            "_view_module_version": "1.2.0",
            "_view_name": "StyleView",
            "bar_color": null,
            "description_width": ""
          }
        },
        "28115f5f12f64627a8cf96dc98ef1d5c": {
          "model_module": "@jupyter-widgets/base",
          "model_name": "LayoutModel",
          "model_module_version": "1.2.0",
          "state": {
            "_model_module": "@jupyter-widgets/base",
            "_model_module_version": "1.2.0",
            "_model_name": "LayoutModel",
            "_view_count": null,
            "_view_module": "@jupyter-widgets/base",
            "_view_module_version": "1.2.0",
            "_view_name": "LayoutView",
            "align_content": null,
            "align_items": null,
            "align_self": null,
            "border": null,
            "bottom": null,
            "display": null,
            "flex": null,
            "flex_flow": null,
            "grid_area": null,
            "grid_auto_columns": null,
            "grid_auto_flow": null,
            "grid_auto_rows": null,
            "grid_column": null,
            "grid_gap": null,
            "grid_row": null,
            "grid_template_areas": null,
            "grid_template_columns": null,
            "grid_template_rows": null,
            "height": null,
            "justify_content": null,
            "justify_items": null,
            "left": null,
            "margin": null,
            "max_height": null,
            "max_width": null,
            "min_height": null,
            "min_width": null,
            "object_fit": null,
            "object_position": null,
            "order": null,
            "overflow": null,
            "overflow_x": null,
            "overflow_y": null,
            "padding": null,
            "right": null,
            "top": null,
            "visibility": null,
            "width": null
          }
        },
        "777114f55b9d43a7b9ef18b9fca9d62e": {
          "model_module": "@jupyter-widgets/controls",
          "model_name": "DescriptionStyleModel",
          "model_module_version": "1.5.0",
          "state": {
            "_model_module": "@jupyter-widgets/controls",
            "_model_module_version": "1.5.0",
            "_model_name": "DescriptionStyleModel",
            "_view_count": null,
            "_view_module": "@jupyter-widgets/base",
            "_view_module_version": "1.2.0",
            "_view_name": "StyleView",
            "description_width": ""
          }
        },
        "0a389f0eca27460382d7262f293d13c3": {
          "model_module": "@jupyter-widgets/controls",
          "model_name": "HBoxModel",
          "model_module_version": "1.5.0",
          "state": {
            "_dom_classes": [],
            "_model_module": "@jupyter-widgets/controls",
            "_model_module_version": "1.5.0",
            "_model_name": "HBoxModel",
            "_view_count": null,
            "_view_module": "@jupyter-widgets/controls",
            "_view_module_version": "1.5.0",
            "_view_name": "HBoxView",
            "box_style": "",
            "children": [
              "IPY_MODEL_4391d0f4bab447d38b3eb1d3a86e8cff",
              "IPY_MODEL_c9e6664d91514d72ada136e8f8358dce",
              "IPY_MODEL_1b67cd073f9347b5b8915546c44bbfe7"
            ],
            "layout": "IPY_MODEL_426054c2652449d5b3b2cbecd43631ae"
          }
        },
        "4391d0f4bab447d38b3eb1d3a86e8cff": {
          "model_module": "@jupyter-widgets/controls",
          "model_name": "HTMLModel",
          "model_module_version": "1.5.0",
          "state": {
            "_dom_classes": [],
            "_model_module": "@jupyter-widgets/controls",
            "_model_module_version": "1.5.0",
            "_model_name": "HTMLModel",
            "_view_count": null,
            "_view_module": "@jupyter-widgets/controls",
            "_view_module_version": "1.5.0",
            "_view_name": "HTMLView",
            "description": "",
            "description_tooltip": null,
            "layout": "IPY_MODEL_7083ee0688dc4f0c93b3be87530866f7",
            "placeholder": "​",
            "style": "IPY_MODEL_38ff80b7aaea41419232ac65dc2b5d66",
            "value": "Downloading data: 100%"
          }
        },
        "c9e6664d91514d72ada136e8f8358dce": {
          "model_module": "@jupyter-widgets/controls",
          "model_name": "FloatProgressModel",
          "model_module_version": "1.5.0",
          "state": {
            "_dom_classes": [],
            "_model_module": "@jupyter-widgets/controls",
            "_model_module_version": "1.5.0",
            "_model_name": "FloatProgressModel",
            "_view_count": null,
            "_view_module": "@jupyter-widgets/controls",
            "_view_module_version": "1.5.0",
            "_view_name": "ProgressView",
            "bar_style": "success",
            "description": "",
            "description_tooltip": null,
            "layout": "IPY_MODEL_3c1e815645584cb98fe4ac3474e442b7",
            "max": 334534,
            "min": 0,
            "orientation": "horizontal",
            "style": "IPY_MODEL_4fab4c78217c4e44a66ac71ce1ff8267",
            "value": 334534
          }
        },
        "1b67cd073f9347b5b8915546c44bbfe7": {
          "model_module": "@jupyter-widgets/controls",
          "model_name": "HTMLModel",
          "model_module_version": "1.5.0",
          "state": {
            "_dom_classes": [],
            "_model_module": "@jupyter-widgets/controls",
            "_model_module_version": "1.5.0",
            "_model_name": "HTMLModel",
            "_view_count": null,
            "_view_module": "@jupyter-widgets/controls",
            "_view_module_version": "1.5.0",
            "_view_name": "HTMLView",
            "description": "",
            "description_tooltip": null,
            "layout": "IPY_MODEL_7878ff817cc74d45845d175bcc34131e",
            "placeholder": "​",
            "style": "IPY_MODEL_0ac99b0003624575a206f402fa21396c",
            "value": " 335k/335k [00:00&lt;00:00, 2.54MB/s]"
          }
        },
        "426054c2652449d5b3b2cbecd43631ae": {
          "model_module": "@jupyter-widgets/base",
          "model_name": "LayoutModel",
          "model_module_version": "1.2.0",
          "state": {
            "_model_module": "@jupyter-widgets/base",
            "_model_module_version": "1.2.0",
            "_model_name": "LayoutModel",
            "_view_count": null,
            "_view_module": "@jupyter-widgets/base",
            "_view_module_version": "1.2.0",
            "_view_name": "LayoutView",
            "align_content": null,
            "align_items": null,
            "align_self": null,
            "border": null,
            "bottom": null,
            "display": null,
            "flex": null,
            "flex_flow": null,
            "grid_area": null,
            "grid_auto_columns": null,
            "grid_auto_flow": null,
            "grid_auto_rows": null,
            "grid_column": null,
            "grid_gap": null,
            "grid_row": null,
            "grid_template_areas": null,
            "grid_template_columns": null,
            "grid_template_rows": null,
            "height": null,
            "justify_content": null,
            "justify_items": null,
            "left": null,
            "margin": null,
            "max_height": null,
            "max_width": null,
            "min_height": null,
            "min_width": null,
            "object_fit": null,
            "object_position": null,
            "order": null,
            "overflow": null,
            "overflow_x": null,
            "overflow_y": null,
            "padding": null,
            "right": null,
            "top": null,
            "visibility": null,
            "width": null
          }
        },
        "7083ee0688dc4f0c93b3be87530866f7": {
          "model_module": "@jupyter-widgets/base",
          "model_name": "LayoutModel",
          "model_module_version": "1.2.0",
          "state": {
            "_model_module": "@jupyter-widgets/base",
            "_model_module_version": "1.2.0",
            "_model_name": "LayoutModel",
            "_view_count": null,
            "_view_module": "@jupyter-widgets/base",
            "_view_module_version": "1.2.0",
            "_view_name": "LayoutView",
            "align_content": null,
            "align_items": null,
            "align_self": null,
            "border": null,
            "bottom": null,
            "display": null,
            "flex": null,
            "flex_flow": null,
            "grid_area": null,
            "grid_auto_columns": null,
            "grid_auto_flow": null,
            "grid_auto_rows": null,
            "grid_column": null,
            "grid_gap": null,
            "grid_row": null,
            "grid_template_areas": null,
            "grid_template_columns": null,
            "grid_template_rows": null,
            "height": null,
            "justify_content": null,
            "justify_items": null,
            "left": null,
            "margin": null,
            "max_height": null,
            "max_width": null,
            "min_height": null,
            "min_width": null,
            "object_fit": null,
            "object_position": null,
            "order": null,
            "overflow": null,
            "overflow_x": null,
            "overflow_y": null,
            "padding": null,
            "right": null,
            "top": null,
            "visibility": null,
            "width": null
          }
        },
        "38ff80b7aaea41419232ac65dc2b5d66": {
          "model_module": "@jupyter-widgets/controls",
          "model_name": "DescriptionStyleModel",
          "model_module_version": "1.5.0",
          "state": {
            "_model_module": "@jupyter-widgets/controls",
            "_model_module_version": "1.5.0",
            "_model_name": "DescriptionStyleModel",
            "_view_count": null,
            "_view_module": "@jupyter-widgets/base",
            "_view_module_version": "1.2.0",
            "_view_name": "StyleView",
            "description_width": ""
          }
        },
        "3c1e815645584cb98fe4ac3474e442b7": {
          "model_module": "@jupyter-widgets/base",
          "model_name": "LayoutModel",
          "model_module_version": "1.2.0",
          "state": {
            "_model_module": "@jupyter-widgets/base",
            "_model_module_version": "1.2.0",
            "_model_name": "LayoutModel",
            "_view_count": null,
            "_view_module": "@jupyter-widgets/base",
            "_view_module_version": "1.2.0",
            "_view_name": "LayoutView",
            "align_content": null,
            "align_items": null,
            "align_self": null,
            "border": null,
            "bottom": null,
            "display": null,
            "flex": null,
            "flex_flow": null,
            "grid_area": null,
            "grid_auto_columns": null,
            "grid_auto_flow": null,
            "grid_auto_rows": null,
            "grid_column": null,
            "grid_gap": null,
            "grid_row": null,
            "grid_template_areas": null,
            "grid_template_columns": null,
            "grid_template_rows": null,
            "height": null,
            "justify_content": null,
            "justify_items": null,
            "left": null,
            "margin": null,
            "max_height": null,
            "max_width": null,
            "min_height": null,
            "min_width": null,
            "object_fit": null,
            "object_position": null,
            "order": null,
            "overflow": null,
            "overflow_x": null,
            "overflow_y": null,
            "padding": null,
            "right": null,
            "top": null,
            "visibility": null,
            "width": null
          }
        },
        "4fab4c78217c4e44a66ac71ce1ff8267": {
          "model_module": "@jupyter-widgets/controls",
          "model_name": "ProgressStyleModel",
          "model_module_version": "1.5.0",
          "state": {
            "_model_module": "@jupyter-widgets/controls",
            "_model_module_version": "1.5.0",
            "_model_name": "ProgressStyleModel",
            "_view_count": null,
            "_view_module": "@jupyter-widgets/base",
            "_view_module_version": "1.2.0",
            "_view_name": "StyleView",
            "bar_color": null,
            "description_width": ""
          }
        },
        "7878ff817cc74d45845d175bcc34131e": {
          "model_module": "@jupyter-widgets/base",
          "model_name": "LayoutModel",
          "model_module_version": "1.2.0",
          "state": {
            "_model_module": "@jupyter-widgets/base",
            "_model_module_version": "1.2.0",
            "_model_name": "LayoutModel",
            "_view_count": null,
            "_view_module": "@jupyter-widgets/base",
            "_view_module_version": "1.2.0",
            "_view_name": "LayoutView",
            "align_content": null,
            "align_items": null,
            "align_self": null,
            "border": null,
            "bottom": null,
            "display": null,
            "flex": null,
            "flex_flow": null,
            "grid_area": null,
            "grid_auto_columns": null,
            "grid_auto_flow": null,
            "grid_auto_rows": null,
            "grid_column": null,
            "grid_gap": null,
            "grid_row": null,
            "grid_template_areas": null,
            "grid_template_columns": null,
            "grid_template_rows": null,
            "height": null,
            "justify_content": null,
            "justify_items": null,
            "left": null,
            "margin": null,
            "max_height": null,
            "max_width": null,
            "min_height": null,
            "min_width": null,
            "object_fit": null,
            "object_position": null,
            "order": null,
            "overflow": null,
            "overflow_x": null,
            "overflow_y": null,
            "padding": null,
            "right": null,
            "top": null,
            "visibility": null,
            "width": null
          }
        },
        "0ac99b0003624575a206f402fa21396c": {
          "model_module": "@jupyter-widgets/controls",
          "model_name": "DescriptionStyleModel",
          "model_module_version": "1.5.0",
          "state": {
            "_model_module": "@jupyter-widgets/controls",
            "_model_module_version": "1.5.0",
            "_model_name": "DescriptionStyleModel",
            "_view_count": null,
            "_view_module": "@jupyter-widgets/base",
            "_view_module_version": "1.2.0",
            "_view_name": "StyleView",
            "description_width": ""
          }
        },
        "40e9f14ca54e483d9969a8c15dedb4a6": {
          "model_module": "@jupyter-widgets/controls",
          "model_name": "HBoxModel",
          "model_module_version": "1.5.0",
          "state": {
            "_dom_classes": [],
            "_model_module": "@jupyter-widgets/controls",
            "_model_module_version": "1.5.0",
            "_model_name": "HBoxModel",
            "_view_count": null,
            "_view_module": "@jupyter-widgets/controls",
            "_view_module_version": "1.5.0",
            "_view_name": "HBoxView",
            "box_style": "",
            "children": [
              "IPY_MODEL_2f6d56020c7a47a9bea81745567751e4",
              "IPY_MODEL_1b5675e3d1e74d9d9f877129931ea7ab",
              "IPY_MODEL_29a50d3293ec403d99412af65145bebf"
            ],
            "layout": "IPY_MODEL_3b6a7bdb9875432194c9f334d763d40c"
          }
        },
        "2f6d56020c7a47a9bea81745567751e4": {
          "model_module": "@jupyter-widgets/controls",
          "model_name": "HTMLModel",
          "model_module_version": "1.5.0",
          "state": {
            "_dom_classes": [],
            "_model_module": "@jupyter-widgets/controls",
            "_model_module_version": "1.5.0",
            "_model_name": "HTMLModel",
            "_view_count": null,
            "_view_module": "@jupyter-widgets/controls",
            "_view_module_version": "1.5.0",
            "_view_name": "HTMLView",
            "description": "",
            "description_tooltip": null,
            "layout": "IPY_MODEL_151a0b0ae7804a2d8b57527867fbdc3c",
            "placeholder": "​",
            "style": "IPY_MODEL_885449dc333e48558e3b08bd7e93e3da",
            "value": "Generating train split: 100%"
          }
        },
        "1b5675e3d1e74d9d9f877129931ea7ab": {
          "model_module": "@jupyter-widgets/controls",
          "model_name": "FloatProgressModel",
          "model_module_version": "1.5.0",
          "state": {
            "_dom_classes": [],
            "_model_module": "@jupyter-widgets/controls",
            "_model_module_version": "1.5.0",
            "_model_name": "FloatProgressModel",
            "_view_count": null,
            "_view_module": "@jupyter-widgets/controls",
            "_view_module_version": "1.5.0",
            "_view_name": "ProgressView",
            "bar_style": "success",
            "description": "",
            "description_tooltip": null,
            "layout": "IPY_MODEL_7ea653cce78d4b82b3b4332502e2e448",
            "max": 14732,
            "min": 0,
            "orientation": "horizontal",
            "style": "IPY_MODEL_969ae05d24f44dbfb2e2d794c387e429",
            "value": 14732
          }
        },
        "29a50d3293ec403d99412af65145bebf": {
          "model_module": "@jupyter-widgets/controls",
          "model_name": "HTMLModel",
          "model_module_version": "1.5.0",
          "state": {
            "_dom_classes": [],
            "_model_module": "@jupyter-widgets/controls",
            "_model_module_version": "1.5.0",
            "_model_name": "HTMLModel",
            "_view_count": null,
            "_view_module": "@jupyter-widgets/controls",
            "_view_module_version": "1.5.0",
            "_view_name": "HTMLView",
            "description": "",
            "description_tooltip": null,
            "layout": "IPY_MODEL_df11400f38a5478ab5eac748914ea724",
            "placeholder": "​",
            "style": "IPY_MODEL_612a9c4cd45642ea8c51b1e3c25697fe",
            "value": " 14732/14732 [00:00&lt;00:00, 55057.91 examples/s]"
          }
        },
        "3b6a7bdb9875432194c9f334d763d40c": {
          "model_module": "@jupyter-widgets/base",
          "model_name": "LayoutModel",
          "model_module_version": "1.2.0",
          "state": {
            "_model_module": "@jupyter-widgets/base",
            "_model_module_version": "1.2.0",
            "_model_name": "LayoutModel",
            "_view_count": null,
            "_view_module": "@jupyter-widgets/base",
            "_view_module_version": "1.2.0",
            "_view_name": "LayoutView",
            "align_content": null,
            "align_items": null,
            "align_self": null,
            "border": null,
            "bottom": null,
            "display": null,
            "flex": null,
            "flex_flow": null,
            "grid_area": null,
            "grid_auto_columns": null,
            "grid_auto_flow": null,
            "grid_auto_rows": null,
            "grid_column": null,
            "grid_gap": null,
            "grid_row": null,
            "grid_template_areas": null,
            "grid_template_columns": null,
            "grid_template_rows": null,
            "height": null,
            "justify_content": null,
            "justify_items": null,
            "left": null,
            "margin": null,
            "max_height": null,
            "max_width": null,
            "min_height": null,
            "min_width": null,
            "object_fit": null,
            "object_position": null,
            "order": null,
            "overflow": null,
            "overflow_x": null,
            "overflow_y": null,
            "padding": null,
            "right": null,
            "top": null,
            "visibility": null,
            "width": null
          }
        },
        "151a0b0ae7804a2d8b57527867fbdc3c": {
          "model_module": "@jupyter-widgets/base",
          "model_name": "LayoutModel",
          "model_module_version": "1.2.0",
          "state": {
            "_model_module": "@jupyter-widgets/base",
            "_model_module_version": "1.2.0",
            "_model_name": "LayoutModel",
            "_view_count": null,
            "_view_module": "@jupyter-widgets/base",
            "_view_module_version": "1.2.0",
            "_view_name": "LayoutView",
            "align_content": null,
            "align_items": null,
            "align_self": null,
            "border": null,
            "bottom": null,
            "display": null,
            "flex": null,
            "flex_flow": null,
            "grid_area": null,
            "grid_auto_columns": null,
            "grid_auto_flow": null,
            "grid_auto_rows": null,
            "grid_column": null,
            "grid_gap": null,
            "grid_row": null,
            "grid_template_areas": null,
            "grid_template_columns": null,
            "grid_template_rows": null,
            "height": null,
            "justify_content": null,
            "justify_items": null,
            "left": null,
            "margin": null,
            "max_height": null,
            "max_width": null,
            "min_height": null,
            "min_width": null,
            "object_fit": null,
            "object_position": null,
            "order": null,
            "overflow": null,
            "overflow_x": null,
            "overflow_y": null,
            "padding": null,
            "right": null,
            "top": null,
            "visibility": null,
            "width": null
          }
        },
        "885449dc333e48558e3b08bd7e93e3da": {
          "model_module": "@jupyter-widgets/controls",
          "model_name": "DescriptionStyleModel",
          "model_module_version": "1.5.0",
          "state": {
            "_model_module": "@jupyter-widgets/controls",
            "_model_module_version": "1.5.0",
            "_model_name": "DescriptionStyleModel",
            "_view_count": null,
            "_view_module": "@jupyter-widgets/base",
            "_view_module_version": "1.2.0",
            "_view_name": "StyleView",
            "description_width": ""
          }
        },
        "7ea653cce78d4b82b3b4332502e2e448": {
          "model_module": "@jupyter-widgets/base",
          "model_name": "LayoutModel",
          "model_module_version": "1.2.0",
          "state": {
            "_model_module": "@jupyter-widgets/base",
            "_model_module_version": "1.2.0",
            "_model_name": "LayoutModel",
            "_view_count": null,
            "_view_module": "@jupyter-widgets/base",
            "_view_module_version": "1.2.0",
            "_view_name": "LayoutView",
            "align_content": null,
            "align_items": null,
            "align_self": null,
            "border": null,
            "bottom": null,
            "display": null,
            "flex": null,
            "flex_flow": null,
            "grid_area": null,
            "grid_auto_columns": null,
            "grid_auto_flow": null,
            "grid_auto_rows": null,
            "grid_column": null,
            "grid_gap": null,
            "grid_row": null,
            "grid_template_areas": null,
            "grid_template_columns": null,
            "grid_template_rows": null,
            "height": null,
            "justify_content": null,
            "justify_items": null,
            "left": null,
            "margin": null,
            "max_height": null,
            "max_width": null,
            "min_height": null,
            "min_width": null,
            "object_fit": null,
            "object_position": null,
            "order": null,
            "overflow": null,
            "overflow_x": null,
            "overflow_y": null,
            "padding": null,
            "right": null,
            "top": null,
            "visibility": null,
            "width": null
          }
        },
        "969ae05d24f44dbfb2e2d794c387e429": {
          "model_module": "@jupyter-widgets/controls",
          "model_name": "ProgressStyleModel",
          "model_module_version": "1.5.0",
          "state": {
            "_model_module": "@jupyter-widgets/controls",
            "_model_module_version": "1.5.0",
            "_model_name": "ProgressStyleModel",
            "_view_count": null,
            "_view_module": "@jupyter-widgets/base",
            "_view_module_version": "1.2.0",
            "_view_name": "StyleView",
            "bar_color": null,
            "description_width": ""
          }
        },
        "df11400f38a5478ab5eac748914ea724": {
          "model_module": "@jupyter-widgets/base",
          "model_name": "LayoutModel",
          "model_module_version": "1.2.0",
          "state": {
            "_model_module": "@jupyter-widgets/base",
            "_model_module_version": "1.2.0",
            "_model_name": "LayoutModel",
            "_view_count": null,
            "_view_module": "@jupyter-widgets/base",
            "_view_module_version": "1.2.0",
            "_view_name": "LayoutView",
            "align_content": null,
            "align_items": null,
            "align_self": null,
            "border": null,
            "bottom": null,
            "display": null,
            "flex": null,
            "flex_flow": null,
            "grid_area": null,
            "grid_auto_columns": null,
            "grid_auto_flow": null,
            "grid_auto_rows": null,
            "grid_column": null,
            "grid_gap": null,
            "grid_row": null,
            "grid_template_areas": null,
            "grid_template_columns": null,
            "grid_template_rows": null,
            "height": null,
            "justify_content": null,
            "justify_items": null,
            "left": null,
            "margin": null,
            "max_height": null,
            "max_width": null,
            "min_height": null,
            "min_width": null,
            "object_fit": null,
            "object_position": null,
            "order": null,
            "overflow": null,
            "overflow_x": null,
            "overflow_y": null,
            "padding": null,
            "right": null,
            "top": null,
            "visibility": null,
            "width": null
          }
        },
        "612a9c4cd45642ea8c51b1e3c25697fe": {
          "model_module": "@jupyter-widgets/controls",
          "model_name": "DescriptionStyleModel",
          "model_module_version": "1.5.0",
          "state": {
            "_model_module": "@jupyter-widgets/controls",
            "_model_module_version": "1.5.0",
            "_model_name": "DescriptionStyleModel",
            "_view_count": null,
            "_view_module": "@jupyter-widgets/base",
            "_view_module_version": "1.2.0",
            "_view_name": "StyleView",
            "description_width": ""
          }
        },
        "f6b8c5feef1f4d579932c1229366c292": {
          "model_module": "@jupyter-widgets/controls",
          "model_name": "HBoxModel",
          "model_module_version": "1.5.0",
          "state": {
            "_dom_classes": [],
            "_model_module": "@jupyter-widgets/controls",
            "_model_module_version": "1.5.0",
            "_model_name": "HBoxModel",
            "_view_count": null,
            "_view_module": "@jupyter-widgets/controls",
            "_view_module_version": "1.5.0",
            "_view_name": "HBoxView",
            "box_style": "",
            "children": [
              "IPY_MODEL_b7a8c9f26cdb46c3904b21d103391127",
              "IPY_MODEL_e05b20a3eea642f0b5fc1ec0f3a5a11b",
              "IPY_MODEL_a778f4b942764c518727c75642751ccc"
            ],
            "layout": "IPY_MODEL_64b85a44d2ec40c7ab5fca36f8b500b8"
          }
        },
        "b7a8c9f26cdb46c3904b21d103391127": {
          "model_module": "@jupyter-widgets/controls",
          "model_name": "HTMLModel",
          "model_module_version": "1.5.0",
          "state": {
            "_dom_classes": [],
            "_model_module": "@jupyter-widgets/controls",
            "_model_module_version": "1.5.0",
            "_model_name": "HTMLModel",
            "_view_count": null,
            "_view_module": "@jupyter-widgets/controls",
            "_view_module_version": "1.5.0",
            "_view_name": "HTMLView",
            "description": "",
            "description_tooltip": null,
            "layout": "IPY_MODEL_9a1d31545bda4392bfdd97ddc87c3ac4",
            "placeholder": "​",
            "style": "IPY_MODEL_c22d65097f1341b69e837028b1defb6f",
            "value": "Generating test split: 100%"
          }
        },
        "e05b20a3eea642f0b5fc1ec0f3a5a11b": {
          "model_module": "@jupyter-widgets/controls",
          "model_name": "FloatProgressModel",
          "model_module_version": "1.5.0",
          "state": {
            "_dom_classes": [],
            "_model_module": "@jupyter-widgets/controls",
            "_model_module_version": "1.5.0",
            "_model_name": "FloatProgressModel",
            "_view_count": null,
            "_view_module": "@jupyter-widgets/controls",
            "_view_module_version": "1.5.0",
            "_view_name": "ProgressView",
            "bar_style": "success",
            "description": "",
            "description_tooltip": null,
            "layout": "IPY_MODEL_a84369cbeb924957b6fbb0c3638befa9",
            "max": 819,
            "min": 0,
            "orientation": "horizontal",
            "style": "IPY_MODEL_f411e2ec58024af8b224adbc4da56455",
            "value": 819
          }
        },
        "a778f4b942764c518727c75642751ccc": {
          "model_module": "@jupyter-widgets/controls",
          "model_name": "HTMLModel",
          "model_module_version": "1.5.0",
          "state": {
            "_dom_classes": [],
            "_model_module": "@jupyter-widgets/controls",
            "_model_module_version": "1.5.0",
            "_model_name": "HTMLModel",
            "_view_count": null,
            "_view_module": "@jupyter-widgets/controls",
            "_view_module_version": "1.5.0",
            "_view_name": "HTMLView",
            "description": "",
            "description_tooltip": null,
            "layout": "IPY_MODEL_5f1a997313674099a9dd156970ae770c",
            "placeholder": "​",
            "style": "IPY_MODEL_e8a801c9046a4c189d85ca3e271e4832",
            "value": " 819/819 [00:00&lt;00:00, 11629.62 examples/s]"
          }
        },
        "64b85a44d2ec40c7ab5fca36f8b500b8": {
          "model_module": "@jupyter-widgets/base",
          "model_name": "LayoutModel",
          "model_module_version": "1.2.0",
          "state": {
            "_model_module": "@jupyter-widgets/base",
            "_model_module_version": "1.2.0",
            "_model_name": "LayoutModel",
            "_view_count": null,
            "_view_module": "@jupyter-widgets/base",
            "_view_module_version": "1.2.0",
            "_view_name": "LayoutView",
            "align_content": null,
            "align_items": null,
            "align_self": null,
            "border": null,
            "bottom": null,
            "display": null,
            "flex": null,
            "flex_flow": null,
            "grid_area": null,
            "grid_auto_columns": null,
            "grid_auto_flow": null,
            "grid_auto_rows": null,
            "grid_column": null,
            "grid_gap": null,
            "grid_row": null,
            "grid_template_areas": null,
            "grid_template_columns": null,
            "grid_template_rows": null,
            "height": null,
            "justify_content": null,
            "justify_items": null,
            "left": null,
            "margin": null,
            "max_height": null,
            "max_width": null,
            "min_height": null,
            "min_width": null,
            "object_fit": null,
            "object_position": null,
            "order": null,
            "overflow": null,
            "overflow_x": null,
            "overflow_y": null,
            "padding": null,
            "right": null,
            "top": null,
            "visibility": null,
            "width": null
          }
        },
        "9a1d31545bda4392bfdd97ddc87c3ac4": {
          "model_module": "@jupyter-widgets/base",
          "model_name": "LayoutModel",
          "model_module_version": "1.2.0",
          "state": {
            "_model_module": "@jupyter-widgets/base",
            "_model_module_version": "1.2.0",
            "_model_name": "LayoutModel",
            "_view_count": null,
            "_view_module": "@jupyter-widgets/base",
            "_view_module_version": "1.2.0",
            "_view_name": "LayoutView",
            "align_content": null,
            "align_items": null,
            "align_self": null,
            "border": null,
            "bottom": null,
            "display": null,
            "flex": null,
            "flex_flow": null,
            "grid_area": null,
            "grid_auto_columns": null,
            "grid_auto_flow": null,
            "grid_auto_rows": null,
            "grid_column": null,
            "grid_gap": null,
            "grid_row": null,
            "grid_template_areas": null,
            "grid_template_columns": null,
            "grid_template_rows": null,
            "height": null,
            "justify_content": null,
            "justify_items": null,
            "left": null,
            "margin": null,
            "max_height": null,
            "max_width": null,
            "min_height": null,
            "min_width": null,
            "object_fit": null,
            "object_position": null,
            "order": null,
            "overflow": null,
            "overflow_x": null,
            "overflow_y": null,
            "padding": null,
            "right": null,
            "top": null,
            "visibility": null,
            "width": null
          }
        },
        "c22d65097f1341b69e837028b1defb6f": {
          "model_module": "@jupyter-widgets/controls",
          "model_name": "DescriptionStyleModel",
          "model_module_version": "1.5.0",
          "state": {
            "_model_module": "@jupyter-widgets/controls",
            "_model_module_version": "1.5.0",
            "_model_name": "DescriptionStyleModel",
            "_view_count": null,
            "_view_module": "@jupyter-widgets/base",
            "_view_module_version": "1.2.0",
            "_view_name": "StyleView",
            "description_width": ""
          }
        },
        "a84369cbeb924957b6fbb0c3638befa9": {
          "model_module": "@jupyter-widgets/base",
          "model_name": "LayoutModel",
          "model_module_version": "1.2.0",
          "state": {
            "_model_module": "@jupyter-widgets/base",
            "_model_module_version": "1.2.0",
            "_model_name": "LayoutModel",
            "_view_count": null,
            "_view_module": "@jupyter-widgets/base",
            "_view_module_version": "1.2.0",
            "_view_name": "LayoutView",
            "align_content": null,
            "align_items": null,
            "align_self": null,
            "border": null,
            "bottom": null,
            "display": null,
            "flex": null,
            "flex_flow": null,
            "grid_area": null,
            "grid_auto_columns": null,
            "grid_auto_flow": null,
            "grid_auto_rows": null,
            "grid_column": null,
            "grid_gap": null,
            "grid_row": null,
            "grid_template_areas": null,
            "grid_template_columns": null,
            "grid_template_rows": null,
            "height": null,
            "justify_content": null,
            "justify_items": null,
            "left": null,
            "margin": null,
            "max_height": null,
            "max_width": null,
            "min_height": null,
            "min_width": null,
            "object_fit": null,
            "object_position": null,
            "order": null,
            "overflow": null,
            "overflow_x": null,
            "overflow_y": null,
            "padding": null,
            "right": null,
            "top": null,
            "visibility": null,
            "width": null
          }
        },
        "f411e2ec58024af8b224adbc4da56455": {
          "model_module": "@jupyter-widgets/controls",
          "model_name": "ProgressStyleModel",
          "model_module_version": "1.5.0",
          "state": {
            "_model_module": "@jupyter-widgets/controls",
            "_model_module_version": "1.5.0",
            "_model_name": "ProgressStyleModel",
            "_view_count": null,
            "_view_module": "@jupyter-widgets/base",
            "_view_module_version": "1.2.0",
            "_view_name": "StyleView",
            "bar_color": null,
            "description_width": ""
          }
        },
        "5f1a997313674099a9dd156970ae770c": {
          "model_module": "@jupyter-widgets/base",
          "model_name": "LayoutModel",
          "model_module_version": "1.2.0",
          "state": {
            "_model_module": "@jupyter-widgets/base",
            "_model_module_version": "1.2.0",
            "_model_name": "LayoutModel",
            "_view_count": null,
            "_view_module": "@jupyter-widgets/base",
            "_view_module_version": "1.2.0",
            "_view_name": "LayoutView",
            "align_content": null,
            "align_items": null,
            "align_self": null,
            "border": null,
            "bottom": null,
            "display": null,
            "flex": null,
            "flex_flow": null,
            "grid_area": null,
            "grid_auto_columns": null,
            "grid_auto_flow": null,
            "grid_auto_rows": null,
            "grid_column": null,
            "grid_gap": null,
            "grid_row": null,
            "grid_template_areas": null,
            "grid_template_columns": null,
            "grid_template_rows": null,
            "height": null,
            "justify_content": null,
            "justify_items": null,
            "left": null,
            "margin": null,
            "max_height": null,
            "max_width": null,
            "min_height": null,
            "min_width": null,
            "object_fit": null,
            "object_position": null,
            "order": null,
            "overflow": null,
            "overflow_x": null,
            "overflow_y": null,
            "padding": null,
            "right": null,
            "top": null,
            "visibility": null,
            "width": null
          }
        },
        "e8a801c9046a4c189d85ca3e271e4832": {
          "model_module": "@jupyter-widgets/controls",
          "model_name": "DescriptionStyleModel",
          "model_module_version": "1.5.0",
          "state": {
            "_model_module": "@jupyter-widgets/controls",
            "_model_module_version": "1.5.0",
            "_model_name": "DescriptionStyleModel",
            "_view_count": null,
            "_view_module": "@jupyter-widgets/base",
            "_view_module_version": "1.2.0",
            "_view_name": "StyleView",
            "description_width": ""
          }
        },
        "073b7d621af3447d9bea1e4fc9d08133": {
          "model_module": "@jupyter-widgets/controls",
          "model_name": "HBoxModel",
          "model_module_version": "1.5.0",
          "state": {
            "_dom_classes": [],
            "_model_module": "@jupyter-widgets/controls",
            "_model_module_version": "1.5.0",
            "_model_name": "HBoxModel",
            "_view_count": null,
            "_view_module": "@jupyter-widgets/controls",
            "_view_module_version": "1.5.0",
            "_view_name": "HBoxView",
            "box_style": "",
            "children": [
              "IPY_MODEL_d8b69657386e4bc8a4ec2692eee228ae",
              "IPY_MODEL_1e1ddd87e4e547a295a3b22a53ad9ca6",
              "IPY_MODEL_6ed61e4d57344ca0ab1bd0bb11d2f4a4"
            ],
            "layout": "IPY_MODEL_e69fb58bbaec4085be9f59436bc7f47e"
          }
        },
        "d8b69657386e4bc8a4ec2692eee228ae": {
          "model_module": "@jupyter-widgets/controls",
          "model_name": "HTMLModel",
          "model_module_version": "1.5.0",
          "state": {
            "_dom_classes": [],
            "_model_module": "@jupyter-widgets/controls",
            "_model_module_version": "1.5.0",
            "_model_name": "HTMLModel",
            "_view_count": null,
            "_view_module": "@jupyter-widgets/controls",
            "_view_module_version": "1.5.0",
            "_view_name": "HTMLView",
            "description": "",
            "description_tooltip": null,
            "layout": "IPY_MODEL_32baad7416f34b9a87e38fa8d4c6843c",
            "placeholder": "​",
            "style": "IPY_MODEL_36ffea224946424499f65753880843fd",
            "value": "Generating validation split: 100%"
          }
        },
        "1e1ddd87e4e547a295a3b22a53ad9ca6": {
          "model_module": "@jupyter-widgets/controls",
          "model_name": "FloatProgressModel",
          "model_module_version": "1.5.0",
          "state": {
            "_dom_classes": [],
            "_model_module": "@jupyter-widgets/controls",
            "_model_module_version": "1.5.0",
            "_model_name": "FloatProgressModel",
            "_view_count": null,
            "_view_module": "@jupyter-widgets/controls",
            "_view_module_version": "1.5.0",
            "_view_name": "ProgressView",
            "bar_style": "success",
            "description": "",
            "description_tooltip": null,
            "layout": "IPY_MODEL_6700829705424aeca69f17c9c976c0bd",
            "max": 818,
            "min": 0,
            "orientation": "horizontal",
            "style": "IPY_MODEL_536f19343d454c6e9bfb60e5e8b8e2e3",
            "value": 818
          }
        },
        "6ed61e4d57344ca0ab1bd0bb11d2f4a4": {
          "model_module": "@jupyter-widgets/controls",
          "model_name": "HTMLModel",
          "model_module_version": "1.5.0",
          "state": {
            "_dom_classes": [],
            "_model_module": "@jupyter-widgets/controls",
            "_model_module_version": "1.5.0",
            "_model_name": "HTMLModel",
            "_view_count": null,
            "_view_module": "@jupyter-widgets/controls",
            "_view_module_version": "1.5.0",
            "_view_name": "HTMLView",
            "description": "",
            "description_tooltip": null,
            "layout": "IPY_MODEL_cd0aa92e6cd54fda92721ac553ddf99e",
            "placeholder": "​",
            "style": "IPY_MODEL_3f4875f0df6e438c807bcf07c028896a",
            "value": " 818/818 [00:00&lt;00:00, 19141.82 examples/s]"
          }
        },
        "e69fb58bbaec4085be9f59436bc7f47e": {
          "model_module": "@jupyter-widgets/base",
          "model_name": "LayoutModel",
          "model_module_version": "1.2.0",
          "state": {
            "_model_module": "@jupyter-widgets/base",
            "_model_module_version": "1.2.0",
            "_model_name": "LayoutModel",
            "_view_count": null,
            "_view_module": "@jupyter-widgets/base",
            "_view_module_version": "1.2.0",
            "_view_name": "LayoutView",
            "align_content": null,
            "align_items": null,
            "align_self": null,
            "border": null,
            "bottom": null,
            "display": null,
            "flex": null,
            "flex_flow": null,
            "grid_area": null,
            "grid_auto_columns": null,
            "grid_auto_flow": null,
            "grid_auto_rows": null,
            "grid_column": null,
            "grid_gap": null,
            "grid_row": null,
            "grid_template_areas": null,
            "grid_template_columns": null,
            "grid_template_rows": null,
            "height": null,
            "justify_content": null,
            "justify_items": null,
            "left": null,
            "margin": null,
            "max_height": null,
            "max_width": null,
            "min_height": null,
            "min_width": null,
            "object_fit": null,
            "object_position": null,
            "order": null,
            "overflow": null,
            "overflow_x": null,
            "overflow_y": null,
            "padding": null,
            "right": null,
            "top": null,
            "visibility": null,
            "width": null
          }
        },
        "32baad7416f34b9a87e38fa8d4c6843c": {
          "model_module": "@jupyter-widgets/base",
          "model_name": "LayoutModel",
          "model_module_version": "1.2.0",
          "state": {
            "_model_module": "@jupyter-widgets/base",
            "_model_module_version": "1.2.0",
            "_model_name": "LayoutModel",
            "_view_count": null,
            "_view_module": "@jupyter-widgets/base",
            "_view_module_version": "1.2.0",
            "_view_name": "LayoutView",
            "align_content": null,
            "align_items": null,
            "align_self": null,
            "border": null,
            "bottom": null,
            "display": null,
            "flex": null,
            "flex_flow": null,
            "grid_area": null,
            "grid_auto_columns": null,
            "grid_auto_flow": null,
            "grid_auto_rows": null,
            "grid_column": null,
            "grid_gap": null,
            "grid_row": null,
            "grid_template_areas": null,
            "grid_template_columns": null,
            "grid_template_rows": null,
            "height": null,
            "justify_content": null,
            "justify_items": null,
            "left": null,
            "margin": null,
            "max_height": null,
            "max_width": null,
            "min_height": null,
            "min_width": null,
            "object_fit": null,
            "object_position": null,
            "order": null,
            "overflow": null,
            "overflow_x": null,
            "overflow_y": null,
            "padding": null,
            "right": null,
            "top": null,
            "visibility": null,
            "width": null
          }
        },
        "36ffea224946424499f65753880843fd": {
          "model_module": "@jupyter-widgets/controls",
          "model_name": "DescriptionStyleModel",
          "model_module_version": "1.5.0",
          "state": {
            "_model_module": "@jupyter-widgets/controls",
            "_model_module_version": "1.5.0",
            "_model_name": "DescriptionStyleModel",
            "_view_count": null,
            "_view_module": "@jupyter-widgets/base",
            "_view_module_version": "1.2.0",
            "_view_name": "StyleView",
            "description_width": ""
          }
        },
        "6700829705424aeca69f17c9c976c0bd": {
          "model_module": "@jupyter-widgets/base",
          "model_name": "LayoutModel",
          "model_module_version": "1.2.0",
          "state": {
            "_model_module": "@jupyter-widgets/base",
            "_model_module_version": "1.2.0",
            "_model_name": "LayoutModel",
            "_view_count": null,
            "_view_module": "@jupyter-widgets/base",
            "_view_module_version": "1.2.0",
            "_view_name": "LayoutView",
            "align_content": null,
            "align_items": null,
            "align_self": null,
            "border": null,
            "bottom": null,
            "display": null,
            "flex": null,
            "flex_flow": null,
            "grid_area": null,
            "grid_auto_columns": null,
            "grid_auto_flow": null,
            "grid_auto_rows": null,
            "grid_column": null,
            "grid_gap": null,
            "grid_row": null,
            "grid_template_areas": null,
            "grid_template_columns": null,
            "grid_template_rows": null,
            "height": null,
            "justify_content": null,
            "justify_items": null,
            "left": null,
            "margin": null,
            "max_height": null,
            "max_width": null,
            "min_height": null,
            "min_width": null,
            "object_fit": null,
            "object_position": null,
            "order": null,
            "overflow": null,
            "overflow_x": null,
            "overflow_y": null,
            "padding": null,
            "right": null,
            "top": null,
            "visibility": null,
            "width": null
          }
        },
        "536f19343d454c6e9bfb60e5e8b8e2e3": {
          "model_module": "@jupyter-widgets/controls",
          "model_name": "ProgressStyleModel",
          "model_module_version": "1.5.0",
          "state": {
            "_model_module": "@jupyter-widgets/controls",
            "_model_module_version": "1.5.0",
            "_model_name": "ProgressStyleModel",
            "_view_count": null,
            "_view_module": "@jupyter-widgets/base",
            "_view_module_version": "1.2.0",
            "_view_name": "StyleView",
            "bar_color": null,
            "description_width": ""
          }
        },
        "cd0aa92e6cd54fda92721ac553ddf99e": {
          "model_module": "@jupyter-widgets/base",
          "model_name": "LayoutModel",
          "model_module_version": "1.2.0",
          "state": {
            "_model_module": "@jupyter-widgets/base",
            "_model_module_version": "1.2.0",
            "_model_name": "LayoutModel",
            "_view_count": null,
            "_view_module": "@jupyter-widgets/base",
            "_view_module_version": "1.2.0",
            "_view_name": "LayoutView",
            "align_content": null,
            "align_items": null,
            "align_self": null,
            "border": null,
            "bottom": null,
            "display": null,
            "flex": null,
            "flex_flow": null,
            "grid_area": null,
            "grid_auto_columns": null,
            "grid_auto_flow": null,
            "grid_auto_rows": null,
            "grid_column": null,
            "grid_gap": null,
            "grid_row": null,
            "grid_template_areas": null,
            "grid_template_columns": null,
            "grid_template_rows": null,
            "height": null,
            "justify_content": null,
            "justify_items": null,
            "left": null,
            "margin": null,
            "max_height": null,
            "max_width": null,
            "min_height": null,
            "min_width": null,
            "object_fit": null,
            "object_position": null,
            "order": null,
            "overflow": null,
            "overflow_x": null,
            "overflow_y": null,
            "padding": null,
            "right": null,
            "top": null,
            "visibility": null,
            "width": null
          }
        },
        "3f4875f0df6e438c807bcf07c028896a": {
          "model_module": "@jupyter-widgets/controls",
          "model_name": "DescriptionStyleModel",
          "model_module_version": "1.5.0",
          "state": {
            "_model_module": "@jupyter-widgets/controls",
            "_model_module_version": "1.5.0",
            "_model_name": "DescriptionStyleModel",
            "_view_count": null,
            "_view_module": "@jupyter-widgets/base",
            "_view_module_version": "1.2.0",
            "_view_name": "StyleView",
            "description_width": ""
          }
        },
        "5d40674503684033a2a1fbcd5588198c": {
          "model_module": "@jupyter-widgets/controls",
          "model_name": "HBoxModel",
          "model_module_version": "1.5.0",
          "state": {
            "_dom_classes": [],
            "_model_module": "@jupyter-widgets/controls",
            "_model_module_version": "1.5.0",
            "_model_name": "HBoxModel",
            "_view_count": null,
            "_view_module": "@jupyter-widgets/controls",
            "_view_module_version": "1.5.0",
            "_view_name": "HBoxView",
            "box_style": "",
            "children": [
              "IPY_MODEL_36a9e47896e44107b8a95a295ad10d26",
              "IPY_MODEL_ffdc14e22a8344f9b329a8fd1dd5708c",
              "IPY_MODEL_2eb99fab30e74b95ad0d8d3288f7321d"
            ],
            "layout": "IPY_MODEL_74cf8dee5c53490d8b55622ffb077a18"
          }
        },
        "36a9e47896e44107b8a95a295ad10d26": {
          "model_module": "@jupyter-widgets/controls",
          "model_name": "HTMLModel",
          "model_module_version": "1.5.0",
          "state": {
            "_dom_classes": [],
            "_model_module": "@jupyter-widgets/controls",
            "_model_module_version": "1.5.0",
            "_model_name": "HTMLModel",
            "_view_count": null,
            "_view_module": "@jupyter-widgets/controls",
            "_view_module_version": "1.5.0",
            "_view_name": "HTMLView",
            "description": "",
            "description_tooltip": null,
            "layout": "IPY_MODEL_e6d8228f8801453fad4a50c77f152b25",
            "placeholder": "​",
            "style": "IPY_MODEL_006e88cee9d74c189c351faadd519bf2",
            "value": "Map: 100%"
          }
        },
        "ffdc14e22a8344f9b329a8fd1dd5708c": {
          "model_module": "@jupyter-widgets/controls",
          "model_name": "FloatProgressModel",
          "model_module_version": "1.5.0",
          "state": {
            "_dom_classes": [],
            "_model_module": "@jupyter-widgets/controls",
            "_model_module_version": "1.5.0",
            "_model_name": "FloatProgressModel",
            "_view_count": null,
            "_view_module": "@jupyter-widgets/controls",
            "_view_module_version": "1.5.0",
            "_view_name": "ProgressView",
            "bar_style": "success",
            "description": "",
            "description_tooltip": null,
            "layout": "IPY_MODEL_99f5dbb9769e4323985bf74ee02f06b0",
            "max": 14732,
            "min": 0,
            "orientation": "horizontal",
            "style": "IPY_MODEL_d553807428534062b8fa08871fcd4cc5",
            "value": 14732
          }
        },
        "2eb99fab30e74b95ad0d8d3288f7321d": {
          "model_module": "@jupyter-widgets/controls",
          "model_name": "HTMLModel",
          "model_module_version": "1.5.0",
          "state": {
            "_dom_classes": [],
            "_model_module": "@jupyter-widgets/controls",
            "_model_module_version": "1.5.0",
            "_model_name": "HTMLModel",
            "_view_count": null,
            "_view_module": "@jupyter-widgets/controls",
            "_view_module_version": "1.5.0",
            "_view_name": "HTMLView",
            "description": "",
            "description_tooltip": null,
            "layout": "IPY_MODEL_e4b86936087c46dfb018da01ab3abb94",
            "placeholder": "​",
            "style": "IPY_MODEL_b3acb617d7694f3baef1b74d5d4ed730",
            "value": " 14732/14732 [00:12&lt;00:00, 1835.52 examples/s]"
          }
        },
        "74cf8dee5c53490d8b55622ffb077a18": {
          "model_module": "@jupyter-widgets/base",
          "model_name": "LayoutModel",
          "model_module_version": "1.2.0",
          "state": {
            "_model_module": "@jupyter-widgets/base",
            "_model_module_version": "1.2.0",
            "_model_name": "LayoutModel",
            "_view_count": null,
            "_view_module": "@jupyter-widgets/base",
            "_view_module_version": "1.2.0",
            "_view_name": "LayoutView",
            "align_content": null,
            "align_items": null,
            "align_self": null,
            "border": null,
            "bottom": null,
            "display": null,
            "flex": null,
            "flex_flow": null,
            "grid_area": null,
            "grid_auto_columns": null,
            "grid_auto_flow": null,
            "grid_auto_rows": null,
            "grid_column": null,
            "grid_gap": null,
            "grid_row": null,
            "grid_template_areas": null,
            "grid_template_columns": null,
            "grid_template_rows": null,
            "height": null,
            "justify_content": null,
            "justify_items": null,
            "left": null,
            "margin": null,
            "max_height": null,
            "max_width": null,
            "min_height": null,
            "min_width": null,
            "object_fit": null,
            "object_position": null,
            "order": null,
            "overflow": null,
            "overflow_x": null,
            "overflow_y": null,
            "padding": null,
            "right": null,
            "top": null,
            "visibility": null,
            "width": null
          }
        },
        "e6d8228f8801453fad4a50c77f152b25": {
          "model_module": "@jupyter-widgets/base",
          "model_name": "LayoutModel",
          "model_module_version": "1.2.0",
          "state": {
            "_model_module": "@jupyter-widgets/base",
            "_model_module_version": "1.2.0",
            "_model_name": "LayoutModel",
            "_view_count": null,
            "_view_module": "@jupyter-widgets/base",
            "_view_module_version": "1.2.0",
            "_view_name": "LayoutView",
            "align_content": null,
            "align_items": null,
            "align_self": null,
            "border": null,
            "bottom": null,
            "display": null,
            "flex": null,
            "flex_flow": null,
            "grid_area": null,
            "grid_auto_columns": null,
            "grid_auto_flow": null,
            "grid_auto_rows": null,
            "grid_column": null,
            "grid_gap": null,
            "grid_row": null,
            "grid_template_areas": null,
            "grid_template_columns": null,
            "grid_template_rows": null,
            "height": null,
            "justify_content": null,
            "justify_items": null,
            "left": null,
            "margin": null,
            "max_height": null,
            "max_width": null,
            "min_height": null,
            "min_width": null,
            "object_fit": null,
            "object_position": null,
            "order": null,
            "overflow": null,
            "overflow_x": null,
            "overflow_y": null,
            "padding": null,
            "right": null,
            "top": null,
            "visibility": null,
            "width": null
          }
        },
        "006e88cee9d74c189c351faadd519bf2": {
          "model_module": "@jupyter-widgets/controls",
          "model_name": "DescriptionStyleModel",
          "model_module_version": "1.5.0",
          "state": {
            "_model_module": "@jupyter-widgets/controls",
            "_model_module_version": "1.5.0",
            "_model_name": "DescriptionStyleModel",
            "_view_count": null,
            "_view_module": "@jupyter-widgets/base",
            "_view_module_version": "1.2.0",
            "_view_name": "StyleView",
            "description_width": ""
          }
        },
        "99f5dbb9769e4323985bf74ee02f06b0": {
          "model_module": "@jupyter-widgets/base",
          "model_name": "LayoutModel",
          "model_module_version": "1.2.0",
          "state": {
            "_model_module": "@jupyter-widgets/base",
            "_model_module_version": "1.2.0",
            "_model_name": "LayoutModel",
            "_view_count": null,
            "_view_module": "@jupyter-widgets/base",
            "_view_module_version": "1.2.0",
            "_view_name": "LayoutView",
            "align_content": null,
            "align_items": null,
            "align_self": null,
            "border": null,
            "bottom": null,
            "display": null,
            "flex": null,
            "flex_flow": null,
            "grid_area": null,
            "grid_auto_columns": null,
            "grid_auto_flow": null,
            "grid_auto_rows": null,
            "grid_column": null,
            "grid_gap": null,
            "grid_row": null,
            "grid_template_areas": null,
            "grid_template_columns": null,
            "grid_template_rows": null,
            "height": null,
            "justify_content": null,
            "justify_items": null,
            "left": null,
            "margin": null,
            "max_height": null,
            "max_width": null,
            "min_height": null,
            "min_width": null,
            "object_fit": null,
            "object_position": null,
            "order": null,
            "overflow": null,
            "overflow_x": null,
            "overflow_y": null,
            "padding": null,
            "right": null,
            "top": null,
            "visibility": null,
            "width": null
          }
        },
        "d553807428534062b8fa08871fcd4cc5": {
          "model_module": "@jupyter-widgets/controls",
          "model_name": "ProgressStyleModel",
          "model_module_version": "1.5.0",
          "state": {
            "_model_module": "@jupyter-widgets/controls",
            "_model_module_version": "1.5.0",
            "_model_name": "ProgressStyleModel",
            "_view_count": null,
            "_view_module": "@jupyter-widgets/base",
            "_view_module_version": "1.2.0",
            "_view_name": "StyleView",
            "bar_color": null,
            "description_width": ""
          }
        },
        "e4b86936087c46dfb018da01ab3abb94": {
          "model_module": "@jupyter-widgets/base",
          "model_name": "LayoutModel",
          "model_module_version": "1.2.0",
          "state": {
            "_model_module": "@jupyter-widgets/base",
            "_model_module_version": "1.2.0",
            "_model_name": "LayoutModel",
            "_view_count": null,
            "_view_module": "@jupyter-widgets/base",
            "_view_module_version": "1.2.0",
            "_view_name": "LayoutView",
            "align_content": null,
            "align_items": null,
            "align_self": null,
            "border": null,
            "bottom": null,
            "display": null,
            "flex": null,
            "flex_flow": null,
            "grid_area": null,
            "grid_auto_columns": null,
            "grid_auto_flow": null,
            "grid_auto_rows": null,
            "grid_column": null,
            "grid_gap": null,
            "grid_row": null,
            "grid_template_areas": null,
            "grid_template_columns": null,
            "grid_template_rows": null,
            "height": null,
            "justify_content": null,
            "justify_items": null,
            "left": null,
            "margin": null,
            "max_height": null,
            "max_width": null,
            "min_height": null,
            "min_width": null,
            "object_fit": null,
            "object_position": null,
            "order": null,
            "overflow": null,
            "overflow_x": null,
            "overflow_y": null,
            "padding": null,
            "right": null,
            "top": null,
            "visibility": null,
            "width": null
          }
        },
        "b3acb617d7694f3baef1b74d5d4ed730": {
          "model_module": "@jupyter-widgets/controls",
          "model_name": "DescriptionStyleModel",
          "model_module_version": "1.5.0",
          "state": {
            "_model_module": "@jupyter-widgets/controls",
            "_model_module_version": "1.5.0",
            "_model_name": "DescriptionStyleModel",
            "_view_count": null,
            "_view_module": "@jupyter-widgets/base",
            "_view_module_version": "1.2.0",
            "_view_name": "StyleView",
            "description_width": ""
          }
        },
        "3b5cb32bbefa41b19fb925e8fec48a34": {
          "model_module": "@jupyter-widgets/controls",
          "model_name": "HBoxModel",
          "model_module_version": "1.5.0",
          "state": {
            "_dom_classes": [],
            "_model_module": "@jupyter-widgets/controls",
            "_model_module_version": "1.5.0",
            "_model_name": "HBoxModel",
            "_view_count": null,
            "_view_module": "@jupyter-widgets/controls",
            "_view_module_version": "1.5.0",
            "_view_name": "HBoxView",
            "box_style": "",
            "children": [
              "IPY_MODEL_d409bbae233e4f7198abf9ce50d393cf",
              "IPY_MODEL_ebf41818ee8f402392613cbbc9bb98be",
              "IPY_MODEL_80bded1efa5c49f58bc0e329290cf463"
            ],
            "layout": "IPY_MODEL_826f30d6262f482ab953b5afa9e7086a"
          }
        },
        "d409bbae233e4f7198abf9ce50d393cf": {
          "model_module": "@jupyter-widgets/controls",
          "model_name": "HTMLModel",
          "model_module_version": "1.5.0",
          "state": {
            "_dom_classes": [],
            "_model_module": "@jupyter-widgets/controls",
            "_model_module_version": "1.5.0",
            "_model_name": "HTMLModel",
            "_view_count": null,
            "_view_module": "@jupyter-widgets/controls",
            "_view_module_version": "1.5.0",
            "_view_name": "HTMLView",
            "description": "",
            "description_tooltip": null,
            "layout": "IPY_MODEL_efa5fd1a333046f4b6130229512e4ff1",
            "placeholder": "​",
            "style": "IPY_MODEL_4604e22244514d81a59c74035a2f29c4",
            "value": "Map: 100%"
          }
        },
        "ebf41818ee8f402392613cbbc9bb98be": {
          "model_module": "@jupyter-widgets/controls",
          "model_name": "FloatProgressModel",
          "model_module_version": "1.5.0",
          "state": {
            "_dom_classes": [],
            "_model_module": "@jupyter-widgets/controls",
            "_model_module_version": "1.5.0",
            "_model_name": "FloatProgressModel",
            "_view_count": null,
            "_view_module": "@jupyter-widgets/controls",
            "_view_module_version": "1.5.0",
            "_view_name": "ProgressView",
            "bar_style": "success",
            "description": "",
            "description_tooltip": null,
            "layout": "IPY_MODEL_2a14da0666f44d369027c5cd07903ffa",
            "max": 819,
            "min": 0,
            "orientation": "horizontal",
            "style": "IPY_MODEL_03bed4f87c324cd4af5e77b01159dfe9",
            "value": 819
          }
        },
        "80bded1efa5c49f58bc0e329290cf463": {
          "model_module": "@jupyter-widgets/controls",
          "model_name": "HTMLModel",
          "model_module_version": "1.5.0",
          "state": {
            "_dom_classes": [],
            "_model_module": "@jupyter-widgets/controls",
            "_model_module_version": "1.5.0",
            "_model_name": "HTMLModel",
            "_view_count": null,
            "_view_module": "@jupyter-widgets/controls",
            "_view_module_version": "1.5.0",
            "_view_name": "HTMLView",
            "description": "",
            "description_tooltip": null,
            "layout": "IPY_MODEL_83b9848c6628434fb409f76e48bad747",
            "placeholder": "​",
            "style": "IPY_MODEL_cddf4eb68f5348c290d1718ba7417296",
            "value": " 819/819 [00:00&lt;00:00, 1927.50 examples/s]"
          }
        },
        "826f30d6262f482ab953b5afa9e7086a": {
          "model_module": "@jupyter-widgets/base",
          "model_name": "LayoutModel",
          "model_module_version": "1.2.0",
          "state": {
            "_model_module": "@jupyter-widgets/base",
            "_model_module_version": "1.2.0",
            "_model_name": "LayoutModel",
            "_view_count": null,
            "_view_module": "@jupyter-widgets/base",
            "_view_module_version": "1.2.0",
            "_view_name": "LayoutView",
            "align_content": null,
            "align_items": null,
            "align_self": null,
            "border": null,
            "bottom": null,
            "display": null,
            "flex": null,
            "flex_flow": null,
            "grid_area": null,
            "grid_auto_columns": null,
            "grid_auto_flow": null,
            "grid_auto_rows": null,
            "grid_column": null,
            "grid_gap": null,
            "grid_row": null,
            "grid_template_areas": null,
            "grid_template_columns": null,
            "grid_template_rows": null,
            "height": null,
            "justify_content": null,
            "justify_items": null,
            "left": null,
            "margin": null,
            "max_height": null,
            "max_width": null,
            "min_height": null,
            "min_width": null,
            "object_fit": null,
            "object_position": null,
            "order": null,
            "overflow": null,
            "overflow_x": null,
            "overflow_y": null,
            "padding": null,
            "right": null,
            "top": null,
            "visibility": null,
            "width": null
          }
        },
        "efa5fd1a333046f4b6130229512e4ff1": {
          "model_module": "@jupyter-widgets/base",
          "model_name": "LayoutModel",
          "model_module_version": "1.2.0",
          "state": {
            "_model_module": "@jupyter-widgets/base",
            "_model_module_version": "1.2.0",
            "_model_name": "LayoutModel",
            "_view_count": null,
            "_view_module": "@jupyter-widgets/base",
            "_view_module_version": "1.2.0",
            "_view_name": "LayoutView",
            "align_content": null,
            "align_items": null,
            "align_self": null,
            "border": null,
            "bottom": null,
            "display": null,
            "flex": null,
            "flex_flow": null,
            "grid_area": null,
            "grid_auto_columns": null,
            "grid_auto_flow": null,
            "grid_auto_rows": null,
            "grid_column": null,
            "grid_gap": null,
            "grid_row": null,
            "grid_template_areas": null,
            "grid_template_columns": null,
            "grid_template_rows": null,
            "height": null,
            "justify_content": null,
            "justify_items": null,
            "left": null,
            "margin": null,
            "max_height": null,
            "max_width": null,
            "min_height": null,
            "min_width": null,
            "object_fit": null,
            "object_position": null,
            "order": null,
            "overflow": null,
            "overflow_x": null,
            "overflow_y": null,
            "padding": null,
            "right": null,
            "top": null,
            "visibility": null,
            "width": null
          }
        },
        "4604e22244514d81a59c74035a2f29c4": {
          "model_module": "@jupyter-widgets/controls",
          "model_name": "DescriptionStyleModel",
          "model_module_version": "1.5.0",
          "state": {
            "_model_module": "@jupyter-widgets/controls",
            "_model_module_version": "1.5.0",
            "_model_name": "DescriptionStyleModel",
            "_view_count": null,
            "_view_module": "@jupyter-widgets/base",
            "_view_module_version": "1.2.0",
            "_view_name": "StyleView",
            "description_width": ""
          }
        },
        "2a14da0666f44d369027c5cd07903ffa": {
          "model_module": "@jupyter-widgets/base",
          "model_name": "LayoutModel",
          "model_module_version": "1.2.0",
          "state": {
            "_model_module": "@jupyter-widgets/base",
            "_model_module_version": "1.2.0",
            "_model_name": "LayoutModel",
            "_view_count": null,
            "_view_module": "@jupyter-widgets/base",
            "_view_module_version": "1.2.0",
            "_view_name": "LayoutView",
            "align_content": null,
            "align_items": null,
            "align_self": null,
            "border": null,
            "bottom": null,
            "display": null,
            "flex": null,
            "flex_flow": null,
            "grid_area": null,
            "grid_auto_columns": null,
            "grid_auto_flow": null,
            "grid_auto_rows": null,
            "grid_column": null,
            "grid_gap": null,
            "grid_row": null,
            "grid_template_areas": null,
            "grid_template_columns": null,
            "grid_template_rows": null,
            "height": null,
            "justify_content": null,
            "justify_items": null,
            "left": null,
            "margin": null,
            "max_height": null,
            "max_width": null,
            "min_height": null,
            "min_width": null,
            "object_fit": null,
            "object_position": null,
            "order": null,
            "overflow": null,
            "overflow_x": null,
            "overflow_y": null,
            "padding": null,
            "right": null,
            "top": null,
            "visibility": null,
            "width": null
          }
        },
        "03bed4f87c324cd4af5e77b01159dfe9": {
          "model_module": "@jupyter-widgets/controls",
          "model_name": "ProgressStyleModel",
          "model_module_version": "1.5.0",
          "state": {
            "_model_module": "@jupyter-widgets/controls",
            "_model_module_version": "1.5.0",
            "_model_name": "ProgressStyleModel",
            "_view_count": null,
            "_view_module": "@jupyter-widgets/base",
            "_view_module_version": "1.2.0",
            "_view_name": "StyleView",
            "bar_color": null,
            "description_width": ""
          }
        },
        "83b9848c6628434fb409f76e48bad747": {
          "model_module": "@jupyter-widgets/base",
          "model_name": "LayoutModel",
          "model_module_version": "1.2.0",
          "state": {
            "_model_module": "@jupyter-widgets/base",
            "_model_module_version": "1.2.0",
            "_model_name": "LayoutModel",
            "_view_count": null,
            "_view_module": "@jupyter-widgets/base",
            "_view_module_version": "1.2.0",
            "_view_name": "LayoutView",
            "align_content": null,
            "align_items": null,
            "align_self": null,
            "border": null,
            "bottom": null,
            "display": null,
            "flex": null,
            "flex_flow": null,
            "grid_area": null,
            "grid_auto_columns": null,
            "grid_auto_flow": null,
            "grid_auto_rows": null,
            "grid_column": null,
            "grid_gap": null,
            "grid_row": null,
            "grid_template_areas": null,
            "grid_template_columns": null,
            "grid_template_rows": null,
            "height": null,
            "justify_content": null,
            "justify_items": null,
            "left": null,
            "margin": null,
            "max_height": null,
            "max_width": null,
            "min_height": null,
            "min_width": null,
            "object_fit": null,
            "object_position": null,
            "order": null,
            "overflow": null,
            "overflow_x": null,
            "overflow_y": null,
            "padding": null,
            "right": null,
            "top": null,
            "visibility": null,
            "width": null
          }
        },
        "cddf4eb68f5348c290d1718ba7417296": {
          "model_module": "@jupyter-widgets/controls",
          "model_name": "DescriptionStyleModel",
          "model_module_version": "1.5.0",
          "state": {
            "_model_module": "@jupyter-widgets/controls",
            "_model_module_version": "1.5.0",
            "_model_name": "DescriptionStyleModel",
            "_view_count": null,
            "_view_module": "@jupyter-widgets/base",
            "_view_module_version": "1.2.0",
            "_view_name": "StyleView",
            "description_width": ""
          }
        },
        "c6327d2efaa94df193eca66ed426f15b": {
          "model_module": "@jupyter-widgets/controls",
          "model_name": "HBoxModel",
          "model_module_version": "1.5.0",
          "state": {
            "_dom_classes": [],
            "_model_module": "@jupyter-widgets/controls",
            "_model_module_version": "1.5.0",
            "_model_name": "HBoxModel",
            "_view_count": null,
            "_view_module": "@jupyter-widgets/controls",
            "_view_module_version": "1.5.0",
            "_view_name": "HBoxView",
            "box_style": "",
            "children": [
              "IPY_MODEL_121f191410c8430793257bdd902a3909",
              "IPY_MODEL_ce3f08642eb54e92b044d5da3ef93441",
              "IPY_MODEL_817e957742c84f0e85f2f60bdd8bbef7"
            ],
            "layout": "IPY_MODEL_3674dcc7e20f454f9b3122be57194042"
          }
        },
        "121f191410c8430793257bdd902a3909": {
          "model_module": "@jupyter-widgets/controls",
          "model_name": "HTMLModel",
          "model_module_version": "1.5.0",
          "state": {
            "_dom_classes": [],
            "_model_module": "@jupyter-widgets/controls",
            "_model_module_version": "1.5.0",
            "_model_name": "HTMLModel",
            "_view_count": null,
            "_view_module": "@jupyter-widgets/controls",
            "_view_module_version": "1.5.0",
            "_view_name": "HTMLView",
            "description": "",
            "description_tooltip": null,
            "layout": "IPY_MODEL_0bdd2e5f06624a3598edcd4225a3432e",
            "placeholder": "​",
            "style": "IPY_MODEL_fd1e68b962ce49c6a3f5e3ee6789ea4f",
            "value": "Map: 100%"
          }
        },
        "ce3f08642eb54e92b044d5da3ef93441": {
          "model_module": "@jupyter-widgets/controls",
          "model_name": "FloatProgressModel",
          "model_module_version": "1.5.0",
          "state": {
            "_dom_classes": [],
            "_model_module": "@jupyter-widgets/controls",
            "_model_module_version": "1.5.0",
            "_model_name": "FloatProgressModel",
            "_view_count": null,
            "_view_module": "@jupyter-widgets/controls",
            "_view_module_version": "1.5.0",
            "_view_name": "ProgressView",
            "bar_style": "success",
            "description": "",
            "description_tooltip": null,
            "layout": "IPY_MODEL_cb684d6340f34f8e852db1cb91220bde",
            "max": 818,
            "min": 0,
            "orientation": "horizontal",
            "style": "IPY_MODEL_26dfdb8244354846a4282019e4f4be5c",
            "value": 818
          }
        },
        "817e957742c84f0e85f2f60bdd8bbef7": {
          "model_module": "@jupyter-widgets/controls",
          "model_name": "HTMLModel",
          "model_module_version": "1.5.0",
          "state": {
            "_dom_classes": [],
            "_model_module": "@jupyter-widgets/controls",
            "_model_module_version": "1.5.0",
            "_model_name": "HTMLModel",
            "_view_count": null,
            "_view_module": "@jupyter-widgets/controls",
            "_view_module_version": "1.5.0",
            "_view_name": "HTMLView",
            "description": "",
            "description_tooltip": null,
            "layout": "IPY_MODEL_0aee845047d8401fb81799a12e8b0df0",
            "placeholder": "​",
            "style": "IPY_MODEL_29997e7ceebe41419204244740042d85",
            "value": " 818/818 [00:00&lt;00:00, 2011.31 examples/s]"
          }
        },
        "3674dcc7e20f454f9b3122be57194042": {
          "model_module": "@jupyter-widgets/base",
          "model_name": "LayoutModel",
          "model_module_version": "1.2.0",
          "state": {
            "_model_module": "@jupyter-widgets/base",
            "_model_module_version": "1.2.0",
            "_model_name": "LayoutModel",
            "_view_count": null,
            "_view_module": "@jupyter-widgets/base",
            "_view_module_version": "1.2.0",
            "_view_name": "LayoutView",
            "align_content": null,
            "align_items": null,
            "align_self": null,
            "border": null,
            "bottom": null,
            "display": null,
            "flex": null,
            "flex_flow": null,
            "grid_area": null,
            "grid_auto_columns": null,
            "grid_auto_flow": null,
            "grid_auto_rows": null,
            "grid_column": null,
            "grid_gap": null,
            "grid_row": null,
            "grid_template_areas": null,
            "grid_template_columns": null,
            "grid_template_rows": null,
            "height": null,
            "justify_content": null,
            "justify_items": null,
            "left": null,
            "margin": null,
            "max_height": null,
            "max_width": null,
            "min_height": null,
            "min_width": null,
            "object_fit": null,
            "object_position": null,
            "order": null,
            "overflow": null,
            "overflow_x": null,
            "overflow_y": null,
            "padding": null,
            "right": null,
            "top": null,
            "visibility": null,
            "width": null
          }
        },
        "0bdd2e5f06624a3598edcd4225a3432e": {
          "model_module": "@jupyter-widgets/base",
          "model_name": "LayoutModel",
          "model_module_version": "1.2.0",
          "state": {
            "_model_module": "@jupyter-widgets/base",
            "_model_module_version": "1.2.0",
            "_model_name": "LayoutModel",
            "_view_count": null,
            "_view_module": "@jupyter-widgets/base",
            "_view_module_version": "1.2.0",
            "_view_name": "LayoutView",
            "align_content": null,
            "align_items": null,
            "align_self": null,
            "border": null,
            "bottom": null,
            "display": null,
            "flex": null,
            "flex_flow": null,
            "grid_area": null,
            "grid_auto_columns": null,
            "grid_auto_flow": null,
            "grid_auto_rows": null,
            "grid_column": null,
            "grid_gap": null,
            "grid_row": null,
            "grid_template_areas": null,
            "grid_template_columns": null,
            "grid_template_rows": null,
            "height": null,
            "justify_content": null,
            "justify_items": null,
            "left": null,
            "margin": null,
            "max_height": null,
            "max_width": null,
            "min_height": null,
            "min_width": null,
            "object_fit": null,
            "object_position": null,
            "order": null,
            "overflow": null,
            "overflow_x": null,
            "overflow_y": null,
            "padding": null,
            "right": null,
            "top": null,
            "visibility": null,
            "width": null
          }
        },
        "fd1e68b962ce49c6a3f5e3ee6789ea4f": {
          "model_module": "@jupyter-widgets/controls",
          "model_name": "DescriptionStyleModel",
          "model_module_version": "1.5.0",
          "state": {
            "_model_module": "@jupyter-widgets/controls",
            "_model_module_version": "1.5.0",
            "_model_name": "DescriptionStyleModel",
            "_view_count": null,
            "_view_module": "@jupyter-widgets/base",
            "_view_module_version": "1.2.0",
            "_view_name": "StyleView",
            "description_width": ""
          }
        },
        "cb684d6340f34f8e852db1cb91220bde": {
          "model_module": "@jupyter-widgets/base",
          "model_name": "LayoutModel",
          "model_module_version": "1.2.0",
          "state": {
            "_model_module": "@jupyter-widgets/base",
            "_model_module_version": "1.2.0",
            "_model_name": "LayoutModel",
            "_view_count": null,
            "_view_module": "@jupyter-widgets/base",
            "_view_module_version": "1.2.0",
            "_view_name": "LayoutView",
            "align_content": null,
            "align_items": null,
            "align_self": null,
            "border": null,
            "bottom": null,
            "display": null,
            "flex": null,
            "flex_flow": null,
            "grid_area": null,
            "grid_auto_columns": null,
            "grid_auto_flow": null,
            "grid_auto_rows": null,
            "grid_column": null,
            "grid_gap": null,
            "grid_row": null,
            "grid_template_areas": null,
            "grid_template_columns": null,
            "grid_template_rows": null,
            "height": null,
            "justify_content": null,
            "justify_items": null,
            "left": null,
            "margin": null,
            "max_height": null,
            "max_width": null,
            "min_height": null,
            "min_width": null,
            "object_fit": null,
            "object_position": null,
            "order": null,
            "overflow": null,
            "overflow_x": null,
            "overflow_y": null,
            "padding": null,
            "right": null,
            "top": null,
            "visibility": null,
            "width": null
          }
        },
        "26dfdb8244354846a4282019e4f4be5c": {
          "model_module": "@jupyter-widgets/controls",
          "model_name": "ProgressStyleModel",
          "model_module_version": "1.5.0",
          "state": {
            "_model_module": "@jupyter-widgets/controls",
            "_model_module_version": "1.5.0",
            "_model_name": "ProgressStyleModel",
            "_view_count": null,
            "_view_module": "@jupyter-widgets/base",
            "_view_module_version": "1.2.0",
            "_view_name": "StyleView",
            "bar_color": null,
            "description_width": ""
          }
        },
        "0aee845047d8401fb81799a12e8b0df0": {
          "model_module": "@jupyter-widgets/base",
          "model_name": "LayoutModel",
          "model_module_version": "1.2.0",
          "state": {
            "_model_module": "@jupyter-widgets/base",
            "_model_module_version": "1.2.0",
            "_model_name": "LayoutModel",
            "_view_count": null,
            "_view_module": "@jupyter-widgets/base",
            "_view_module_version": "1.2.0",
            "_view_name": "LayoutView",
            "align_content": null,
            "align_items": null,
            "align_self": null,
            "border": null,
            "bottom": null,
            "display": null,
            "flex": null,
            "flex_flow": null,
            "grid_area": null,
            "grid_auto_columns": null,
            "grid_auto_flow": null,
            "grid_auto_rows": null,
            "grid_column": null,
            "grid_gap": null,
            "grid_row": null,
            "grid_template_areas": null,
            "grid_template_columns": null,
            "grid_template_rows": null,
            "height": null,
            "justify_content": null,
            "justify_items": null,
            "left": null,
            "margin": null,
            "max_height": null,
            "max_width": null,
            "min_height": null,
            "min_width": null,
            "object_fit": null,
            "object_position": null,
            "order": null,
            "overflow": null,
            "overflow_x": null,
            "overflow_y": null,
            "padding": null,
            "right": null,
            "top": null,
            "visibility": null,
            "width": null
          }
        },
        "29997e7ceebe41419204244740042d85": {
          "model_module": "@jupyter-widgets/controls",
          "model_name": "DescriptionStyleModel",
          "model_module_version": "1.5.0",
          "state": {
            "_model_module": "@jupyter-widgets/controls",
            "_model_module_version": "1.5.0",
            "_model_name": "DescriptionStyleModel",
            "_view_count": null,
            "_view_module": "@jupyter-widgets/base",
            "_view_module_version": "1.2.0",
            "_view_name": "StyleView",
            "description_width": ""
          }
        },
        "17fd37fa3363400ca19b665490bd5cfd": {
          "model_module": "@jupyter-widgets/controls",
          "model_name": "HBoxModel",
          "model_module_version": "1.5.0",
          "state": {
            "_dom_classes": [],
            "_model_module": "@jupyter-widgets/controls",
            "_model_module_version": "1.5.0",
            "_model_name": "HBoxModel",
            "_view_count": null,
            "_view_module": "@jupyter-widgets/controls",
            "_view_module_version": "1.5.0",
            "_view_name": "HBoxView",
            "box_style": "",
            "children": [
              "IPY_MODEL_c211ed29f10f416fb5e493060d945f9c",
              "IPY_MODEL_5a285b828a8d4dc9946ca096003364fa",
              "IPY_MODEL_5f1aafe4e8594409b319f5003dbcba01"
            ],
            "layout": "IPY_MODEL_fa6477c5a9f546c6ac6e90d75039b3b6"
          }
        },
        "c211ed29f10f416fb5e493060d945f9c": {
          "model_module": "@jupyter-widgets/controls",
          "model_name": "HTMLModel",
          "model_module_version": "1.5.0",
          "state": {
            "_dom_classes": [],
            "_model_module": "@jupyter-widgets/controls",
            "_model_module_version": "1.5.0",
            "_model_name": "HTMLModel",
            "_view_count": null,
            "_view_module": "@jupyter-widgets/controls",
            "_view_module_version": "1.5.0",
            "_view_name": "HTMLView",
            "description": "",
            "description_tooltip": null,
            "layout": "IPY_MODEL_41a3ac47e8be4e0b87364c2b63f784ec",
            "placeholder": "​",
            "style": "IPY_MODEL_86577f8968824d709e358f728585db25",
            "value": "Downloading builder script: "
          }
        },
        "5a285b828a8d4dc9946ca096003364fa": {
          "model_module": "@jupyter-widgets/controls",
          "model_name": "FloatProgressModel",
          "model_module_version": "1.5.0",
          "state": {
            "_dom_classes": [],
            "_model_module": "@jupyter-widgets/controls",
            "_model_module_version": "1.5.0",
            "_model_name": "FloatProgressModel",
            "_view_count": null,
            "_view_module": "@jupyter-widgets/controls",
            "_view_module_version": "1.5.0",
            "_view_name": "ProgressView",
            "bar_style": "success",
            "description": "",
            "description_tooltip": null,
            "layout": "IPY_MODEL_1c0683e2f1844e199c878a17c2b1c010",
            "max": 2169,
            "min": 0,
            "orientation": "horizontal",
            "style": "IPY_MODEL_d70a3fa3007e47a5b4d7f4b4225d4a0f",
            "value": 2169
          }
        },
        "5f1aafe4e8594409b319f5003dbcba01": {
          "model_module": "@jupyter-widgets/controls",
          "model_name": "HTMLModel",
          "model_module_version": "1.5.0",
          "state": {
            "_dom_classes": [],
            "_model_module": "@jupyter-widgets/controls",
            "_model_module_version": "1.5.0",
            "_model_name": "HTMLModel",
            "_view_count": null,
            "_view_module": "@jupyter-widgets/controls",
            "_view_module_version": "1.5.0",
            "_view_name": "HTMLView",
            "description": "",
            "description_tooltip": null,
            "layout": "IPY_MODEL_21d9e1b8f07a4c74b61e57a4655cdab0",
            "placeholder": "​",
            "style": "IPY_MODEL_fe17d17affb9456fad8195a68d355829",
            "value": " 5.65k/? [00:00&lt;00:00, 351kB/s]"
          }
        },
        "fa6477c5a9f546c6ac6e90d75039b3b6": {
          "model_module": "@jupyter-widgets/base",
          "model_name": "LayoutModel",
          "model_module_version": "1.2.0",
          "state": {
            "_model_module": "@jupyter-widgets/base",
            "_model_module_version": "1.2.0",
            "_model_name": "LayoutModel",
            "_view_count": null,
            "_view_module": "@jupyter-widgets/base",
            "_view_module_version": "1.2.0",
            "_view_name": "LayoutView",
            "align_content": null,
            "align_items": null,
            "align_self": null,
            "border": null,
            "bottom": null,
            "display": null,
            "flex": null,
            "flex_flow": null,
            "grid_area": null,
            "grid_auto_columns": null,
            "grid_auto_flow": null,
            "grid_auto_rows": null,
            "grid_column": null,
            "grid_gap": null,
            "grid_row": null,
            "grid_template_areas": null,
            "grid_template_columns": null,
            "grid_template_rows": null,
            "height": null,
            "justify_content": null,
            "justify_items": null,
            "left": null,
            "margin": null,
            "max_height": null,
            "max_width": null,
            "min_height": null,
            "min_width": null,
            "object_fit": null,
            "object_position": null,
            "order": null,
            "overflow": null,
            "overflow_x": null,
            "overflow_y": null,
            "padding": null,
            "right": null,
            "top": null,
            "visibility": null,
            "width": null
          }
        },
        "41a3ac47e8be4e0b87364c2b63f784ec": {
          "model_module": "@jupyter-widgets/base",
          "model_name": "LayoutModel",
          "model_module_version": "1.2.0",
          "state": {
            "_model_module": "@jupyter-widgets/base",
            "_model_module_version": "1.2.0",
            "_model_name": "LayoutModel",
            "_view_count": null,
            "_view_module": "@jupyter-widgets/base",
            "_view_module_version": "1.2.0",
            "_view_name": "LayoutView",
            "align_content": null,
            "align_items": null,
            "align_self": null,
            "border": null,
            "bottom": null,
            "display": null,
            "flex": null,
            "flex_flow": null,
            "grid_area": null,
            "grid_auto_columns": null,
            "grid_auto_flow": null,
            "grid_auto_rows": null,
            "grid_column": null,
            "grid_gap": null,
            "grid_row": null,
            "grid_template_areas": null,
            "grid_template_columns": null,
            "grid_template_rows": null,
            "height": null,
            "justify_content": null,
            "justify_items": null,
            "left": null,
            "margin": null,
            "max_height": null,
            "max_width": null,
            "min_height": null,
            "min_width": null,
            "object_fit": null,
            "object_position": null,
            "order": null,
            "overflow": null,
            "overflow_x": null,
            "overflow_y": null,
            "padding": null,
            "right": null,
            "top": null,
            "visibility": null,
            "width": null
          }
        },
        "86577f8968824d709e358f728585db25": {
          "model_module": "@jupyter-widgets/controls",
          "model_name": "DescriptionStyleModel",
          "model_module_version": "1.5.0",
          "state": {
            "_model_module": "@jupyter-widgets/controls",
            "_model_module_version": "1.5.0",
            "_model_name": "DescriptionStyleModel",
            "_view_count": null,
            "_view_module": "@jupyter-widgets/base",
            "_view_module_version": "1.2.0",
            "_view_name": "StyleView",
            "description_width": ""
          }
        },
        "1c0683e2f1844e199c878a17c2b1c010": {
          "model_module": "@jupyter-widgets/base",
          "model_name": "LayoutModel",
          "model_module_version": "1.2.0",
          "state": {
            "_model_module": "@jupyter-widgets/base",
            "_model_module_version": "1.2.0",
            "_model_name": "LayoutModel",
            "_view_count": null,
            "_view_module": "@jupyter-widgets/base",
            "_view_module_version": "1.2.0",
            "_view_name": "LayoutView",
            "align_content": null,
            "align_items": null,
            "align_self": null,
            "border": null,
            "bottom": null,
            "display": null,
            "flex": null,
            "flex_flow": null,
            "grid_area": null,
            "grid_auto_columns": null,
            "grid_auto_flow": null,
            "grid_auto_rows": null,
            "grid_column": null,
            "grid_gap": null,
            "grid_row": null,
            "grid_template_areas": null,
            "grid_template_columns": null,
            "grid_template_rows": null,
            "height": null,
            "justify_content": null,
            "justify_items": null,
            "left": null,
            "margin": null,
            "max_height": null,
            "max_width": null,
            "min_height": null,
            "min_width": null,
            "object_fit": null,
            "object_position": null,
            "order": null,
            "overflow": null,
            "overflow_x": null,
            "overflow_y": null,
            "padding": null,
            "right": null,
            "top": null,
            "visibility": null,
            "width": null
          }
        },
        "d70a3fa3007e47a5b4d7f4b4225d4a0f": {
          "model_module": "@jupyter-widgets/controls",
          "model_name": "ProgressStyleModel",
          "model_module_version": "1.5.0",
          "state": {
            "_model_module": "@jupyter-widgets/controls",
            "_model_module_version": "1.5.0",
            "_model_name": "ProgressStyleModel",
            "_view_count": null,
            "_view_module": "@jupyter-widgets/base",
            "_view_module_version": "1.2.0",
            "_view_name": "StyleView",
            "bar_color": null,
            "description_width": ""
          }
        },
        "21d9e1b8f07a4c74b61e57a4655cdab0": {
          "model_module": "@jupyter-widgets/base",
          "model_name": "LayoutModel",
          "model_module_version": "1.2.0",
          "state": {
            "_model_module": "@jupyter-widgets/base",
            "_model_module_version": "1.2.0",
            "_model_name": "LayoutModel",
            "_view_count": null,
            "_view_module": "@jupyter-widgets/base",
            "_view_module_version": "1.2.0",
            "_view_name": "LayoutView",
            "align_content": null,
            "align_items": null,
            "align_self": null,
            "border": null,
            "bottom": null,
            "display": null,
            "flex": null,
            "flex_flow": null,
            "grid_area": null,
            "grid_auto_columns": null,
            "grid_auto_flow": null,
            "grid_auto_rows": null,
            "grid_column": null,
            "grid_gap": null,
            "grid_row": null,
            "grid_template_areas": null,
            "grid_template_columns": null,
            "grid_template_rows": null,
            "height": null,
            "justify_content": null,
            "justify_items": null,
            "left": null,
            "margin": null,
            "max_height": null,
            "max_width": null,
            "min_height": null,
            "min_width": null,
            "object_fit": null,
            "object_position": null,
            "order": null,
            "overflow": null,
            "overflow_x": null,
            "overflow_y": null,
            "padding": null,
            "right": null,
            "top": null,
            "visibility": null,
            "width": null
          }
        },
        "fe17d17affb9456fad8195a68d355829": {
          "model_module": "@jupyter-widgets/controls",
          "model_name": "DescriptionStyleModel",
          "model_module_version": "1.5.0",
          "state": {
            "_model_module": "@jupyter-widgets/controls",
            "_model_module_version": "1.5.0",
            "_model_name": "DescriptionStyleModel",
            "_view_count": null,
            "_view_module": "@jupyter-widgets/base",
            "_view_module_version": "1.2.0",
            "_view_name": "StyleView",
            "description_width": ""
          }
        }
      }
    }
  },
  "cells": [
    {
      "cell_type": "code",
      "execution_count": 3,
      "metadata": {
        "colab": {
          "base_uri": "https://localhost:8080/"
        },
        "id": "b_M6i3jcWzY9",
        "outputId": "18340e12-1044-4d47-fd8d-fadb12db0ae5"
      },
      "outputs": [
        {
          "output_type": "stream",
          "name": "stdout",
          "text": [
            "Sun Mar 17 06:17:38 2024       \n",
            "+---------------------------------------------------------------------------------------+\n",
            "| NVIDIA-SMI 535.104.05             Driver Version: 535.104.05   CUDA Version: 12.2     |\n",
            "|-----------------------------------------+----------------------+----------------------+\n",
            "| GPU  Name                 Persistence-M | Bus-Id        Disp.A | Volatile Uncorr. ECC |\n",
            "| Fan  Temp   Perf          Pwr:Usage/Cap |         Memory-Usage | GPU-Util  Compute M. |\n",
            "|                                         |                      |               MIG M. |\n",
            "|=========================================+======================+======================|\n",
            "|   0  Tesla T4                       Off | 00000000:00:04.0 Off |                    0 |\n",
            "| N/A   37C    P8               9W /  70W |      0MiB / 15360MiB |      0%      Default |\n",
            "|                                         |                      |                  N/A |\n",
            "+-----------------------------------------+----------------------+----------------------+\n",
            "                                                                                         \n",
            "+---------------------------------------------------------------------------------------+\n",
            "| Processes:                                                                            |\n",
            "|  GPU   GI   CI        PID   Type   Process name                            GPU Memory |\n",
            "|        ID   ID                                                             Usage      |\n",
            "|=======================================================================================|\n",
            "|  No running processes found                                                           |\n",
            "+---------------------------------------------------------------------------------------+\n"
          ]
        }
      ],
      "source": [
        "!nvidia-smi"
      ]
    },
    {
      "cell_type": "code",
      "source": [
        "!pip install transformers[sentencepiece] datasets sacrebleu rouge_score py7zr -q"
      ],
      "metadata": {
        "colab": {
          "base_uri": "https://localhost:8080/"
        },
        "id": "OrN7z_XvdU_m",
        "outputId": "a274815a-92af-490b-8b17-2cac8544d682"
      },
      "execution_count": 4,
      "outputs": [
        {
          "output_type": "stream",
          "name": "stdout",
          "text": [
            "\u001b[2K     \u001b[90m━━━━━━━━━━━━━━━━━━━━━━━━━━━━━━━━━━━━━━━━\u001b[0m \u001b[32m510.5/510.5 kB\u001b[0m \u001b[31m9.5 MB/s\u001b[0m eta \u001b[36m0:00:00\u001b[0m\n",
            "\u001b[2K     \u001b[90m━━━━━━━━━━━━━━━━━━━━━━━━━━━━━━━━━━━━━━━━\u001b[0m \u001b[32m106.6/106.6 kB\u001b[0m \u001b[31m16.3 MB/s\u001b[0m eta \u001b[36m0:00:00\u001b[0m\n",
            "\u001b[?25h  Preparing metadata (setup.py) ... \u001b[?25l\u001b[?25hdone\n",
            "\u001b[2K     \u001b[90m━━━━━━━━━━━━━━━━━━━━━━━━━━━━━━━━━━━━━━━━\u001b[0m \u001b[32m67.6/67.6 kB\u001b[0m \u001b[31m8.8 MB/s\u001b[0m eta \u001b[36m0:00:00\u001b[0m\n",
            "\u001b[2K     \u001b[90m━━━━━━━━━━━━━━━━━━━━━━━━━━━━━━━━━━━━━━━━\u001b[0m \u001b[32m116.3/116.3 kB\u001b[0m \u001b[31m15.6 MB/s\u001b[0m eta \u001b[36m0:00:00\u001b[0m\n",
            "\u001b[2K     \u001b[90m━━━━━━━━━━━━━━━━━━━━━━━━━━━━━━━━━━━━━━━━\u001b[0m \u001b[32m194.1/194.1 kB\u001b[0m \u001b[31m17.0 MB/s\u001b[0m eta \u001b[36m0:00:00\u001b[0m\n",
            "\u001b[2K     \u001b[90m━━━━━━━━━━━━━━━━━━━━━━━━━━━━━━━━━━━━━━━━\u001b[0m \u001b[32m134.8/134.8 kB\u001b[0m \u001b[31m16.7 MB/s\u001b[0m eta \u001b[36m0:00:00\u001b[0m\n",
            "\u001b[2K     \u001b[90m━━━━━━━━━━━━━━━━━━━━━━━━━━━━━━━━━━━━━━━━\u001b[0m \u001b[32m2.1/2.1 MB\u001b[0m \u001b[31m21.1 MB/s\u001b[0m eta \u001b[36m0:00:00\u001b[0m\n",
            "\u001b[2K     \u001b[90m━━━━━━━━━━━━━━━━━━━━━━━━━━━━━━━━━━━━━━━━\u001b[0m \u001b[32m412.3/412.3 kB\u001b[0m \u001b[31m27.5 MB/s\u001b[0m eta \u001b[36m0:00:00\u001b[0m\n",
            "\u001b[2K     \u001b[90m━━━━━━━━━━━━━━━━━━━━━━━━━━━━━━━━━━━━━━━━\u001b[0m \u001b[32m138.9/138.9 kB\u001b[0m \u001b[31m17.8 MB/s\u001b[0m eta \u001b[36m0:00:00\u001b[0m\n",
            "\u001b[2K     \u001b[90m━━━━━━━━━━━━━━━━━━━━━━━━━━━━━━━━━━━━━━━━\u001b[0m \u001b[32m49.7/49.7 kB\u001b[0m \u001b[31m6.1 MB/s\u001b[0m eta \u001b[36m0:00:00\u001b[0m\n",
            "\u001b[2K     \u001b[90m━━━━━━━━━━━━━━━━━━━━━━━━━━━━━━━━━━━━━━━━\u001b[0m \u001b[32m93.1/93.1 kB\u001b[0m \u001b[31m11.7 MB/s\u001b[0m eta \u001b[36m0:00:00\u001b[0m\n",
            "\u001b[2K     \u001b[90m━━━━━━━━━━━━━━━━━━━━━━━━━━━━━━━━━━━━━━━━\u001b[0m \u001b[32m3.0/3.0 MB\u001b[0m \u001b[31m34.7 MB/s\u001b[0m eta \u001b[36m0:00:00\u001b[0m\n",
            "\u001b[?25h  Building wheel for rouge_score (setup.py) ... \u001b[?25l\u001b[?25hdone\n"
          ]
        }
      ]
    },
    {
      "cell_type": "code",
      "source": [
        "!pip install --upgrade accelerate\n",
        "!pip uninstall -y transformers accelerate\n",
        "!pip install transformers accelerate"
      ],
      "metadata": {
        "colab": {
          "base_uri": "https://localhost:8080/"
        },
        "id": "GDekDHhCqSOX",
        "outputId": "2d15158e-cf92-42a8-efb9-220e9cf9a8dc"
      },
      "execution_count": 5,
      "outputs": [
        {
          "output_type": "stream",
          "name": "stdout",
          "text": [
            "Collecting accelerate\n",
            "  Downloading accelerate-0.28.0-py3-none-any.whl (290 kB)\n",
            "\u001b[?25l     \u001b[90m━━━━━━━━━━━━━━━━━━━━━━━━━━━━━━━━━━━━━━━━\u001b[0m \u001b[32m0.0/290.1 kB\u001b[0m \u001b[31m?\u001b[0m eta \u001b[36m-:--:--\u001b[0m\r\u001b[2K     \u001b[91m━━━━━━━━━━━━\u001b[0m\u001b[91m╸\u001b[0m\u001b[90m━━━━━━━━━━━━━━━━━━━━━━━━━━━\u001b[0m \u001b[32m92.2/290.1 kB\u001b[0m \u001b[31m2.5 MB/s\u001b[0m eta \u001b[36m0:00:01\u001b[0m\r\u001b[2K     \u001b[90m━━━━━━━━━━━━━━━━━━━━━━━━━━━━━━━━━━━━━━━━\u001b[0m \u001b[32m290.1/290.1 kB\u001b[0m \u001b[31m4.6 MB/s\u001b[0m eta \u001b[36m0:00:00\u001b[0m\n",
            "\u001b[?25hRequirement already satisfied: numpy>=1.17 in /usr/local/lib/python3.10/dist-packages (from accelerate) (1.25.2)\n",
            "Requirement already satisfied: packaging>=20.0 in /usr/local/lib/python3.10/dist-packages (from accelerate) (24.0)\n",
            "Requirement already satisfied: psutil in /usr/local/lib/python3.10/dist-packages (from accelerate) (5.9.5)\n",
            "Requirement already satisfied: pyyaml in /usr/local/lib/python3.10/dist-packages (from accelerate) (6.0.1)\n",
            "Requirement already satisfied: torch>=1.10.0 in /usr/local/lib/python3.10/dist-packages (from accelerate) (2.2.1+cu121)\n",
            "Requirement already satisfied: huggingface-hub in /usr/local/lib/python3.10/dist-packages (from accelerate) (0.20.3)\n",
            "Requirement already satisfied: safetensors>=0.3.1 in /usr/local/lib/python3.10/dist-packages (from accelerate) (0.4.2)\n",
            "Requirement already satisfied: filelock in /usr/local/lib/python3.10/dist-packages (from torch>=1.10.0->accelerate) (3.13.1)\n",
            "Requirement already satisfied: typing-extensions>=4.8.0 in /usr/local/lib/python3.10/dist-packages (from torch>=1.10.0->accelerate) (4.10.0)\n",
            "Requirement already satisfied: sympy in /usr/local/lib/python3.10/dist-packages (from torch>=1.10.0->accelerate) (1.12)\n",
            "Requirement already satisfied: networkx in /usr/local/lib/python3.10/dist-packages (from torch>=1.10.0->accelerate) (3.2.1)\n",
            "Requirement already satisfied: jinja2 in /usr/local/lib/python3.10/dist-packages (from torch>=1.10.0->accelerate) (3.1.3)\n",
            "Requirement already satisfied: fsspec in /usr/local/lib/python3.10/dist-packages (from torch>=1.10.0->accelerate) (2023.6.0)\n",
            "Collecting nvidia-cuda-nvrtc-cu12==12.1.105 (from torch>=1.10.0->accelerate)\n",
            "  Downloading nvidia_cuda_nvrtc_cu12-12.1.105-py3-none-manylinux1_x86_64.whl (23.7 MB)\n",
            "\u001b[2K     \u001b[90m━━━━━━━━━━━━━━━━━━━━━━━━━━━━━━━━━━━━━━━━\u001b[0m \u001b[32m23.7/23.7 MB\u001b[0m \u001b[31m32.8 MB/s\u001b[0m eta \u001b[36m0:00:00\u001b[0m\n",
            "\u001b[?25hCollecting nvidia-cuda-runtime-cu12==12.1.105 (from torch>=1.10.0->accelerate)\n",
            "  Downloading nvidia_cuda_runtime_cu12-12.1.105-py3-none-manylinux1_x86_64.whl (823 kB)\n",
            "\u001b[2K     \u001b[90m━━━━━━━━━━━━━━━━━━━━━━━━━━━━━━━━━━━━━━━━\u001b[0m \u001b[32m823.6/823.6 kB\u001b[0m \u001b[31m49.7 MB/s\u001b[0m eta \u001b[36m0:00:00\u001b[0m\n",
            "\u001b[?25hCollecting nvidia-cuda-cupti-cu12==12.1.105 (from torch>=1.10.0->accelerate)\n",
            "  Downloading nvidia_cuda_cupti_cu12-12.1.105-py3-none-manylinux1_x86_64.whl (14.1 MB)\n",
            "\u001b[2K     \u001b[90m━━━━━━━━━━━━━━━━━━━━━━━━━━━━━━━━━━━━━━━━\u001b[0m \u001b[32m14.1/14.1 MB\u001b[0m \u001b[31m57.8 MB/s\u001b[0m eta \u001b[36m0:00:00\u001b[0m\n",
            "\u001b[?25hCollecting nvidia-cudnn-cu12==8.9.2.26 (from torch>=1.10.0->accelerate)\n",
            "  Downloading nvidia_cudnn_cu12-8.9.2.26-py3-none-manylinux1_x86_64.whl (731.7 MB)\n",
            "\u001b[2K     \u001b[90m━━━━━━━━━━━━━━━━━━━━━━━━━━━━━━━━━━━━━━━━\u001b[0m \u001b[32m731.7/731.7 MB\u001b[0m \u001b[31m1.7 MB/s\u001b[0m eta \u001b[36m0:00:00\u001b[0m\n",
            "\u001b[?25hCollecting nvidia-cublas-cu12==12.1.3.1 (from torch>=1.10.0->accelerate)\n",
            "  Downloading nvidia_cublas_cu12-12.1.3.1-py3-none-manylinux1_x86_64.whl (410.6 MB)\n",
            "\u001b[2K     \u001b[90m━━━━━━━━━━━━━━━━━━━━━━━━━━━━━━━━━━━━━━━━\u001b[0m \u001b[32m410.6/410.6 MB\u001b[0m \u001b[31m2.2 MB/s\u001b[0m eta \u001b[36m0:00:00\u001b[0m\n",
            "\u001b[?25hCollecting nvidia-cufft-cu12==11.0.2.54 (from torch>=1.10.0->accelerate)\n",
            "  Downloading nvidia_cufft_cu12-11.0.2.54-py3-none-manylinux1_x86_64.whl (121.6 MB)\n",
            "\u001b[2K     \u001b[90m━━━━━━━━━━━━━━━━━━━━━━━━━━━━━━━━━━━━━━━━\u001b[0m \u001b[32m121.6/121.6 MB\u001b[0m \u001b[31m6.8 MB/s\u001b[0m eta \u001b[36m0:00:00\u001b[0m\n",
            "\u001b[?25hCollecting nvidia-curand-cu12==10.3.2.106 (from torch>=1.10.0->accelerate)\n",
            "  Downloading nvidia_curand_cu12-10.3.2.106-py3-none-manylinux1_x86_64.whl (56.5 MB)\n",
            "\u001b[2K     \u001b[90m━━━━━━━━━━━━━━━━━━━━━━━━━━━━━━━━━━━━━━━━\u001b[0m \u001b[32m56.5/56.5 MB\u001b[0m \u001b[31m9.1 MB/s\u001b[0m eta \u001b[36m0:00:00\u001b[0m\n",
            "\u001b[?25hCollecting nvidia-cusolver-cu12==11.4.5.107 (from torch>=1.10.0->accelerate)\n",
            "  Downloading nvidia_cusolver_cu12-11.4.5.107-py3-none-manylinux1_x86_64.whl (124.2 MB)\n",
            "\u001b[2K     \u001b[90m━━━━━━━━━━━━━━━━━━━━━━━━━━━━━━━━━━━━━━━━\u001b[0m \u001b[32m124.2/124.2 MB\u001b[0m \u001b[31m8.4 MB/s\u001b[0m eta \u001b[36m0:00:00\u001b[0m\n",
            "\u001b[?25hCollecting nvidia-cusparse-cu12==12.1.0.106 (from torch>=1.10.0->accelerate)\n",
            "  Downloading nvidia_cusparse_cu12-12.1.0.106-py3-none-manylinux1_x86_64.whl (196.0 MB)\n",
            "\u001b[2K     \u001b[90m━━━━━━━━━━━━━━━━━━━━━━━━━━━━━━━━━━━━━━━━\u001b[0m \u001b[32m196.0/196.0 MB\u001b[0m \u001b[31m6.8 MB/s\u001b[0m eta \u001b[36m0:00:00\u001b[0m\n",
            "\u001b[?25hCollecting nvidia-nccl-cu12==2.19.3 (from torch>=1.10.0->accelerate)\n",
            "  Downloading nvidia_nccl_cu12-2.19.3-py3-none-manylinux1_x86_64.whl (166.0 MB)\n",
            "\u001b[2K     \u001b[90m━━━━━━━━━━━━━━━━━━━━━━━━━━━━━━━━━━━━━━━━\u001b[0m \u001b[32m166.0/166.0 MB\u001b[0m \u001b[31m2.3 MB/s\u001b[0m eta \u001b[36m0:00:00\u001b[0m\n",
            "\u001b[?25hCollecting nvidia-nvtx-cu12==12.1.105 (from torch>=1.10.0->accelerate)\n",
            "  Downloading nvidia_nvtx_cu12-12.1.105-py3-none-manylinux1_x86_64.whl (99 kB)\n",
            "\u001b[2K     \u001b[90m━━━━━━━━━━━━━━━━━━━━━━━━━━━━━━━━━━━━━━━━\u001b[0m \u001b[32m99.1/99.1 kB\u001b[0m \u001b[31m14.0 MB/s\u001b[0m eta \u001b[36m0:00:00\u001b[0m\n",
            "\u001b[?25hRequirement already satisfied: triton==2.2.0 in /usr/local/lib/python3.10/dist-packages (from torch>=1.10.0->accelerate) (2.2.0)\n",
            "Collecting nvidia-nvjitlink-cu12 (from nvidia-cusolver-cu12==11.4.5.107->torch>=1.10.0->accelerate)\n",
            "  Downloading nvidia_nvjitlink_cu12-12.4.99-py3-none-manylinux2014_x86_64.whl (21.1 MB)\n",
            "\u001b[2K     \u001b[90m━━━━━━━━━━━━━━━━━━━━━━━━━━━━━━━━━━━━━━━━\u001b[0m \u001b[32m21.1/21.1 MB\u001b[0m \u001b[31m79.6 MB/s\u001b[0m eta \u001b[36m0:00:00\u001b[0m\n",
            "\u001b[?25hRequirement already satisfied: requests in /usr/local/lib/python3.10/dist-packages (from huggingface-hub->accelerate) (2.31.0)\n",
            "Requirement already satisfied: tqdm>=4.42.1 in /usr/local/lib/python3.10/dist-packages (from huggingface-hub->accelerate) (4.66.2)\n",
            "Requirement already satisfied: MarkupSafe>=2.0 in /usr/local/lib/python3.10/dist-packages (from jinja2->torch>=1.10.0->accelerate) (2.1.5)\n",
            "Requirement already satisfied: charset-normalizer<4,>=2 in /usr/local/lib/python3.10/dist-packages (from requests->huggingface-hub->accelerate) (3.3.2)\n",
            "Requirement already satisfied: idna<4,>=2.5 in /usr/local/lib/python3.10/dist-packages (from requests->huggingface-hub->accelerate) (3.6)\n",
            "Requirement already satisfied: urllib3<3,>=1.21.1 in /usr/local/lib/python3.10/dist-packages (from requests->huggingface-hub->accelerate) (2.0.7)\n",
            "Requirement already satisfied: certifi>=2017.4.17 in /usr/local/lib/python3.10/dist-packages (from requests->huggingface-hub->accelerate) (2024.2.2)\n",
            "Requirement already satisfied: mpmath>=0.19 in /usr/local/lib/python3.10/dist-packages (from sympy->torch>=1.10.0->accelerate) (1.3.0)\n",
            "Installing collected packages: nvidia-nvtx-cu12, nvidia-nvjitlink-cu12, nvidia-nccl-cu12, nvidia-curand-cu12, nvidia-cufft-cu12, nvidia-cuda-runtime-cu12, nvidia-cuda-nvrtc-cu12, nvidia-cuda-cupti-cu12, nvidia-cublas-cu12, nvidia-cusparse-cu12, nvidia-cudnn-cu12, nvidia-cusolver-cu12, accelerate\n",
            "Successfully installed accelerate-0.28.0 nvidia-cublas-cu12-12.1.3.1 nvidia-cuda-cupti-cu12-12.1.105 nvidia-cuda-nvrtc-cu12-12.1.105 nvidia-cuda-runtime-cu12-12.1.105 nvidia-cudnn-cu12-8.9.2.26 nvidia-cufft-cu12-11.0.2.54 nvidia-curand-cu12-10.3.2.106 nvidia-cusolver-cu12-11.4.5.107 nvidia-cusparse-cu12-12.1.0.106 nvidia-nccl-cu12-2.19.3 nvidia-nvjitlink-cu12-12.4.99 nvidia-nvtx-cu12-12.1.105\n",
            "Found existing installation: transformers 4.38.2\n",
            "Uninstalling transformers-4.38.2:\n",
            "  Successfully uninstalled transformers-4.38.2\n",
            "Found existing installation: accelerate 0.28.0\n",
            "Uninstalling accelerate-0.28.0:\n",
            "  Successfully uninstalled accelerate-0.28.0\n",
            "Collecting transformers\n",
            "  Downloading transformers-4.38.2-py3-none-any.whl (8.5 MB)\n",
            "\u001b[2K     \u001b[90m━━━━━━━━━━━━━━━━━━━━━━━━━━━━━━━━━━━━━━━━\u001b[0m \u001b[32m8.5/8.5 MB\u001b[0m \u001b[31m28.1 MB/s\u001b[0m eta \u001b[36m0:00:00\u001b[0m\n",
            "\u001b[?25hCollecting accelerate\n",
            "  Using cached accelerate-0.28.0-py3-none-any.whl (290 kB)\n",
            "Requirement already satisfied: filelock in /usr/local/lib/python3.10/dist-packages (from transformers) (3.13.1)\n",
            "Requirement already satisfied: huggingface-hub<1.0,>=0.19.3 in /usr/local/lib/python3.10/dist-packages (from transformers) (0.20.3)\n",
            "Requirement already satisfied: numpy>=1.17 in /usr/local/lib/python3.10/dist-packages (from transformers) (1.25.2)\n",
            "Requirement already satisfied: packaging>=20.0 in /usr/local/lib/python3.10/dist-packages (from transformers) (24.0)\n",
            "Requirement already satisfied: pyyaml>=5.1 in /usr/local/lib/python3.10/dist-packages (from transformers) (6.0.1)\n",
            "Requirement already satisfied: regex!=2019.12.17 in /usr/local/lib/python3.10/dist-packages (from transformers) (2023.12.25)\n",
            "Requirement already satisfied: requests in /usr/local/lib/python3.10/dist-packages (from transformers) (2.31.0)\n",
            "Requirement already satisfied: tokenizers<0.19,>=0.14 in /usr/local/lib/python3.10/dist-packages (from transformers) (0.15.2)\n",
            "Requirement already satisfied: safetensors>=0.4.1 in /usr/local/lib/python3.10/dist-packages (from transformers) (0.4.2)\n",
            "Requirement already satisfied: tqdm>=4.27 in /usr/local/lib/python3.10/dist-packages (from transformers) (4.66.2)\n",
            "Requirement already satisfied: psutil in /usr/local/lib/python3.10/dist-packages (from accelerate) (5.9.5)\n",
            "Requirement already satisfied: torch>=1.10.0 in /usr/local/lib/python3.10/dist-packages (from accelerate) (2.2.1+cu121)\n",
            "Requirement already satisfied: fsspec>=2023.5.0 in /usr/local/lib/python3.10/dist-packages (from huggingface-hub<1.0,>=0.19.3->transformers) (2023.6.0)\n",
            "Requirement already satisfied: typing-extensions>=3.7.4.3 in /usr/local/lib/python3.10/dist-packages (from huggingface-hub<1.0,>=0.19.3->transformers) (4.10.0)\n",
            "Requirement already satisfied: sympy in /usr/local/lib/python3.10/dist-packages (from torch>=1.10.0->accelerate) (1.12)\n",
            "Requirement already satisfied: networkx in /usr/local/lib/python3.10/dist-packages (from torch>=1.10.0->accelerate) (3.2.1)\n",
            "Requirement already satisfied: jinja2 in /usr/local/lib/python3.10/dist-packages (from torch>=1.10.0->accelerate) (3.1.3)\n",
            "Requirement already satisfied: nvidia-cuda-nvrtc-cu12==12.1.105 in /usr/local/lib/python3.10/dist-packages (from torch>=1.10.0->accelerate) (12.1.105)\n",
            "Requirement already satisfied: nvidia-cuda-runtime-cu12==12.1.105 in /usr/local/lib/python3.10/dist-packages (from torch>=1.10.0->accelerate) (12.1.105)\n",
            "Requirement already satisfied: nvidia-cuda-cupti-cu12==12.1.105 in /usr/local/lib/python3.10/dist-packages (from torch>=1.10.0->accelerate) (12.1.105)\n",
            "Requirement already satisfied: nvidia-cudnn-cu12==8.9.2.26 in /usr/local/lib/python3.10/dist-packages (from torch>=1.10.0->accelerate) (8.9.2.26)\n",
            "Requirement already satisfied: nvidia-cublas-cu12==12.1.3.1 in /usr/local/lib/python3.10/dist-packages (from torch>=1.10.0->accelerate) (12.1.3.1)\n",
            "Requirement already satisfied: nvidia-cufft-cu12==11.0.2.54 in /usr/local/lib/python3.10/dist-packages (from torch>=1.10.0->accelerate) (11.0.2.54)\n",
            "Requirement already satisfied: nvidia-curand-cu12==10.3.2.106 in /usr/local/lib/python3.10/dist-packages (from torch>=1.10.0->accelerate) (10.3.2.106)\n",
            "Requirement already satisfied: nvidia-cusolver-cu12==11.4.5.107 in /usr/local/lib/python3.10/dist-packages (from torch>=1.10.0->accelerate) (11.4.5.107)\n",
            "Requirement already satisfied: nvidia-cusparse-cu12==12.1.0.106 in /usr/local/lib/python3.10/dist-packages (from torch>=1.10.0->accelerate) (12.1.0.106)\n",
            "Requirement already satisfied: nvidia-nccl-cu12==2.19.3 in /usr/local/lib/python3.10/dist-packages (from torch>=1.10.0->accelerate) (2.19.3)\n",
            "Requirement already satisfied: nvidia-nvtx-cu12==12.1.105 in /usr/local/lib/python3.10/dist-packages (from torch>=1.10.0->accelerate) (12.1.105)\n",
            "Requirement already satisfied: triton==2.2.0 in /usr/local/lib/python3.10/dist-packages (from torch>=1.10.0->accelerate) (2.2.0)\n",
            "Requirement already satisfied: nvidia-nvjitlink-cu12 in /usr/local/lib/python3.10/dist-packages (from nvidia-cusolver-cu12==11.4.5.107->torch>=1.10.0->accelerate) (12.4.99)\n",
            "Requirement already satisfied: charset-normalizer<4,>=2 in /usr/local/lib/python3.10/dist-packages (from requests->transformers) (3.3.2)\n",
            "Requirement already satisfied: idna<4,>=2.5 in /usr/local/lib/python3.10/dist-packages (from requests->transformers) (3.6)\n",
            "Requirement already satisfied: urllib3<3,>=1.21.1 in /usr/local/lib/python3.10/dist-packages (from requests->transformers) (2.0.7)\n",
            "Requirement already satisfied: certifi>=2017.4.17 in /usr/local/lib/python3.10/dist-packages (from requests->transformers) (2024.2.2)\n",
            "Requirement already satisfied: MarkupSafe>=2.0 in /usr/local/lib/python3.10/dist-packages (from jinja2->torch>=1.10.0->accelerate) (2.1.5)\n",
            "Requirement already satisfied: mpmath>=0.19 in /usr/local/lib/python3.10/dist-packages (from sympy->torch>=1.10.0->accelerate) (1.3.0)\n",
            "Installing collected packages: transformers, accelerate\n",
            "Successfully installed accelerate-0.28.0 transformers-4.38.2\n"
          ]
        }
      ]
    },
    {
      "cell_type": "markdown",
      "source": [
        "# Importing Libraries"
      ],
      "metadata": {
        "id": "iTIT7252rI8O"
      }
    },
    {
      "cell_type": "code",
      "source": [
        "from transformers import pipeline,set_seed\n",
        "from datasets import load_dataset, load_from_disk\n",
        "import matplotlib.pyplot as plt\n",
        "from datasets import load_dataset\n",
        "import pandas as pd\n",
        "from datasets import load_dataset, load_metric\n",
        "from transformers import AutoModelForSeq2SeqLM, AutoTokenizer\n",
        "import nltk\n",
        "from nltk.tokenize import sent_tokenize\n",
        "\n",
        "from tqdm import tqdm\n",
        "import torch\n",
        "\n",
        "nltk.download(\"punkt\")"
      ],
      "metadata": {
        "colab": {
          "base_uri": "https://localhost:8080/"
        },
        "id": "AGtkxHq7rG76",
        "outputId": "46f65b32-321a-4d20-8d90-09e4b6bbd579"
      },
      "execution_count": 6,
      "outputs": [
        {
          "output_type": "stream",
          "name": "stderr",
          "text": [
            "[nltk_data] Downloading package punkt to /root/nltk_data...\n",
            "[nltk_data]   Unzipping tokenizers/punkt.zip.\n"
          ]
        },
        {
          "output_type": "execute_result",
          "data": {
            "text/plain": [
              "True"
            ]
          },
          "metadata": {},
          "execution_count": 6
        }
      ]
    },
    {
      "cell_type": "code",
      "source": [
        "device = \"cuda\" if torch.cuda.is_available() else 'cpu'\n",
        "device"
      ],
      "metadata": {
        "colab": {
          "base_uri": "https://localhost:8080/",
          "height": 36
        },
        "id": "Xj54yn-0qqVG",
        "outputId": "2c3eef28-1875-4801-bd59-2bd0fcfa22c4"
      },
      "execution_count": 7,
      "outputs": [
        {
          "output_type": "execute_result",
          "data": {
            "text/plain": [
              "'cuda'"
            ],
            "application/vnd.google.colaboratory.intrinsic+json": {
              "type": "string"
            }
          },
          "metadata": {},
          "execution_count": 7
        }
      ]
    },
    {
      "cell_type": "code",
      "source": [
        "from transformers import AutoModelForSeq2SeqLM, AutoTokenizer"
      ],
      "metadata": {
        "id": "h4-TMEiZrAQo"
      },
      "execution_count": 8,
      "outputs": []
    },
    {
      "cell_type": "code",
      "source": [
        "model_ckpt = \"google/pegasus-cnn_dailymail\"\n",
        "tokenizer = AutoTokenizer.from_pretrained(model_ckpt)"
      ],
      "metadata": {
        "colab": {
          "base_uri": "https://localhost:8080/",
          "height": 269,
          "referenced_widgets": [
            "6b77c3aeeb7a4447848f43f7c83e3216",
            "3e85214c27e94226963afaaf1f14d2c3",
            "14aaad45bd1f41b1bb615a42fc1539f3",
            "20fdfd9d50884aa582fdf17401e7c86e",
            "e018c5d8afc34aa389720c2fdb9ed1a2",
            "4b7c3f2d70c74067be8b6e89029c53dc",
            "8e18a4fd327f483b959d0a7be37a13d0",
            "e88ceac488404e389eccfd89d8c2a333",
            "bff7ddc3438e47319dd0ece05d39af43",
            "b39175c7640f4072827257a958dd6d5d",
            "415d0bcf45344d6687693d50445d1056",
            "f106f13a7676479b85d0f2c219fb61bb",
            "c53ea1fcfc3143ec80da226f0be60420",
            "3939dc77bad84dbbb038acfd512fc85a",
            "765b0d061b8c4ea4a04cab247258cfd8",
            "02b8e385082e46bb99a4cce3d416ba5f",
            "897238f8a8df480c8c77915e1edf19f0",
            "596fcaac5b334a399ef7d033aa992377",
            "79f33551cb3a462fb4c617ceb03c1632",
            "b56cdf59534c4040ad1f3a5b578314a8",
            "604859082f6e48e2b0a13f14edc38bb7",
            "e092b9f9fa81475fa64e64e3dc817b7b",
            "25664065ec6a44b7b483a3e1d1f2c41a",
            "ee1a4091041d4739ac859d0a4ad4bf9f",
            "42631f4ec201483d9e6624ed6d1be80c",
            "1ebe9d6cb83e4354a75c5b2c62519c46",
            "eb3c40dbf17d4089a5c5b8a5d9d914fe",
            "6137752f98444e79b77e0600abfdd1e2",
            "23196e2a87ce452b8c0ff333b9c750e1",
            "3bff65ea42f744b69dcccfc13c1e40e5",
            "13c1b66c651145b1b5e884a3306f2dd7",
            "3c2aaf3e8b7c4ce18b0f15a2a7741a01",
            "3264d95089a4468f96f7c6aad2650f53",
            "c5b48cff638c489090d675f8ddb561de",
            "f9b387696f2041e196fb84b20188af2f",
            "9461f446272548dfac7ebe474c0199a8",
            "ccb5c759a8cb412f88b03f8df918af97",
            "23dca6507ec042f198f595554ef59921",
            "bda74ed9d1d54a9cb393672e5e24ddc5",
            "b2e70b8bb94c46b89ec1561eece8d765",
            "c730a148efbb46cb82cc5082502d1f81",
            "8c0f08010391456a8753e2d6b1ebcae5",
            "4d5f59821ee44d719f88c52edbc74ef1",
            "0ecf637e26e54d6b8a79139726068efb"
          ]
        },
        "id": "DDYLBQ4Tv-9t",
        "outputId": "9386d08a-06a7-4fcd-a725-1d5a45a00d22"
      },
      "execution_count": 9,
      "outputs": [
        {
          "output_type": "stream",
          "name": "stderr",
          "text": [
            "/usr/local/lib/python3.10/dist-packages/huggingface_hub/utils/_token.py:88: UserWarning: \n",
            "The secret `HF_TOKEN` does not exist in your Colab secrets.\n",
            "To authenticate with the Hugging Face Hub, create a token in your settings tab (https://huggingface.co/settings/tokens), set it as secret in your Google Colab and restart your session.\n",
            "You will be able to reuse this secret in all of your notebooks.\n",
            "Please note that authentication is recommended but still optional to access public models or datasets.\n",
            "  warnings.warn(\n"
          ]
        },
        {
          "output_type": "display_data",
          "data": {
            "text/plain": [
              "tokenizer_config.json:   0%|          | 0.00/88.0 [00:00<?, ?B/s]"
            ],
            "application/vnd.jupyter.widget-view+json": {
              "version_major": 2,
              "version_minor": 0,
              "model_id": "6b77c3aeeb7a4447848f43f7c83e3216"
            }
          },
          "metadata": {}
        },
        {
          "output_type": "display_data",
          "data": {
            "text/plain": [
              "config.json:   0%|          | 0.00/1.12k [00:00<?, ?B/s]"
            ],
            "application/vnd.jupyter.widget-view+json": {
              "version_major": 2,
              "version_minor": 0,
              "model_id": "f106f13a7676479b85d0f2c219fb61bb"
            }
          },
          "metadata": {}
        },
        {
          "output_type": "display_data",
          "data": {
            "text/plain": [
              "spiece.model:   0%|          | 0.00/1.91M [00:00<?, ?B/s]"
            ],
            "application/vnd.jupyter.widget-view+json": {
              "version_major": 2,
              "version_minor": 0,
              "model_id": "25664065ec6a44b7b483a3e1d1f2c41a"
            }
          },
          "metadata": {}
        },
        {
          "output_type": "display_data",
          "data": {
            "text/plain": [
              "special_tokens_map.json:   0%|          | 0.00/65.0 [00:00<?, ?B/s]"
            ],
            "application/vnd.jupyter.widget-view+json": {
              "version_major": 2,
              "version_minor": 0,
              "model_id": "c5b48cff638c489090d675f8ddb561de"
            }
          },
          "metadata": {}
        }
      ]
    },
    {
      "cell_type": "code",
      "source": [
        "model_pegasus = AutoModelForSeq2SeqLM.from_pretrained(model_ckpt).to(device)"
      ],
      "metadata": {
        "colab": {
          "base_uri": "https://localhost:8080/",
          "height": 136,
          "referenced_widgets": [
            "9288678c59a9441d8da6cfb7f819ecf0",
            "ce64463924874884a782160797894e62",
            "36e9df7667d1452b9d879ee640f2a435",
            "c44a87e556724de69a80860b87e488e9",
            "d862d7bc9fc44fc5a1245fd59a277eba",
            "cd758cdf8f014d548498cee23abf36b9",
            "fe0fd3d50e2445a1a363a257eadbf8dc",
            "56ef3512378b40f1a8d9c6d60b363a2d",
            "68ab4b6e127f44768e6516f933fe9d01",
            "573b1eaa8100401ab6b0466314414180",
            "92da01ce2d734d20abd4d35791e50c84",
            "e3c877861ae54e468afc17306d891899",
            "c7aee391381d456b91c6cb4df99f9ac0",
            "f5d88ee8081146a6b27c2c66d7c5e149",
            "c2c285759c13458cab10fd03b4fe9d96",
            "d23d64c8c99740d5804c1f558f75b6a5",
            "c22760be5f1b44dfb6ded1324e3c5e1c",
            "cab85d360563446f9ad264e9ec89ca8a",
            "7ea2ae237d3040359e0e735d424c6f4b",
            "a154797443d045529e76fcc8c69215a6",
            "5dc022f249cd4315ab35de33c0fd3af3",
            "cb3f2dd42ead4bbd97cb90ae3066ccc5"
          ]
        },
        "id": "bjjjIkbkwxsZ",
        "outputId": "0bc805c5-47a7-443f-a358-f14a0f009ca4"
      },
      "execution_count": 10,
      "outputs": [
        {
          "output_type": "display_data",
          "data": {
            "text/plain": [
              "pytorch_model.bin:   0%|          | 0.00/2.28G [00:00<?, ?B/s]"
            ],
            "application/vnd.jupyter.widget-view+json": {
              "version_major": 2,
              "version_minor": 0,
              "model_id": "9288678c59a9441d8da6cfb7f819ecf0"
            }
          },
          "metadata": {}
        },
        {
          "output_type": "stream",
          "name": "stderr",
          "text": [
            "Some weights of PegasusForConditionalGeneration were not initialized from the model checkpoint at google/pegasus-cnn_dailymail and are newly initialized: ['model.decoder.embed_positions.weight', 'model.encoder.embed_positions.weight']\n",
            "You should probably TRAIN this model on a down-stream task to be able to use it for predictions and inference.\n"
          ]
        },
        {
          "output_type": "display_data",
          "data": {
            "text/plain": [
              "generation_config.json:   0%|          | 0.00/280 [00:00<?, ?B/s]"
            ],
            "application/vnd.jupyter.widget-view+json": {
              "version_major": 2,
              "version_minor": 0,
              "model_id": "e3c877861ae54e468afc17306d891899"
            }
          },
          "metadata": {}
        }
      ]
    },
    {
      "cell_type": "code",
      "source": [
        "dataset_samsum = load_dataset(\"samsum\")"
      ],
      "metadata": {
        "colab": {
          "base_uri": "https://localhost:8080/",
          "height": 209,
          "referenced_widgets": [
            "f8879127fe1b4e95ac1589d9d6c1d8bc",
            "fc4c41db71034f7593cfa4b92472626b",
            "b709ff39aea643f09c68d65339221b7b",
            "236ec8fa3dec4928930a98ae2af1e13a",
            "5ce09aeceb8f4044b1a5e3ec609fcf59",
            "3bfe261d52ba4fc5b8df610589be0a54",
            "e1298bf62e9f4955b881b0bd02ef178b",
            "67808ab3a7f74b0fadab4a070c1f3e0a",
            "6e068a9f6c6f4ef5b10d262d18558d1d",
            "a58009aaf9104f1a92cbe221190b373f",
            "de601be4a378419595fe0f3b3324d7f1",
            "63e08ec19e6449f4a87e3cc450c74b74",
            "d8d4009f5fcc4ae08c82e90bf9b2b147",
            "a24fc31aaa4a4c29945d44e982f8f4a4",
            "4f35045e467e4024bb64bea8c95f5f84",
            "af7c46d7b3da45cab041ef21b978e88c",
            "aa4d5634330c4a329ae1c29acf374bfa",
            "0e3e9b2c18f04e5e8224adaafa95a556",
            "5da1167cdded46cea36fd8989b9ec6b3",
            "fe6c346378284fe397ba80e598df85e5",
            "28115f5f12f64627a8cf96dc98ef1d5c",
            "777114f55b9d43a7b9ef18b9fca9d62e",
            "0a389f0eca27460382d7262f293d13c3",
            "4391d0f4bab447d38b3eb1d3a86e8cff",
            "c9e6664d91514d72ada136e8f8358dce",
            "1b67cd073f9347b5b8915546c44bbfe7",
            "426054c2652449d5b3b2cbecd43631ae",
            "7083ee0688dc4f0c93b3be87530866f7",
            "38ff80b7aaea41419232ac65dc2b5d66",
            "3c1e815645584cb98fe4ac3474e442b7",
            "4fab4c78217c4e44a66ac71ce1ff8267",
            "7878ff817cc74d45845d175bcc34131e",
            "0ac99b0003624575a206f402fa21396c",
            "40e9f14ca54e483d9969a8c15dedb4a6",
            "2f6d56020c7a47a9bea81745567751e4",
            "1b5675e3d1e74d9d9f877129931ea7ab",
            "29a50d3293ec403d99412af65145bebf",
            "3b6a7bdb9875432194c9f334d763d40c",
            "151a0b0ae7804a2d8b57527867fbdc3c",
            "885449dc333e48558e3b08bd7e93e3da",
            "7ea653cce78d4b82b3b4332502e2e448",
            "969ae05d24f44dbfb2e2d794c387e429",
            "df11400f38a5478ab5eac748914ea724",
            "612a9c4cd45642ea8c51b1e3c25697fe",
            "f6b8c5feef1f4d579932c1229366c292",
            "b7a8c9f26cdb46c3904b21d103391127",
            "e05b20a3eea642f0b5fc1ec0f3a5a11b",
            "a778f4b942764c518727c75642751ccc",
            "64b85a44d2ec40c7ab5fca36f8b500b8",
            "9a1d31545bda4392bfdd97ddc87c3ac4",
            "c22d65097f1341b69e837028b1defb6f",
            "a84369cbeb924957b6fbb0c3638befa9",
            "f411e2ec58024af8b224adbc4da56455",
            "5f1a997313674099a9dd156970ae770c",
            "e8a801c9046a4c189d85ca3e271e4832",
            "073b7d621af3447d9bea1e4fc9d08133",
            "d8b69657386e4bc8a4ec2692eee228ae",
            "1e1ddd87e4e547a295a3b22a53ad9ca6",
            "6ed61e4d57344ca0ab1bd0bb11d2f4a4",
            "e69fb58bbaec4085be9f59436bc7f47e",
            "32baad7416f34b9a87e38fa8d4c6843c",
            "36ffea224946424499f65753880843fd",
            "6700829705424aeca69f17c9c976c0bd",
            "536f19343d454c6e9bfb60e5e8b8e2e3",
            "cd0aa92e6cd54fda92721ac553ddf99e",
            "3f4875f0df6e438c807bcf07c028896a"
          ]
        },
        "id": "1164eYbmxJvz",
        "outputId": "1c453bd8-1d0a-4412-afe3-d816ca60cb23"
      },
      "execution_count": 11,
      "outputs": [
        {
          "output_type": "display_data",
          "data": {
            "text/plain": [
              "Downloading data:   0%|          | 0.00/6.06M [00:00<?, ?B/s]"
            ],
            "application/vnd.jupyter.widget-view+json": {
              "version_major": 2,
              "version_minor": 0,
              "model_id": "f8879127fe1b4e95ac1589d9d6c1d8bc"
            }
          },
          "metadata": {}
        },
        {
          "output_type": "display_data",
          "data": {
            "text/plain": [
              "Downloading data:   0%|          | 0.00/347k [00:00<?, ?B/s]"
            ],
            "application/vnd.jupyter.widget-view+json": {
              "version_major": 2,
              "version_minor": 0,
              "model_id": "63e08ec19e6449f4a87e3cc450c74b74"
            }
          },
          "metadata": {}
        },
        {
          "output_type": "display_data",
          "data": {
            "text/plain": [
              "Downloading data:   0%|          | 0.00/335k [00:00<?, ?B/s]"
            ],
            "application/vnd.jupyter.widget-view+json": {
              "version_major": 2,
              "version_minor": 0,
              "model_id": "0a389f0eca27460382d7262f293d13c3"
            }
          },
          "metadata": {}
        },
        {
          "output_type": "display_data",
          "data": {
            "text/plain": [
              "Generating train split:   0%|          | 0/14732 [00:00<?, ? examples/s]"
            ],
            "application/vnd.jupyter.widget-view+json": {
              "version_major": 2,
              "version_minor": 0,
              "model_id": "40e9f14ca54e483d9969a8c15dedb4a6"
            }
          },
          "metadata": {}
        },
        {
          "output_type": "display_data",
          "data": {
            "text/plain": [
              "Generating test split:   0%|          | 0/819 [00:00<?, ? examples/s]"
            ],
            "application/vnd.jupyter.widget-view+json": {
              "version_major": 2,
              "version_minor": 0,
              "model_id": "f6b8c5feef1f4d579932c1229366c292"
            }
          },
          "metadata": {}
        },
        {
          "output_type": "display_data",
          "data": {
            "text/plain": [
              "Generating validation split:   0%|          | 0/818 [00:00<?, ? examples/s]"
            ],
            "application/vnd.jupyter.widget-view+json": {
              "version_major": 2,
              "version_minor": 0,
              "model_id": "073b7d621af3447d9bea1e4fc9d08133"
            }
          },
          "metadata": {}
        }
      ]
    },
    {
      "cell_type": "code",
      "source": [
        "dataset_samsum"
      ],
      "metadata": {
        "colab": {
          "base_uri": "https://localhost:8080/"
        },
        "id": "-V1dg2ltxvx-",
        "outputId": "66e2aeaf-f725-4b5a-d20c-834f03bfc375"
      },
      "execution_count": 12,
      "outputs": [
        {
          "output_type": "execute_result",
          "data": {
            "text/plain": [
              "DatasetDict({\n",
              "    train: Dataset({\n",
              "        features: ['id', 'dialogue', 'summary'],\n",
              "        num_rows: 14732\n",
              "    })\n",
              "    test: Dataset({\n",
              "        features: ['id', 'dialogue', 'summary'],\n",
              "        num_rows: 819\n",
              "    })\n",
              "    validation: Dataset({\n",
              "        features: ['id', 'dialogue', 'summary'],\n",
              "        num_rows: 818\n",
              "    })\n",
              "})"
            ]
          },
          "metadata": {},
          "execution_count": 12
        }
      ]
    },
    {
      "cell_type": "code",
      "source": [
        "dataset_samsum['train'][1]['dialogue']"
      ],
      "metadata": {
        "colab": {
          "base_uri": "https://localhost:8080/",
          "height": 36
        },
        "id": "_U_NBoLex2BK",
        "outputId": "d2d8df75-dabd-41e6-ccc7-c8be9c983135"
      },
      "execution_count": 13,
      "outputs": [
        {
          "output_type": "execute_result",
          "data": {
            "text/plain": [
              "'Olivia: Who are you voting for in this election? \\r\\nOliver: Liberals as always.\\r\\nOlivia: Me too!!\\r\\nOliver: Great'"
            ],
            "application/vnd.google.colaboratory.intrinsic+json": {
              "type": "string"
            }
          },
          "metadata": {},
          "execution_count": 13
        }
      ]
    },
    {
      "cell_type": "code",
      "source": [
        "dataset_samsum['train'][1]['summary']"
      ],
      "metadata": {
        "colab": {
          "base_uri": "https://localhost:8080/",
          "height": 36
        },
        "id": "Q6p-ttsryYbA",
        "outputId": "10db3029-68bf-464e-9393-d34dc32276d8"
      },
      "execution_count": 14,
      "outputs": [
        {
          "output_type": "execute_result",
          "data": {
            "text/plain": [
              "'Olivia and Olivier are voting for liberals in this election. '"
            ],
            "application/vnd.google.colaboratory.intrinsic+json": {
              "type": "string"
            }
          },
          "metadata": {},
          "execution_count": 14
        }
      ]
    },
    {
      "cell_type": "code",
      "source": [
        "split_lengths = [len(dataset_samsum[split])for split in dataset_samsum]\n",
        "\n",
        "print(f\"Split length: {split_lengths}\")\n",
        "print(f\"Features: {dataset_samsum['train'].column_names}\")\n",
        "print(\"\\nDialogue\")\n",
        "\n",
        "print(dataset_samsum['test']['dialogue'][1])\n",
        "\n",
        "print(\"\\nSummary:\")\n",
        "print(dataset_samsum['test'][1]['summary'])"
      ],
      "metadata": {
        "colab": {
          "base_uri": "https://localhost:8080/"
        },
        "id": "D9AIsyioyd-T",
        "outputId": "0fa2abd2-affb-48e4-afa1-1695f8130d5b"
      },
      "execution_count": 15,
      "outputs": [
        {
          "output_type": "stream",
          "name": "stdout",
          "text": [
            "Split length: [14732, 819, 818]\n",
            "Features: ['id', 'dialogue', 'summary']\n",
            "\n",
            "Dialogue\n",
            "Eric: MACHINE!\r\n",
            "Rob: That's so gr8!\r\n",
            "Eric: I know! And shows how Americans see Russian ;)\r\n",
            "Rob: And it's really funny!\r\n",
            "Eric: I know! I especially like the train part!\r\n",
            "Rob: Hahaha! No one talks to the machine like that!\r\n",
            "Eric: Is this his only stand-up?\r\n",
            "Rob: Idk. I'll check.\r\n",
            "Eric: Sure.\r\n",
            "Rob: Turns out no! There are some of his stand-ups on youtube.\r\n",
            "Eric: Gr8! I'll watch them now!\r\n",
            "Rob: Me too!\r\n",
            "Eric: MACHINE!\r\n",
            "Rob: MACHINE!\r\n",
            "Eric: TTYL?\r\n",
            "Rob: Sure :)\n",
            "\n",
            "Summary:\n",
            "Eric and Rob are going to watch a stand-up on youtube.\n"
          ]
        }
      ]
    },
    {
      "cell_type": "code",
      "source": [
        "def convert_examples_to_features(example_batch):\n",
        "  input_encodings = tokenizer(example_batch['dialogue'], max_length = 1024, truncation= True)\n",
        "\n",
        "  with tokenizer.as_target_tokenizer():\n",
        "    target_encodings = tokenizer(example_batch['summary'], max_length=128, truncation= True)\n",
        "\n",
        "  return {\n",
        "      'input_ids': input_encodings['input_ids'],\n",
        "      'attention_mask' : input_encodings['attention_mask'],\n",
        "      'labels': target_encodings['input_ids']\n",
        "  }"
      ],
      "metadata": {
        "id": "pClDM0_0zHlj"
      },
      "execution_count": 16,
      "outputs": []
    },
    {
      "cell_type": "code",
      "source": [
        "dataset_samsum_pt = dataset_samsum.map(convert_examples_to_features, batched = True)"
      ],
      "metadata": {
        "colab": {
          "base_uri": "https://localhost:8080/",
          "height": 168,
          "referenced_widgets": [
            "5d40674503684033a2a1fbcd5588198c",
            "36a9e47896e44107b8a95a295ad10d26",
            "ffdc14e22a8344f9b329a8fd1dd5708c",
            "2eb99fab30e74b95ad0d8d3288f7321d",
            "74cf8dee5c53490d8b55622ffb077a18",
            "e6d8228f8801453fad4a50c77f152b25",
            "006e88cee9d74c189c351faadd519bf2",
            "99f5dbb9769e4323985bf74ee02f06b0",
            "d553807428534062b8fa08871fcd4cc5",
            "e4b86936087c46dfb018da01ab3abb94",
            "b3acb617d7694f3baef1b74d5d4ed730",
            "3b5cb32bbefa41b19fb925e8fec48a34",
            "d409bbae233e4f7198abf9ce50d393cf",
            "ebf41818ee8f402392613cbbc9bb98be",
            "80bded1efa5c49f58bc0e329290cf463",
            "826f30d6262f482ab953b5afa9e7086a",
            "efa5fd1a333046f4b6130229512e4ff1",
            "4604e22244514d81a59c74035a2f29c4",
            "2a14da0666f44d369027c5cd07903ffa",
            "03bed4f87c324cd4af5e77b01159dfe9",
            "83b9848c6628434fb409f76e48bad747",
            "cddf4eb68f5348c290d1718ba7417296",
            "c6327d2efaa94df193eca66ed426f15b",
            "121f191410c8430793257bdd902a3909",
            "ce3f08642eb54e92b044d5da3ef93441",
            "817e957742c84f0e85f2f60bdd8bbef7",
            "3674dcc7e20f454f9b3122be57194042",
            "0bdd2e5f06624a3598edcd4225a3432e",
            "fd1e68b962ce49c6a3f5e3ee6789ea4f",
            "cb684d6340f34f8e852db1cb91220bde",
            "26dfdb8244354846a4282019e4f4be5c",
            "0aee845047d8401fb81799a12e8b0df0",
            "29997e7ceebe41419204244740042d85"
          ]
        },
        "id": "J40N_RmZ0VMJ",
        "outputId": "3e689e4c-92f4-4992-bdcf-043987b9dc41"
      },
      "execution_count": 17,
      "outputs": [
        {
          "output_type": "display_data",
          "data": {
            "text/plain": [
              "Map:   0%|          | 0/14732 [00:00<?, ? examples/s]"
            ],
            "application/vnd.jupyter.widget-view+json": {
              "version_major": 2,
              "version_minor": 0,
              "model_id": "5d40674503684033a2a1fbcd5588198c"
            }
          },
          "metadata": {}
        },
        {
          "output_type": "stream",
          "name": "stderr",
          "text": [
            "/usr/local/lib/python3.10/dist-packages/transformers/tokenization_utils_base.py:3892: UserWarning: `as_target_tokenizer` is deprecated and will be removed in v5 of Transformers. You can tokenize your labels by using the argument `text_target` of the regular `__call__` method (either in the same call as your input texts if you use the same keyword arguments, or in a separate call.\n",
            "  warnings.warn(\n"
          ]
        },
        {
          "output_type": "display_data",
          "data": {
            "text/plain": [
              "Map:   0%|          | 0/819 [00:00<?, ? examples/s]"
            ],
            "application/vnd.jupyter.widget-view+json": {
              "version_major": 2,
              "version_minor": 0,
              "model_id": "3b5cb32bbefa41b19fb925e8fec48a34"
            }
          },
          "metadata": {}
        },
        {
          "output_type": "display_data",
          "data": {
            "text/plain": [
              "Map:   0%|          | 0/818 [00:00<?, ? examples/s]"
            ],
            "application/vnd.jupyter.widget-view+json": {
              "version_major": 2,
              "version_minor": 0,
              "model_id": "c6327d2efaa94df193eca66ed426f15b"
            }
          },
          "metadata": {}
        }
      ]
    },
    {
      "cell_type": "code",
      "source": [
        "dataset_samsum_pt['train']"
      ],
      "metadata": {
        "colab": {
          "base_uri": "https://localhost:8080/"
        },
        "id": "RcxBarVS1_J7",
        "outputId": "e1e666a4-5a6e-44e9-93c8-e8db526c49cd"
      },
      "execution_count": 18,
      "outputs": [
        {
          "output_type": "execute_result",
          "data": {
            "text/plain": [
              "Dataset({\n",
              "    features: ['id', 'dialogue', 'summary', 'input_ids', 'attention_mask', 'labels'],\n",
              "    num_rows: 14732\n",
              "})"
            ]
          },
          "metadata": {},
          "execution_count": 18
        }
      ]
    },
    {
      "cell_type": "code",
      "source": [
        "dataset_samsum_pt['train']['input_ids'][1]"
      ],
      "metadata": {
        "colab": {
          "base_uri": "https://localhost:8080/"
        },
        "id": "5f5QRzOz2TAd",
        "outputId": "eb499473-f81f-4c70-ca6e-68843914c1e9"
      },
      "execution_count": 19,
      "outputs": [
        {
          "output_type": "execute_result",
          "data": {
            "text/plain": [
              "[18038,\n",
              " 151,\n",
              " 2632,\n",
              " 127,\n",
              " 119,\n",
              " 6228,\n",
              " 118,\n",
              " 115,\n",
              " 136,\n",
              " 2974,\n",
              " 152,\n",
              " 10463,\n",
              " 151,\n",
              " 35884,\n",
              " 130,\n",
              " 329,\n",
              " 107,\n",
              " 18038,\n",
              " 151,\n",
              " 2587,\n",
              " 314,\n",
              " 1242,\n",
              " 10463,\n",
              " 151,\n",
              " 1509,\n",
              " 1]"
            ]
          },
          "metadata": {},
          "execution_count": 19
        }
      ]
    },
    {
      "cell_type": "code",
      "source": [
        "# Training\n",
        "\n",
        "from transformers import DataCollatorForSeq2Seq\n",
        "\n",
        "seq2seq_data_collator = DataCollatorForSeq2Seq(tokenizer, model = model_pegasus)"
      ],
      "metadata": {
        "id": "WbifzwIU2anp"
      },
      "execution_count": 20,
      "outputs": []
    },
    {
      "cell_type": "code",
      "source": [
        "from transformers import TrainingArguments, Trainer\n",
        "trainer_args = TrainingArguments(\n",
        "    output_dir = 'pegasus-samsum', num_train_epochs=1, warmup_steps=500,\n",
        "    per_device_train_batch_size=1, per_device_eval_batch_size=1,\n",
        "    weight_decay=0.01,logging_steps=10,\n",
        "    evaluation_strategy='steps', eval_steps=500, save_steps=1e6,\n",
        "    gradient_accumulation_steps=16\n",
        ")"
      ],
      "metadata": {
        "id": "LnuvLAGC4Bqh"
      },
      "execution_count": 21,
      "outputs": []
    },
    {
      "cell_type": "code",
      "source": [
        "trainer = Trainer(model = model_pegasus, args=trainer_args,\n",
        "                  tokenizer = tokenizer, data_collator = seq2seq_data_collator,\n",
        "                  train_dataset = dataset_samsum_pt['test'],\n",
        "                  eval_dataset=dataset_samsum_pt['validation'])"
      ],
      "metadata": {
        "colab": {
          "base_uri": "https://localhost:8080/"
        },
        "id": "kouwDwMt5Drk",
        "outputId": "cb4b6b27-9c27-48bb-e50f-161eafc142a5"
      },
      "execution_count": 22,
      "outputs": [
        {
          "output_type": "stream",
          "name": "stderr",
          "text": [
            "/usr/local/lib/python3.10/dist-packages/accelerate/accelerator.py:432: FutureWarning: Passing the following arguments to `Accelerator` is deprecated and will be removed in version 1.0 of Accelerate: dict_keys(['dispatch_batches', 'split_batches', 'even_batches', 'use_seedable_sampler']). Please pass an `accelerate.DataLoaderConfiguration` instead: \n",
            "dataloader_config = DataLoaderConfiguration(dispatch_batches=None, split_batches=False, even_batches=True, use_seedable_sampler=True)\n",
            "  warnings.warn(\n"
          ]
        }
      ]
    },
    {
      "cell_type": "code",
      "source": [
        "trainer.train()"
      ],
      "metadata": {
        "colab": {
          "base_uri": "https://localhost:8080/",
          "height": 110
        },
        "id": "uxYtNmEr6hVv",
        "outputId": "c25166f0-e741-4fde-e506-7603b9c9f25a"
      },
      "execution_count": 23,
      "outputs": [
        {
          "output_type": "display_data",
          "data": {
            "text/plain": [
              "<IPython.core.display.HTML object>"
            ],
            "text/html": [
              "\n",
              "    <div>\n",
              "      \n",
              "      <progress value='51' max='51' style='width:300px; height:20px; vertical-align: middle;'></progress>\n",
              "      [51/51 02:28, Epoch 0/1]\n",
              "    </div>\n",
              "    <table border=\"1\" class=\"dataframe\">\n",
              "  <thead>\n",
              " <tr style=\"text-align: left;\">\n",
              "      <th>Step</th>\n",
              "      <th>Training Loss</th>\n",
              "      <th>Validation Loss</th>\n",
              "    </tr>\n",
              "  </thead>\n",
              "  <tbody>\n",
              "  </tbody>\n",
              "</table><p>"
            ]
          },
          "metadata": {}
        },
        {
          "output_type": "execute_result",
          "data": {
            "text/plain": [
              "TrainOutput(global_step=51, training_loss=3.0043694084765864, metrics={'train_runtime': 153.0002, 'train_samples_per_second': 5.353, 'train_steps_per_second': 0.333, 'total_flos': 313450454089728.0, 'train_loss': 3.0043694084765864, 'epoch': 1.0})"
            ]
          },
          "metadata": {},
          "execution_count": 23
        }
      ]
    },
    {
      "cell_type": "code",
      "source": [
        "# Evaluation\n",
        "\n",
        "def generate_batch_sized_chunks(list_of_elements, batch_size):\n",
        "  \"\"\" split the dataset into smaller batches that we can process simultaneously Yield successive batch-sized chucks from list_of_elements\"\"\"\n",
        "  for i in range(0,len(list_of_elements), batch_size):\n",
        "    yield list_of_elements[i : i + batch_size]\n",
        "\n",
        "def calculate_metric_on_text_ds(dataset, metric, model, tokenizer, batch_size = 16,device = device, column_text='article', column_summary = 'highlights'):\n",
        "  article_batches = list(generate_batch_sized_chucks(dataset[column_text],batch_size))\n",
        "  target_batches = list(generate_batch_sized_chunks(dataset[column_summary],batch_size))\n",
        "\n",
        "  for article_batch, target_batch in tqdm(\n",
        "      zip(article_batches, target_batches), total = len(article_batches)):\n",
        "      inputs = tokenizer(article_batch, max_length = 1024, truncation = True,padding='max_length', return_tensors = 'pt')\n",
        "      summaries = model.generate(input_ids = inputs['input_ids'].to(device),\n",
        "                                 attention_mask = inputs['attention_mask'].to(device),\n",
        "                                 length_penalty = 0.8 , num_beams = 8, max_length = 128)\n",
        "\n",
        "      ''' parameter for length penalty ensures that the model does not generate sequences'''\n",
        "\n",
        "      # Finally , we decode the generated texts,\n",
        "      # replace the token and add the decoded texts with the references to the metric.\n",
        "      decoded_summaries = [tokenizer.decode(s,skip_special_tokens=True,\n",
        "                                            clean_up_tokenization_spaces = True) for s in summaries]\n",
        "\n",
        "      decoded_summaries = [d.replace(\"\", \" \") for d in decoded_summaries]\n",
        "\n",
        "      metric.add_batch(predictions = decoded_summaries, references=target_batch)\n",
        "\n",
        "      # Finally compute and return the ROUGE scores.\n",
        "\n",
        "      score = metric.compute()\n",
        "      return score\n",
        "\n",
        "\n",
        ""
      ],
      "metadata": {
        "id": "PTnt8R5R7BAh"
      },
      "execution_count": 24,
      "outputs": []
    },
    {
      "cell_type": "code",
      "source": [
        "rouge_names = ['rouge1', 'rouge2','rougeL','rougeLsum']\n",
        "rouge_metric = load_metric('rouge')"
      ],
      "metadata": {
        "colab": {
          "base_uri": "https://localhost:8080/",
          "height": 173,
          "referenced_widgets": [
            "17fd37fa3363400ca19b665490bd5cfd",
            "c211ed29f10f416fb5e493060d945f9c",
            "5a285b828a8d4dc9946ca096003364fa",
            "5f1aafe4e8594409b319f5003dbcba01",
            "fa6477c5a9f546c6ac6e90d75039b3b6",
            "41a3ac47e8be4e0b87364c2b63f784ec",
            "86577f8968824d709e358f728585db25",
            "1c0683e2f1844e199c878a17c2b1c010",
            "d70a3fa3007e47a5b4d7f4b4225d4a0f",
            "21d9e1b8f07a4c74b61e57a4655cdab0",
            "fe17d17affb9456fad8195a68d355829"
          ]
        },
        "id": "QncjzCCS_9RM",
        "outputId": "d49e1745-28ed-4859-a1f0-3fa64b693279"
      },
      "execution_count": 25,
      "outputs": [
        {
          "output_type": "stream",
          "name": "stderr",
          "text": [
            "<ipython-input-25-dc756a889ede>:2: FutureWarning: load_metric is deprecated and will be removed in the next major version of datasets. Use 'evaluate.load' instead, from the new library 🤗 Evaluate: https://huggingface.co/docs/evaluate\n",
            "  rouge_metric = load_metric('rouge')\n",
            "/usr/local/lib/python3.10/dist-packages/datasets/load.py:756: FutureWarning: The repository for rouge contains custom code which must be executed to correctly load the metric. You can inspect the repository content at https://raw.githubusercontent.com/huggingface/datasets/2.18.0/metrics/rouge/rouge.py\n",
            "You can avoid this message in future by passing the argument `trust_remote_code=True`.\n",
            "Passing `trust_remote_code=True` will be mandatory to load this metric from the next major release of `datasets`.\n",
            "  warnings.warn(\n"
          ]
        },
        {
          "output_type": "display_data",
          "data": {
            "text/plain": [
              "Downloading builder script:   0%|          | 0.00/2.17k [00:00<?, ?B/s]"
            ],
            "application/vnd.jupyter.widget-view+json": {
              "version_major": 2,
              "version_minor": 0,
              "model_id": "17fd37fa3363400ca19b665490bd5cfd"
            }
          },
          "metadata": {}
        }
      ]
    },
    {
      "cell_type": "code",
      "source": [
        "## Save the model\n",
        "model_pegasus.save_pretrained(\"pegasus-samsum-model\")"
      ],
      "metadata": {
        "colab": {
          "base_uri": "https://localhost:8080/"
        },
        "id": "77MU60WuAXD_",
        "outputId": "31bdace5-d434-401a-8877-f064395755e7"
      },
      "execution_count": 27,
      "outputs": [
        {
          "output_type": "stream",
          "name": "stderr",
          "text": [
            "Some non-default generation parameters are set in the model config. These should go into a GenerationConfig file (https://huggingface.co/docs/transformers/generation_strategies#save-a-custom-decoding-strategy-with-your-model) instead. This warning will be raised to an exception in v4.41.\n",
            "Non-default generation parameters: {'max_length': 128, 'min_length': 32, 'num_beams': 8, 'length_penalty': 0.8, 'forced_eos_token_id': 1}\n"
          ]
        }
      ]
    },
    {
      "cell_type": "code",
      "source": [
        "## Save tokenizer\n",
        "\n",
        "tokenizer.save_pretrained(\"tokenizer\")"
      ],
      "metadata": {
        "colab": {
          "base_uri": "https://localhost:8080/"
        },
        "id": "UVlZ2t1dC-YU",
        "outputId": "5a89536b-e8c5-4775-fcd5-27c3324f07cb"
      },
      "execution_count": 28,
      "outputs": [
        {
          "output_type": "execute_result",
          "data": {
            "text/plain": [
              "('tokenizer/tokenizer_config.json',\n",
              " 'tokenizer/special_tokens_map.json',\n",
              " 'tokenizer/spiece.model',\n",
              " 'tokenizer/added_tokens.json',\n",
              " 'tokenizer/tokenizer.json')"
            ]
          },
          "metadata": {},
          "execution_count": 28
        }
      ]
    },
    {
      "cell_type": "code",
      "source": [
        "## Load\n",
        "\n",
        "tokenizer = AutoTokenizer.from_pretrained('/content/tokenizer')"
      ],
      "metadata": {
        "id": "eD7po-SZFuSV"
      },
      "execution_count": 29,
      "outputs": []
    },
    {
      "cell_type": "code",
      "source": [
        "!pip install PyPDF2"
      ],
      "metadata": {
        "colab": {
          "base_uri": "https://localhost:8080/"
        },
        "id": "xGgdt4OpMTT-",
        "outputId": "36a7ee68-bf47-42fe-bad9-8ea7adab7140"
      },
      "execution_count": 32,
      "outputs": [
        {
          "output_type": "stream",
          "name": "stdout",
          "text": [
            "Collecting PyPDF2\n",
            "  Downloading pypdf2-3.0.1-py3-none-any.whl (232 kB)\n",
            "\u001b[2K     \u001b[90m━━━━━━━━━━━━━━━━━━━━━━━━━━━━━━━━━━━━━━━━\u001b[0m \u001b[32m232.6/232.6 kB\u001b[0m \u001b[31m3.4 MB/s\u001b[0m eta \u001b[36m0:00:00\u001b[0m\n",
            "\u001b[?25hInstalling collected packages: PyPDF2\n",
            "Successfully installed PyPDF2-3.0.1\n"
          ]
        }
      ]
    },
    {
      "cell_type": "code",
      "source": [
        "import os\n",
        "from PyPDF2 import PdfReader\n",
        "def extract_text_from_pdf(pdf_path):\n",
        "    text = \"\"\n",
        "    with open(pdf_path, 'rb') as file:\n",
        "        pdf_reader = PdfReader(file)\n",
        "        for page in pdf_reader.pages:\n",
        "            text += page.extract_text()\n",
        "    return text\n",
        "\n",
        "path = \"/content/lybra-finance-audit-2023-07.pdf\"\n",
        "text = extract_text_from_pdf(path)"
      ],
      "metadata": {
        "id": "79HqqIAZL1P_"
      },
      "execution_count": 33,
      "outputs": []
    },
    {
      "cell_type": "code",
      "source": [
        "import re\n",
        "from transformers import pipeline\n",
        "\n",
        "# Define sample_text and reference\n",
        "sample_text = text.strip()  # Assuming text is a string\n",
        "# reference = dataset_samsum['test'][0]['summary']  # Uncomment if needed\n",
        "\n",
        "# Define generation keyword arguments\n",
        "gen_kwargs = {\"length_penalty\": 0.8, \"num_beams\": 8, \"max_length\": 128}\n",
        "\n",
        "# Load the summarization pipeline\n",
        "pipe = pipeline(\"summarization\", model=\"google/pegasus-xsum\")\n",
        "\n",
        "# Print dialogue\n",
        "print(\"Dialogue:\")\n",
        "print(sample_text)\n",
        "\n",
        "# Print reference summary if available\n",
        "# print(\"\\nReference Summary:\")\n",
        "# print(reference)  # Uncomment if needed\n",
        "\n",
        "# Generate summary using Pegasus model\n",
        "summary = pipe(sample_text, **gen_kwargs)[0]['summary_text']\n",
        "summary = summary.strip()\n",
        "\n",
        "# Remove special symbols\n",
        "summary = re.sub(r'[^\\w\\s]', '', summary)\n",
        "\n",
        "# Print generated summary\n",
        "print(\"\\nGenerated Summary:\")\n",
        "print(summary)\n"
      ],
      "metadata": {
        "colab": {
          "base_uri": "https://localhost:8080/",
          "height": 1000
        },
        "id": "m82pSrT9GIWf",
        "outputId": "258d0fe5-9fa2-4d4f-bc21-d2d893757257"
      },
      "execution_count": 38,
      "outputs": [
        {
          "output_type": "stream",
          "name": "stderr",
          "text": [
            "Some weights of PegasusForConditionalGeneration were not initialized from the model checkpoint at google/pegasus-xsum and are newly initialized: ['model.decoder.embed_positions.weight', 'model.encoder.embed_positions.weight']\n",
            "You should probably TRAIN this model on a down-stream task to be able to use it for predictions and inference.\n",
            "Token indices sequence length is longer than the specified maximum sequence length for this model (34804 > 512). Running this sequence through the model will result in indexing errors\n"
          ]
        },
        {
          "output_type": "stream",
          "name": "stdout",
          "text": [
            "Dialogue:\n",
            "L y b r a   F i n a n c e\n",
            "D a t e A u g u st  2 0 2 3\n",
            "1   E x e c u t i v e   S u m m a r y\n",
            "T h i s  r e p o r t   p r e sen t s  t h e   r e su l t s   o f   o u r   e n g a g e m e n t   w i t h   L y b r a   F i n a n c e   T e a m   t o   r e vi e w   t h e   L y b r a   P r o t o c o l .\n",
            "T h e   r e vi e w   w a s  c o n d u c t e d   o v e r   f o u r   a n d   a   h a l f   w e e k s ,   f r o m   J u l y   1 0 ,   2 02 3   t o   A u g   9 ,   2 02 3 ,   b y   G e o r g e   K o b a k h i d z e   a n d   S e r g i i\n",
            "K r a v c h e n k o .   A   t o t a l   o f   7   p e r so n ‑ w e e k s  w e r e   s p e n t .\n",
            "T h e   L y b r a   P r o t o c o l   i s  a   DeF i   s y st e m   t h a t   f o c u s e s   o n   c o l l a t e r a l ‑ b a s e d   s t a b l e c o i n   l e n d i n g   a n d   m a n a g e m e n t .   A   p a r t i c u l a r   f e a t u r e   o f\n",
            "t h i s  p r o t o c o l   i s  i t s  f o c u s  o n   t h e   s t a b l e c o i n   h o l d e r s   a n d   L i q u i d   S t a k i n g   D e r i v a t i v e   t o k e n s   f o r   E t h e r e u m   s t a k i n g   a s   c o l l a t e r a l .   T h e\n",
            "r e su l t i n g   p r o d u c t   o f   t h e   s y stem   i s   a n   i n t e r e s t ‑ b e a r i n g   r e b a s i n g   s t a b l e c o i n   c a l l e d  EUSD .   W i t h   t h e   V 2   v e r si o n   o f   t h e   p r o t o c o l ,   w h i c h\n",
            "i s  w h a t   i s  i n   t h e   sc o p e   o f   t h i s  a u d i t ,   t h e   s y s t e m   i n t r o d u c e s   m o r e   L S D   t o k e n s   a l o n g   w i t h   L i d o ’ s  stETH   f r o m   t h e   \u0000 i r st  v e r si o n   su c h   a s\n",
            "t h o se  f r o m   R o c k e t P o o l   a n d   Bi n a n c e .   L y b r a   P r o t o c o l   V 2   a l s o   i n t r o d u c e s  PeUSD   a   n o n ‑ r e b a si n g   US D  st a b l e c o i n   t h a t   f e a t u r e s\n",
            "L a y e r Z e r o ’ s  O m n i c h a i n   c a p a b i l i t i e s .  PeUSD   m a y   b e   m i n t e d   w i t h  EUSD   o r   w i t h   n o n ‑ r e b a si n g   L S D  t o k e n s   t h a t   a r e   i n t r o d u c e d   i n   t h e\n",
            "V 2 .  PeUSD   m a y   a l so   a c c o m m o d a t e   e a si e r   i n t e g r a t i o n s   w i t h   o t h e r   D e F i   p r o t o c o l s   a s   t h e   r e b a s i n g  EUSD   m a y   c a u se  a c c o u n t i n g\n",
            "i ssu e s.\n",
            "T h e   r e p o si t o r y   i s  o r g a n i z e d   a n d   t h e   c o d e   i s   w r i t t e n   w e l l   w i t h   p l e n t i f u l   c o m m e n t s   a n d   e l e g a n t   d e s i g n   c h o i c e s .   A s   L y b r a   P r o t o c o l   i s\n",
            "a   c o m p l e x   s y stem ,   u ser s  sh o u l d   e x p e c t   t o   u n d e r s t a n d   a n d   d i g e s t   a   m u l t i t u d e   o f   p a r a m e t e r s ,   m a n y   o f   w h i c h   m a y   b e   c h a n g e d   b y\n",
            "g o v e r n a n c e   a n d   m a n y   o f   w h i c h   a r e   h a r d c o d e d   a n d   m a y   n o t .\n",
            "A t   t h e   e n d   o f   t h e   a u d i t ,   t h e   e n g a g e m e n t   w a s   e x t e n d e d   t o   v e r i f y   \u0000 i x e s   a n d   s o m e   o t h e r   c o d e   c h a n g e s   m a d e   d u r i n g   t h e   a u d i t .\n",
            "2   S c o p e\n",
            "O u r   r e vi e w   f o c u sed   o n   t h e   c o m m i t   h a s h   4 8 c 9 8 f 2 8 8 c 7 7 f 5 7 f a 1 7 e 8 7 9 6 4 3 9 4 f 9 8 e 1 e 2 e e 6 3 6 .   T h e   l i st  o f   \u0000 i l e s  i n   sc o p e   c a n   b e   f o u n d   i n\n",
            "t h e   A p p e n d i x .\n",
            "F o l l o w i n g   t h e   a u d i t ,   a l l   c o m m i t s   b e t w e e n   4 8 c 9 8 f 2 8 8 c 7 7 f 5 7 f a 1 7 e 8 7 9 6 4 3 9 4 f 9 8 e 1 e 2 e e 6 3 6   a n d\n",
            "9 0 2 8 5 1 0 7 d e 8 a 6 7 5 4 9 5 4 c 3 0 3 c d 6 9 d 9 7 b 5 f d b 4 e 2 4 8   w e r e   r e vi e w e d   a s  w e l l .\n",
            "2 . 1   O b j e c t i v e s\n",
            "T o g e t h e r   w i t h   t h e   L y b r a   F i n a n c e   t e a m ,   w e   i d e n t i \u0000 i e d   t h e   f o l l o w i n g   p r i o r i t i e s   f o r   o u r   r e vi e w ꞉\n",
            "1 .   Co r r e c t n e ss  o f   t h e   i m p l e m e n t a t i o n ,   c o n s i s t e n t   w i t h   t h e   i n t e n d e d   f u n c t i o n a l i t y   a n d   w i t h o u t   u n i n t e n d e d   e d g e   c a s e s .\n",
            "2 .   I d e n t i f y   k n o w n   vu l n e r a b i l i t i e s  p a r t i c u l a r   t o   s m a r t   c o n t r a c t   s y s t e m s ,   a s   o u t l i n e d   i n   o u r   S m a r t   Co n t r a c t   Be st  P r a c t i c e s ,   a n d   t h e\n",
            "S m a r t   Co n t r a c t   W e a k n e ss  Cl a ss i \u0000 i c a t i o n   R e g i s t r y .\n",
            "3 .   R e vi e w   t h e   l o g i c   o f   a l l   v a u l t   t y p e s   a n d   t h e   i m p l e m e n t a t i o n   o f   t h e i r   c o r e   f u n c t i o n s   s u c h   a s   d e p o s i t i n g ,   b o r r o w i n g ,\n",
            "w i t h d r a w i n g ,   l i q u i d a t i n g ,   r e d e e m i n g ,   a n d   d i s t r i b u t i n g   e x c e s s   i n c o m e   t h r o u g h   i n t e r e s t   r e a l i z a t i o n   f o r   r e b a s e   a s s e t s .\n",
            "4 .   T h e   Go v e r n a n c e   c h e c k s  f o r   p r o p o s a l s   a n d   v o t i n g   a r e   n o t   b y p a s s a b l e   b y   a   m a l i c i o u s   a c t o r .\n",
            "5 .   P e r m i ssi o n   c h e c k s  i n   t h e  LybraConfigurator   c o n t r a c t   w o r k   a s  i n t e n d e d .\n",
            "6 .   T h e   r e w a r d s  st a k i n g ,   m i n i n g ,   a n d   d i s t r i b u t i o n   l o g i c   w o r k   a s   i n t e n d e d   i n   c o n t r a c t s   s u c h   a s  ProtocolRewardsPool   a n d  \n",
            "EUSDMiningIncentives .\n",
            "3   S y s t e m   O v e r v i e w\n",
            "L y b r a   i s  a n   i n t e r e st‑ b e a r i n g   st a b l e c o i n   p r o t o c o l   b a c k e d   b y   d i ﬀ e r e n t   L S D   ( l i q u i d   s t a k i n g   d e r i v a t i v e s ) .\n",
            "3 . 1   S t a b l e c o i n s\n",
            "EUSD   ‑   a n  ERC‑20   r e b a se  t o k e n   r e p r e sen t i n g   a   y i e l d ‑ b e a r i n g   s t a b l e c o i n .\n",
            "peUSD   ‑   a   r e g u l a r  ERC‑20   st a b l e c o i n   t h a t   c a n   b e   c o n v e r t e d   f r o m  EUSD .   T h e  peUSD   t o k e n   d o e sn ’ t   e a r n   a n y   i n t e r e s t ,   b u t   u s e r s   t h a t\n",
            "c o n v e r t  EUSD   w i l l   sti l l   b e   g e t t i n g   i n t e r e st  f r o m   t h e i r   d e p o s i t e d  EUSD   t o k e n s.   A l so   h a s  a n   L a y e r Z e r o   O m n i c h a i n   c o m p o n e n t\n",
            "m a k i n g   i t   a   O F T V 2   t o k e n   a s  w e l l   f o r   m u l t i ‑ c h a i n   c a p a b i l i t i e s .\n",
            "3 . 2   V a u l t s\n",
            "T h e r e   a r e   t w o   t y p e s  o f   v a u l t s  i n   t h e   p r o t o c o l .   O n e   o f   t h e m   t a k e s   a   L S D   a s   c o l l a t e r a l   a n d   m i n t s  EUSD   (LybraEUSDVaultBase ) ,   a n d   t h e\n",
            "o t h e r   t y p e   m i n t s peUSD   (LybraPeUSDVaultBase ) .   T h e   f o l l o w i n g   v a u l t s  a r e   i m p l e m e n t e d ꞉\n",
            "LybraStETHVault   ‑   t a k e s stETH   ( st a k e d  ETH   b y   L i d o )   a s  c o l l a t e r a l   a n d   m i n t s  EUSD .\n",
            "LybraWstETHVault   ‑   t a k e s WstETH   ( w r a p p e d  stETH )   a s  c o l l a t e r a l   a n d   m i n t s peUSD .\n",
            "LybraRETHVault   ‑   t a k e s RETH ( R o c k e t   P o o l  ETH )   a s  c o l l a t e r a l   a n d   m i n t s peUSD .\n",
            "LybraWbETHVault   ‑   t a k e s WBETH ( W r a p p e d   Bi n a n c e  ETH )   a s  c o l l a t e r a l   a n d   m i n t s peUSD .\n",
            "T h e   m a i n   d i ﬀ e r e n c e   b e t w e e n  peUSD   a n d  EUSD   v a u l t s  i s  t h a t   t h e   c o l l a t e r a l   o f   t h e  EUSD   v a u l t   i s  a   r e b a se  t o k e n .   S o   f o r  peUSD   v a u l t s,\n",
            "e v e r y   d e p o si t o r ’ s  c o l l a t e r a l   v a l u e   i s   s u p p o s e d   t o   g r o w   o v e r   t i m e   d u e   t o   E T H   s t a k i n g   r e w a r d s .   U n l i k e   t h a t ,   e v e r y   i n d i vi d u a l  stETH1   E x e c u t i v e   S u mma r y\n",
            "2   S c o p e\n",
            "2 . 1   O b j e c t i v e s\n",
            "3   S y s t e m  O v e r v i e w\n",
            "3 . 1   S t a b l e c o i n s\n",
            "3 . 2   V a u l t s\n",
            "3 . 3  M i n i n g\n",
            "3 . 4   S y s t e m   D i a g r a m\n",
            "4   S e c u ri t y   S p e c i \u0000 i c a t i o n\n",
            "4 . 1   A c t o r s\n",
            "4 . 2   T r u s t   M o d e l\n",
            "4 . 3  S e c u r i t y   P r o p e r t i e s\n",
            "5   P o s t   A u d i t   V e ri \u0000 i c a t i o n s\n",
            "6   F i n d i n g s\n",
            "6 . 1   R e ‑ E n t r a n c y   R i s k s   A s s o c i a t e d\n",
            "W i t h   E x t e r n a l   C a l l s   W i t h   O t h e r\n",
            "L i q u i d   S t a k i n g   S y s t e m s .   M a j o r  \n",
            "✓   F i x e d\n",
            "6 . 2   T h e   D e p l o y e r   o f  \n",
            "GovernanceTimelock   G e t s\n",
            "P r i v i l e g e d   A c c e s s   t o   t h e   S y s t e m .  \n",
            "M a j o r  ✓   F i x e d\n",
            "6 . 3  T h e  \n",
            "configurator.getEUSDMaxLocked(\n",
            ")\n",
            "C o n d i t i o n   C a n   B e   B y p a s s e d\n",
            "D u r i n g   a   F l a s h l o a n   M e d i u m  \n",
            "✓   F i x e d\n",
            "6 . 4   L i q u i d a t i o n   K e e p e r s\n",
            "A u t o m a t i c a l l y   B e c o m e  eUSD\n",
            "D e b t   P r o v i d e r s   f o r   O t h e r\n",
            "L i q u i d a t i o n s .   M e d i u m  ✓   F i x e d\n",
            "6 . 5   U s e   t h e   S a m e   S o l i d i t y   V e r s i o n\n",
            "A c r o s s   C o n t r a c t s .   M i n o r  \n",
            "✓   F i x e d\n",
            "6 . 6   D u p l i c a t i o n   o f   B a d   C o l l a t e r a l\n",
            "R a t i o   M i n o r     A c k n o w l e d g e d\n",
            "6 . 7   M i s s i n g   E v e n t s .   M i n o r  \n",
            "✓   F i x e d\n",
            "6 . 8  I n c o r r e c t   I n t e r f a c e s   M i n o r  \n",
            "✓   F i x e d\n",
            "6 . 9   T h e   E T H   S t a k i n g   R e w a r d s\n",
            "D i s t r i b u t i o n   T r a d e o ﬀ\n",
            "A p p e n d i x   1   ‑   F i l e s   i n   S c o p e\n",
            "A p p e n d i x   2   ‑   D i s c l o s u r e\n",
            "A . 2 . 1   P u r p o s e   o f   R e p o r t s\n",
            "A . 2 . 2   L i n k s   t o   O t h e r   W e b   S i t e s\n",
            "f r o m   T h i s   W e b   S i t e\n",
            "A . 2 . 3  T i m e l i n e s s   o f   C o n t e n tA U D I T S   F U Z Z I N G   S C R I B B L E   A B O U Tc o l l a t e r a l   d e p o si t   i sn ’ t   d i r e c t l y   g r o w i n g   d u e   t o   i t s   r e b a s e   n a t u r e .   S o   t h e   e x c e s s   o f  stETH   t o k e n s  i n   t h e   v a u l t   c o n t r a c t   i s  s o l d   f o r  \n",
            "EUSD   t o   a n y o n e   w i l l i n g   t o   b u y   i t .   T h e   s h a r e s   o f   t h e   p r o \u0000 i t   a r e   b u r n t   i n   f a v o r   o f   e v e r y  EUSD   h o l d e r ,   w h i c h   i n c r e a se s  t h e i r   b a l a n c e s\n",
            "d u e   t o   t h e   t o k e n ’ s  r e b a se  n a t u r e .\n",
            "3 . 3   M i n i n g\n",
            "T h e   s y stem   h a s  t w o   r e w a r d   p o o l s   t h a t   a r e   f o r k e d   f r o m   S y n t h e t i x   S t a k i n g R e w a r d s   w i t h   s o m e   c h a n g e s   m a d e ꞉\n",
            "EUSDMiningIncentives   ‑   a   st a k i n g   c o n t r a c t   t h a t   r e w a r d s   b o r r o w e r s   o f  EUSD   a n d  peUSD .   T h e   u ser s  a r e   g e t t i n g   r e w a r d s   i n   t h e   f o r m\n",
            "o f  esLBR   ( e sc r o w e d  LBR   t o k e n s) .\n",
            "esLBRBoost   ‑   a   c o n t r a c t   a l l o w i n g   u ser s  t o   l o c k   t h e i r  LBR   i n   e x c h a n g e   f o r   b o o sted   r e w a r d s   i n  EUSDMiningIncentives .\n",
            "ProtocolRewardsPool   ‑   a   st a k i n g   c o n t r a c t   t h a t   r e w a r d s   h o l d e r s   o f  esLBR   w i t h  peUSD   o r   o t h e r   e x t e r n a l   st a b l e c o i n s.\n",
            "3 . 4   S y s t e m   D i a g r a m\n",
            "P l e a se  \u0000 i n d   b e l o w   a   n o n ‑ e x h a u st i v e   d i a g r a m   o f   t h e   L y b r a   P r o t o c o l   s y s t e m   t h a t   f o c u s e s   o n   c a l l s   a n d   d a t a   \u0000 l o w   w i t h i n   t h e   s y s t e m .\n",
            "1 .   Co n \u0000 i g u r a t o r   ‑   M i n e r .\n",
            "R e w a r d   l o g i c   su c h   a s notifyRewardAmount   a n d  refreshReward .\n",
            "2 .   Co n \u0000 i g u r a t o r   ‑   Go v e r n a n c e .\n",
            "A c c e ss  c o n t r o l   c h e c k s  l i k e  checkRole   a n d  checkOnlyRole .\n",
            "3 .   Co n \u0000 i g u r a t o r   ‑   V a u l t s.\n",
            "V a u l t   i n f o r m a t i o n   su c h   a s getVaultType .\n",
            "4 .   Co n \u0000 i g u r a t o r   ‑   T o k e n s.\n",
            "T o k e n   t r a n sf e r   l o g i c   t h a t   h a p p e n s   d u r i n g   r e w a r d   d i s t r i b u t i o n   s u c h   a s  approve   a n d  safeTransfer ,   a s  w e l l   a s convertToPeUSD .\n",
            "5 .   Go v e r n a n c e   ‑   T o k e n s.\n",
            "V o t i n g   l o g i c ,   sp e c i \u0000 i c a l l y  getPastVotes   f r o m  esLBR   t o k e n s.\n",
            "6 .   V a u l t s  ‑   Co n \u0000 i g u r a t o r .\n",
            "P a r a m e t e r   r e t r i e v a l s  su c h   a s getEUSDAddress ,  getPeUSDAddress ,  isRedemptionProvider ,  mintVaultMaxSupply ,   a n d   o t h e r s  f o r\n",
            "su c c e ssf u l   v a u l t   m a n a g e m e n t .\n",
            "R e w a r d   d i str i b u t i o n   l o g i c   t h r o u g h   c a l l s   l i k e  refreshMintReward   a n d  distributeReward .\n",
            "7 .   V a u l t s  ‑   T o k e n s.\n",
            "T o k e n   a d m i n i str a t i o n   l o g i c   su c h   a s  transfer   a n d  allowance   c a l l s  b u t   a l so   h i g h l y   p r i vi l e g e d   m e t h o d s   s u c h   a s  burn   a n d  mint\n",
            ".\n",
            "8 .   T o k e n s  ‑   Co n \u0000 i g u r a t o r .\n",
            "V a u l t   p a r a m e t e r   r e t r i e v a l   su c h   a s  vaultMintPaused ,  mintVault[] ,  getProtocolRewardsPool ,  tokenMiner .\n",
            "9 .   T o k e n s  ‑   M i n e r .\n",
            "R e w a r d   l o g i c   t h r o u g h   c a l l s  su c h   a s  refreshReward .\n",
            "1 0 .   M i n e r   ‑   Co n \u0000 i g u r a t o r .\n",
            "I n f o r m a t i o n   r e t r i e v a l   su c h   a s getEUSDAddress ,  isRedemptionProvider ,  mintVault[] .\n",
            "1 1 .   M i n e r   ‑   V a u l t s.\n",
            "T o k e n   a n d   v a u l t   i n f o r m a t i o n   r e t r i e v a l   s u c h   a s  getPoolTotalCirculation   a n d  getBorrowedOf .\n",
            "1 2 .   M i n e r   ‑   T o k e n s.\n",
            "T o k e n   i n f o r m a t i o n   r e t r i e v a l   su c h   a s  balanceOf ,  totalSupply ,   a n d  getUserBoost .\n",
            "T o k e n   a d m i n i str a t i o n   su c h   a s transfer   a n d   h i g h l y   p r i vi l e g e d   c a l l s  su c h   a s  mint   a n d  burn .\n",
            "1 3 .   M i n e r   ‑   M i n e r .\n",
            "E x t e r n a l   c a l l s  b e t w e e n   m i n e r   c o n t r a c t s   s u c h   a s  totalSupply ,  totalStaked ,  stakedOf ,   a n d  userLockStatus .4   S e c u r i t y   S p e c i \u0000 i c a t i o n\n",
            "T h i s  sec t i o n   d e sc r i b e s,   f r o m  a   s e c u ri t y   p e r s p e c t i v e ,   t h e   e x p e c t e d   b e h a vi o r   o f   t h e   s y s t e m   u n d e r   a u d i t .   I t   i s   n o t   a   s u b s t i t u t e   f o r\n",
            "d o c u m e n t a t i o n .   T h e   p u r p o se  o f   t h i s   s e c t i o n   i s   t o   i d e n t i f y   s p e c i \u0000 i c   s e c u r i t y   p r o p e r t i e s   t h a t   w e r e   v a l i d a t e d   b y   t h e   a u d i t   t e a m .\n",
            "4 . 1   A c t o r s\n",
            "T h e   r e l e v a n t   a c t o r s  a r e   l i sted   b e l o w   w i t h   t h e i r   r e s p e c t i v e   a b i l i t i e s ꞉\n",
            "L y b r a   F i n a n c e   t e a m  ‑   c o n t r a c t   o w n e r s   a n d   d e p l o y e r s .   T h e   c o n t r a c t   t e a m   c u r r e n t l y   m a n a g e s   t h e   d e p l o y m e n t   a n d   i n i t i a l\n",
            "c o n \u0000 i g u r a t i o n   o f   t h e   c o n t r a c t s.\n",
            "L y b r a   G o v e rn a n c e .  LBR   ( a n d  esLBR )   t o k e n   h o l d e r s  w h o   c a n   t o   v o t e ,   p a s s ,   a n d   e x e c u t e   p r o p o s a l s .\n",
            "V a u l t   o w n e r s .   T h e   u ser s  t h a t   su p p l y   t h e   c o l l a t e r a l   a n d   l e v e r a g e   i t   f o r   m i n t i n g   t h e   L y b r a   P r o t o c o l ’ s   s t a b l e c o i n s .\n",
            "T o k e n   h o l d e r s .   T h e   e n d ‑ u ser   h o l d e r s  o f   t h e  EUSD   a n d  PeUSD   t o k e n s.\n",
            "K e e p e r s .   U ser s  a n d / o r   b o t s  t h a t   c a l l   f u n c t i o n s   s u c h   a s   e x c e s s   i n c o m e   d i s t r i b u t i o n   a n d   v a u l t   l i q u i d a t i o n s   o f   t h o s e   v a u l t s   t h a t\n",
            "a r e   b e l o w   t h e   n e c e ssa r y   c o l l a t e r a l   r a t i o s .\n",
            "P ri c e   O r a c l e s .   T h i r d ‑ p a r t y   c o n t r a c t s  t h a t   p r o v i d e   p r i c e   f e e d s   f o r   v a r i o u s   t o k e n s   f o r   t h e   L y b r a   P r o t o c o l .\n",
            "4 . 2   T r u s t   M o d e l\n",
            "I n   a n y   s y stem ,   i t ’ s  i m p o r t a n t   t o   i d e n t i f y   w h a t   t r u s t   i s   e x p e c t e d / r e q u i r e d   b e t w e e n   v a r i o u s   a c t o r s .   F o r   t h i s   a u d i t ,   w e   e s t a b l i s h e d   t h e\n",
            "f o l l o w i n g   t r u st  m o d e l ꞉\n",
            "L y b r a   F i n a n c e   t e a m  ( c o n t r a c t   o w n e r s   a n d   d e p l o y e r s ) .   I n   t h e   c u r r e n t   sc o p e   o f   t h i s  p r o t o c o l ,   t h e r e   i s   i n   f a c t   a   l a r g e   a m o u n t   o f\n",
            "t r u st  p u t   i n t o   t h e   d e p l o y e r   o f   t h e   c o n t r a c t s   t o   i n i t i a l i z e   t h e m   p r o p e r l y .   A s   s e e n   i n   t h e   S y s t e m   O v e r vi e w   s e c t i o n ,   t h e  \n",
            "LybraConfigurator   c o n t r a c t ,   f o r   e x a m p l e ,   c o n t a i n s   n u m e r o u s   m i s s i o n ‑ c r i t i c a l   v a r i a b l e s   t h a t   a r e   u s e d   b y   o t h e r   c o n t r a c t s   i n   t h e\n",
            "s y stem .   S e t t i n g   t h o se  u p   c o r r e c t l y   i n   t h e   b e g i n n i n g   i s   t h e   r e s p o n s i b i l i t y   o f   t h e   d e p l o y e r .   H o w e v e r ,   a s   t h i s   i s   a l l   o n   a   p u b l i c\n",
            "b l o c k c h a i n ,   i t   w o u l d   b e   p o ssi b l e   t o   i d e n t i f y   i f   t h e   L y b r a   d e p l o y e r   h a s   m a d e   a   m i s t a k e   i n   t h e   c o n \u0000 i g u r a t i o n s ,   s o   t h i s   i s   n o t   a\n",
            "si g n i \u0000 i c a n t   i ssu e   v e c t o r .   T h a t   b e i n g   s a i d ,   i t   i s   i m p o r t a n t   t o   p o i n t   o u t   t h a t   u p o n   d e p l o y m e n t   o f   t h e  GovernanceTimelock   c o n t r a c t ,\n",
            "t h e  msg.sender   e x p l i c i t l y   g e t s  a  DAO   a n d   a  GOV   r o l e ,   t h e   f o r m e r   o f   w h i c h   a l so   a l l o w s   i t   t o   b y p a s s   a n y   c h e c k s   t h a t   a r e   p r o t e c t e d\n",
            "b y   t h e  checkRole   f u n c t i o n   a s  i t   sp e c i \u0000 i c a l l y   a l l o w s   a  DAO   r o l e   t o   g o   t h r o u g h .   A s  a   r e su l t ,   t h e r e   i s   s i g n i \u0000 i c a n t   t r u s t   i n v o l v e d   w i t h\n",
            "t h e   L y b r a   d e p l o y e r   f o r   h i m   n o t   t o   g e t   c o m p r o m i s e d   a s   i t   c o u l d   b e   d i s a s t r o u s   f o r   t h e   s y s t e m .\n",
            "L y b r a   G o v e rn a n c e .   A s  w i t h   m o st  D A O s,   t h e   h o l d e r s   o f   g o v e r n a n c e   t o k e n s   (LBR   a n d  esLBR )   a r e   t r u sted   w i t h   v o t i n g ,   p a ssi n g ,\n",
            "a n d   e x e c u t i n g   p r o p o sa l s  a s  t h e y   s e e   \u0000 i t .   A s   a   r e s u l t ,   t h e   Go v e r n a n c e   i s   t r u s t e d   n o t   t o   p a s s   m a l i c i o u s   p r o p o s a l s .\n",
            "V a u l t   o w n e r s .   N o   p a r t i c u l a r   t r u st  a ssu m p t i o n s   a r e   m a d e   a b o u t   t h e   v a u l t   o w n e r s .   T h e y   a r e   e x p e c t e d   t o   m a i n t a i n   a   h e a l t h y\n",
            "c o l l a t e r a l ‑ t o ‑ b o r r o w   r a t i o .   Ho w e v e r ,   i f   t h e y   f a i l   t o   d o   s o ,   t h e r e   a r e   i n c e n t i v e   m e c h a n i s m s   t o   e n a b l e   o t h e r   u s e r s ,   s u c h   a s\n",
            "k e e p e r s,   t o   l i q u i d a t e   su c h   v a u l t s .   V a u l t   o w n e r s   c a n   a l s o   b e c o m e   r e d e m p t i o n   p r o vi d e r s   t o   e a r n   a d d i t i o n a l   f e e s   a n d   r e c e i v e   a\n",
            "b o o st  i n   t h e i r   r e w a r d s,   so   o t h e r   u s e r s   c a n   u s e   t h e i r   v a u l t s   t o   r e d e e m   t o k e n s   d i r e c t l y .   H o w e v e r ,   i f   t h e   v a u l t   o w n e r   i s   m a r k e d   a s\n",
            "a   r e d e m p t i o n   p r o vi d e r   b u t   i n   f a c t   d o e s n ’ t   h a v e   e n o u g h   l i q u i d i t y   t o   s u p p o r t   a   r e d e m p t i o n ,   i t   w i l l   s i m p l y   r e v e r t   a n d   n o t   s t o p   t h e\n",
            "o v e r a l l   s y stem   f r o m   w o r k i n g .\n",
            "T o k e n   h o l d e r s .   S i m i l a r l y ,   n o   sp e c i \u0000 i c   t r u st  a ssu m p t i o n s   a r e   m a d e   f o r   t o k e n   h o l d e r s .   T h e   i n t e r a c t i o n s   t h e y   c a n   m a k e   w i t h   t h e\n",
            "p r o t o c o l   a r e   a l l   t r u stl e ss.K e e p e r s .   W h i l e   t h e y   a r e   n o t   e x p l i c i t l y   t r u s t e d   t o   m a i n t a i n   t h e   L y b r a   P r o t o c o l   s y s t e m ,   k e e p e r s   a r e   c r u c i a l   f o r   t h e   o v e r a l l\n",
            "p r o t o c o l   h e a l t h   a s  t h e y   r u n   l i q u i d a t i o n s   a n d   a s s i s t   i n   s t a k i n g   r e w a r d   d i s t r i b u t i o n   t h r o u g h   p u r c h a s e s   o f   e x c e s s   a m o u n t s   o f\n",
            "L i q u i d   S t a k i n g   T o k e n s  f o r  EUSD .   I n d u str y ‑ st a n d a r d   m e c h a n i sm s   a r e   e m p l o y e d   t o   g e t   t h e   k e e p e r s   t o   i n t e r a c t   w i t h   t h e   s y s t e m ,\n",
            "su c h   a s  Du t c h   A u c t i o n   d i sc o u n t s ,   a d d i t i o n a l   k e e p e r   f e e s ,   a n d   s o   o n .   A s   a   r e s u l t ,   t h e   o v e r a l l   u s e r   b a s e   o f   t h e   c h a i n   w h e r e   t h e\n",
            "L y b r a   P r o t o c o l   i s  d e p l o y e d   i s  a ss u m e d   t o   h a v e   e n o u g h   r a t i o n a l   a c t o r s   t o   e x e c u t e   t h e   i n c e n t i v e s   a n d   m o v e   t h e   m e c h a n i s m s\n",
            "f o r w a r d .\n",
            "4 . 3   S e c u r i t y   P r o p e r t i e s\n",
            "T h e   f o l l o w i n g   i s  a   n o n ‑ e x h a u sti v e   l i s t   o f   s e c u r i t y   p r o p e r t i e s   t h a t   w e r e   i d e n t i \u0000 i e d   i n   t h i s   a u d i t ꞉\n",
            "H a r d c o d e d   p r o p e r t i e s .   T h e   L y b r a   P r o t o c o l   i s  c o m p l e x   a n d   m a i n t a i n s   m a n y   o f   p r o p e r t i e s   n e c e s s a r y   f o r   i t s   o p e r a t i o n s ,   s u c h   a s\n",
            "c o l l a t e r a l   r a t i o s,   f e e   r a t i o s,   b o o s t s ,   D u t c h   A u c t i o n   s e t t i n g s ,   a n d   s o   o n .   S o m e   o f   t h e s e   a r e   s e t   b y   t h e   G o v e r n a n c e   t h r o u g h   t h e  \n",
            "LybraConfigurator   c o n t r a c t   b u t   so m e   o f   t h e m   a r e   h a r d c o d e d   i n   t h e   s y s t e m .   I t   i s   i m p o r t a n t   f o r   u s e r s   t o   i d e n t i f y   i f   t h e y   a r e\n",
            "c o m f o r t a b l e   w i t h   b o t h   p o t e n t i a l l y   c h a n g i n g   p a r a m e t e r s   b y   t h e   g o v e r n a n c e   a n d   h a r d c o d e d   p a r a m e t e r s   t h a t   w i l l   n o t   c h a n g e\n",
            "t h r o u g h o u t   t h e   l i f e c y c l e   o f   t h e   s y s t e m .\n",
            "P r o x y .   F r o m   t h e   d o c u m e n t a t i o n ,   t h e   c o m m e n t s ,   a n d   t h e   \u0000 i l e s   i n   s c o p e ,   i t   a p p e a r s   t h a t   a   p r o x y   d e p l o y m e n t   s p e c i \u0000 i c a l l y   f o r   t h e\n",
            "LybraConfigurator   c o n t r a c t   m i g h t   b e   p o ssi b l e .   A s  m e n t i o n e d   t h r o u g h o u t   t h e   r e p o r t ,   t h i s   i s   a   m i s s i o n ‑ c r i t i c a l   c o n t r a c t   a n d   u s e r s\n",
            "sh o u l d   b e   a w a r e   o f   r i sk s  a sso c i a t e d   w i t h   i t s   u p g r a d e a b i l i t y   a s   a   f a u l t y   u p g r a d e   m i g h t   c r i t i c a l l y   d a m a g e   t h e   s y s t e m .\n",
            "L y b r a   D e p l o y e r .   A s  m e n t i o n e d   a b o v e ,   t h e   L y b r a   D e p l o y e r   i s   e x p l i c i t l y   g i v e n   t h e  DAO   a n d  GOV   r o l e s  u p o n   d e p l o y i n g   t h e  \n",
            "GovernanceTimelock   c o n t r a c t .   W h i l e   t h e  GOV   r o l e   i s  t h e   a d m i n   o f   o t h e r   r o l e s ,   t h e  DAO   r o l e   a l l o w s  t h e   o w n e r   o f   t h i s  p r i v a t e   k e y   t o\n",
            "d o   a l m o st  a n y t h i n g   t h e y   w a n t   w i t h   t h e   s y s t e m .   F o r   e x a m p l e ,   t h e y   c a n   s e t   a   n e w   c o n t r a c t   t o   b e   a  LBR   m i n e r ,   m i n t   a s  m a n y  \n",
            "LBR   t o k e n s  a s  t h e y   w a n t ,   a n d   t h e n   t a k e   f u l l   c o n t r o l   o f   t h e   D A O ’ s   g o v e r n a n c e .   H o w e v e r   u n l i k e l y ,   a   m a l i c i o u s   a c t o r   m a y\n",
            "c o m p r o m i se  t h e se  k e y s,   so   t h i s  i s   a   r i s k   u s e r s   n e e d   t o   t a k e   i n t o   a c c o u n t .   I t   i s   u n d e r s t a n d a b l e   t o   a p p r o a c h   t h e   d e p l o y m e n t   o f\n",
            "t h i s  s y stem   w i t h   so m e   sa f e g u a r d s   l i k e   t h i s   i n   t h e   b e g i n n i n g   t h a t   w o u l d   a l l o w   t h e   L y b r a   F i n a n c e   t e a m   t o   s u r g i c a l l y   a d d r e s s\n",
            "i ssu e s  su c h   a s  t h o se  i n   c o n \u0000 i g u r a t i o n s .   H o w e v e r ,   i t   w o u l d   b e   c r i t i c a l   t o   t h e n   r e v o k e   t h e  DAO   r o l e   f r o m   t h a t   p r i v a t e   a d d r e ss  a s\n",
            "t h e   s y stem   m a t u r e s.   O t h e r w i se ,   t h i s   p o s e s   a   s i g n i \u0000 i c a n t   r i s k .\n",
            "5   P o s t   A u d i t   V e r i \u0000 i c a t i o n s\n",
            "Du r i n g   t h e   v e r i \u0000 i c a t i o n   w e e k   a f t e r   t h e   a u d i t ,   t h e   f o l l o w i n g   p o i n t s   h a v e   b e e n   i d e n t i \u0000 i e d   a s   p o t e n t i a l   i m p r o v e m e n t s   t o   t h e   a d d i t i o n a l\n",
            "c h a n g e s  p r o vi d e d ꞉\n",
            "I mp r o v e   t h e   l o g i c   o f   t h e   ri g i d R e d e m p t i o n   c o m m i t .   T h e  checkWithdrawal   c h e c k   i s  i n t r o d u c e d   t o   e n su r e   c o l l a t e r a l   d o e s n ’ t   l e a v e\n",
            "t h e   s y stem   w i t h i n   t h e   3   d a y   p e r i o d   o f   h a vi n g   b e e n   d e p o s i t e d .   H o w e v e r ,   t h e   c h e c k   i s   m a d e   o n   t h e   u s e r   r e q u e s t e d   t h e   r i g i d\n",
            "r e d e m p t i o n   w h e r e a s  t h e   c o l l a t e r a l   c o m e s   f r o m   t h e   p r o vi d e r .   T h e r e f o r e ,   i t   s e e m s   m o r e   a p p l i c a b l e   t o   a p p l y   t h e  checkWithdrawal\n",
            "c h e c k   o n   t h e  provider .\n",
            "I mp r o v e   t h e   l o g i c   o f   t h e   ri g i d R e d e m p t i o n   c o m m i t .   T h e   e m i t t e d   e v e n t  RigidRedemption   h a s  a n   i n c o r r e c t   a m o u n t   e m i t t e d .   I f   t h e\n",
            "l o g i c   o f   t h e  withdraw   f u n c t i o n   i n   t h e   sa m e   c o n t r a c t   i s   t o   b e   f o l l o w e d ,   t h e   e v e n t   s h o u l d   e m i t   t h e   a m o u n t   t h a t   i s   c o r r e c t e d   b y\n",
            "t h e  checkWithdrawal   f u n c t i o n   i n ste a d   o f   w h a t   t h e   u s e r   \u0000 i r s t   r e q u e s t e d   t o   w i t h d r a w   ( o r   r i g i d   r e d e e m ) .\n",
            "\u0000 i x   g e t V a u l t W e i g h t   l o g i c   c o m m i t .   T h e   v a u l t   i s  n o w   c h e c k e d   t o   b e   a c t i v e   i f   t h e r e   i s   n o   s p e c i a l   w e i g h t   a s s i g n e d   t o   i t .   H o w e v e r ,\n",
            "i f   w e i g h t   i s  a ssi g n e d   b u t   i t   i s  d i s a b l e d   ( s o  mintVault   g i v e s  f a l se ) ,   t h i s  w i l l   sti l l   r e t u r n   a   v a l u e ,   w h i c h   m a y   b e   i n   c o n \u0000 l i c t   w i t h   t h e\n",
            "n e w   c h a n g e   t h a t   a p p e a r s  t o   o n l y   w a n t   t o   g i v e   a  vaultWeight   b a c k   i f   i t   i s  e n a b l e d .\n",
            "6   F i n d i n g s\n",
            "E a c h   i ssu e   h a s  a n   a ssi g n e d   se v e r i t y ꞉\n",
            "M i n o r   i ssu e s  a r e   su b j e c t i v e   i n   n a t u r e .   T h e y   a r e   t y p i c a l l y   s u g g e s t i o n s   a r o u n d   b e s t   p r a c t i c e s   o r   r e a d a b i l i t y .   C o d e   m a i n t a i n e r s\n",
            "sh o u l d   u se  t h e i r   o w n   j u d g m e n t   a s   t o   w h e t h e r   t o   a d d r e s s   s u c h   i s s u e s .\n",
            "M e d i u m   i ssu e s  a r e   o b j e c t i v e   i n   n a t u r e   b u t   a r e   n o t   s e c u r i t y   vu l n e r a b i l i t i e s .   T h e s e   s h o u l d   b e   a d d r e s s e d   u n l e s s   t h e r e   i s   a   c l e a r\n",
            "r e a so n   n o t   t o .\n",
            "M a j o r   i ssu e s  a r e   sec u r i t y   vu l n e r a b i l i t i e s   t h a t   m a y   n o t   b e   d i r e c t l y   e x p l o i t a b l e   o r   m a y   r e q u i r e   c e r t a i n   c o n d i t i o n s   i n   o r d e r   t o   b e\n",
            "e x p l o i t e d .   A l l   m a j o r   i ssu e s  sh o u l d   b e   a d d r e s s e d .\n",
            "C r i t i c a l   i ssu e s  a r e   d i r e c t l y   e x p l o i t a b l e   s e c u r i t y   vu l n e r a b i l i t i e s   t h a t   n e e d   t o   b e   \u0000 i x e d .\n",
            "6 . 1   R e ‑ E n t r a n c y   R i s k s   A s s o c i a t e d   W i t h   E x t e r n a l   C a l l s   W i t h   O t h e r   L i q u i d   S t a k i n g   S y s t e m s .   M a j o r  ✓   F i x e d\n",
            "R e s o l u t i o n\n",
            "F i x e d   i n   c o m m i t   f 4 3 b 7 c d 5 1 3 5 8 7 2 1 4 3 c c 3 5 f 4 0 c a e 9 5 8 7 0 4 4 6 d 0 4 1 3   b y   i n t r o d u c i n g   r e e n t r a n c y   g u a r d s .\n",
            "D e s c r i p t i o n\n",
            "A s  p a r t   o f   t h e   str a t e g y   t o   i n t e g r a t e   w i t h   L i q u i d   S t a k i n g   t o k e n s   f o r   E t h e r e u m   s t a k i n g ,   t h e   L y b r a   P r o t o c o l   v a u l t s   a r e   r e q u i r e d   t o\n",
            "m a k e   e x t e r n a l   c a l l s  t o   L i q u i d   S t a k i n g   s y s t e m s .\n",
            "F o r   e x a m p l e ,   t h e  depositEtherToMint   f u n c t i o n   i n   t h e   v a u l t s  m a k e s  e x t e r n a l   c a l l s   t o   d e p o s i t   E t h e r   a n d   r e c e i v e   t h e   L S D   t o k e n s   b a c k .\n",
            "W h i l e   e x t e r n a l   c a l l s  t o   u n t r u ste d   t h i r d ‑ p a r t y   c o n t r a c t s   m a y   b e   d a n g e r o u s ,   i n   t h i s   c a s e ,   t h e   L y b r a   P r o t o c o l   a l r e a d y   e x t e n d s   t r u s t\n",
            "a ssu m p t i o n s  t o   t h e se  t h i r d   p a r t i e s   s i m p l y   t h r o u g h   t h e   a c t   o f   a c c e p t i n g   t h e i r   t o k e n s   a s   c o l l a t e r a l .   I n d e e d ,   i n   s o m e   c a s e s   t h e\n",
            "c o n t r a c t   a d d r e sse s  a r e   e v e n   h a r d c o d e d   i n t o   t h e   c o n t r a c t   a n d   c a l l e d   d i r e c t l y   i n s t e a d   o f   r e l y i n g   o n   s o m e   r e g i s t r y ꞉\n",
            "c o n t r a c t s / l y b r a / p o o l s / L y b r a W s t E T H V a u l t . s o l ꞉ L 2 1 ‑ L 4 0I n   t h a t   c a se ,   d e p e n d i n g   o n   t h e   c o n t r a c t ,   i t   m a y   b e   k n o w n   w h a t   c o n t r a c t   i s   b e i n g   c a l l e d ,   a n d   t h e   r i s k   m a y   b e   a s s e s s e d   a s   f a r   a s\n",
            "w h a t   l o g i c   m a y   b e   e x e c u t e d .\n",
            "Ho w e v e r ,   i n   t h e   c a se s  o f  BETH   a n d  rETH ,   t h e   c a l l s  a r e   b e i n g   m a d e   i n t o   a   p r o x y   a n d   a   c o n t r a c t   r e g i s t r y   o f   a   D A O   ( R o c k e t P o o l ’ s\n",
            "D A O )   r e sp e c t i v e l y .\n",
            "c o n t r a c t s / l y b r a / p o o l s / L y b r a W b E T H V a u l t . s o l ꞉ L 1 5 ‑ L 3 2\n",
            "contract  LybraWBETHVault  is LybraPeUSDVaultBase  { \n",
            "    //WBETH = 0xa2e3356610840701bdf5611a53974510ae27e2e1  \n",
            "    constructor (address _asset, address _oracle, address _config) \n",
            "         LybraPeUSDVaultBase (_asset, _oracle, _config) {} \n",
            " \n",
            "    function  depositEtherToMint (uint256 mintAmount ) external  payable override  { \n",
            "         require(msg.value >= 1 ether, \"DNL\"); \n",
            "         uint256 preBalance  = collateralAsset .balanceOf (address(this)); \n",
            "         IWBETH(address(collateralAsset )).deposit{value꞉ msg.value}(address(configurator )); \n",
            "         uint256 balance = collateralAsset .balanceOf (address(this)); \n",
            "         depositedAsset [msg.sender] += balance ‑ preBalance ; \n",
            " \n",
            "         if (mintAmount  > 0) { \n",
            "             _mintPeUSD (msg.sender, msg.sender, mintAmount , getAssetPrice ()); \n",
            "         } \n",
            " \n",
            "         emit DepositEther (msg.sender, address(collateralAsset ), msg.value,balance ‑ preBalance , block.timestamp ); \n",
            "    } \n",
            "c o n t r a c t s / l y b r a / p o o l s / L y b r a R E T H V a u l t . s o l ꞉ L 2 5 ‑ L 4 2\n",
            "A s  a   r e su l t ,   i t   i s  i m p o ssi b l e   t o   m a k e   a n y   g u a r a n t e e s   f o r   w h a t   l o g i c   w i l l   b e   e x e c u t e d   d u r i n g   t h e   e x t e r n a l   c a l l s .   N a m e l y ,   r e e n t r a n c y\n",
            "r i sk s  c a n ’ t   b e   r u l e d   o u t ,   a n d   t h e   d a m a g e   c o u l d   b e   c r i t i c a l   t o   t h e   s y s t e m .   W h i l e   t h e   t r u s t   i n   t h e s e   p a r t i e s   i s n ’ t   i n   q u e s t i o n ,   i t   w o u l d\n",
            "b e   b e st  p r a c t i c e   t o   a v o i d   a n y   a d d i t i o n a l   r e e n t r a n c y   r i s k s   b y   p l a c i n g   r e e n t r a n c y   g u a r d s .   I n d e e d ,   i n   t h e  LybraRETHVault   a n d  \n",
            "LybraWbETHVault   c o n t r a c t s,   o n e   c a n   see  t h e   p o ss i b l e   d a m a g e   a s   t h e   c a l l s   a r e   s u r r o u n d e d   i n   a  preBalance <‑> balance   p a t t e r n .\n",
            "T h e   w h o l e   o f   t h i r d   p a r t y   L i q u i d   S t a k i n g   s y s t e m s ’   o p e r a t i o n s   n e e d   n o t   b e   c o m p r o m i s e d ,   o n l y   t h e s e   p a r t i c u l a r   p a r t s   w o u l d   b e\n",
            "e n o u g h   t o   c a u se  c r i t i c a l   d a m a g e   t o   t h e   L y b r a   P r o t o c o l .\n",
            "R e c o mme n d a t i o n\n",
            "A f t e r   c o n v e r sa t i o n s  w i t h   t h e   L y b r a   F i n a n c e   t e a m ,   i t   h a s   b e e n   a s s e s s e d   t h a t   r e e n t r a n c y   g u a r d s   a r e   a p p r o p r i a t e   i n   t h i s   s c e n a r i o   t o\n",
            "a v o i d   a n y   p o t e n t i a l   r e e n t r a n c y   r i s k ,   w h i c h   i s   e x a c t l y   t h e   r e c o m m e n d a t i o n   t h i s   a u d i t   t e a m   w o u l d   p r o vi d e .\n",
            "6 . 2   T h e   D e p l o y e r   o f  GovernanceTimelock   G e t s   P r i v i l e g e d   A c c e s s   t o   t h e   S y s t e m .   M a j o r  ✓   F i x e d\n",
            "R e s o l u t i o n\n",
            "A s  p e r   d i sc u ssi o n s  w i t h   t h e   L y b r a   F i n a n c e   t e a m ,   t h i s   h a s   b e e n   a c k n o w l e d g e d   a s   a   t e m p o r a r y   m e a s u r e   t o   c o n \u0000 i g u r e   a n y t h i n g\n",
            "b e f o r e   t h e   l a u n c h   o f   V 2 .   F o l l o w i n g   t h e   d i s c u s s i o n s ,   t h e   L y b r a   F i n a n c e   t e a m   h a s   r e v o k e d   t h e   d e p l o y e r ’ s   p e r m i s s i o n s   i n\n",
            "t r a n sa c t i o n   0 x 1 2 c 9 5 e e c 0 9 5 f 7 e 2 4 a b c 6 a 1 2 7 f 3 7 8 f 9 f 0 \u0000 b 3 a 0 0 2 1 a e a c 8 2 b 4 8 7 c 1 1 a f a 0 1 b 7 9 3 a f   a n d   u p d a t e d   t h e  GovernanceTimelockcontract  LybraWstETHVault  is LybraPeUSDVaultBase  { \n",
            "    Ilido immutable  lido; \n",
            "    //WstETH = 0x7f39C581F595B53c5cb19bD0b3f8dA6c935E2Ca0;  \n",
            "    //Lido = 0xae7ab96520DE3A18E5e111B5EaAb095312D7fE84;  \n",
            "    constructor (address _lido, address _asset, address _oracle, address _config) LybraPeUSDVaultBase (_asset, _oracle, _config) {\n",
            "         lido = Ilido(_lido); \n",
            "    } \n",
            " \n",
            "    function  depositEtherToMint (uint256 mintAmount ) external  payable override  { \n",
            "         require(msg.value >= 1 ether, \"DNL\"); \n",
            "         uint256 sharesAmount  = lido.submit{value꞉ msg.value}(address(configurator )); \n",
            "         require(sharesAmount  != 0, \"ZERO_DEPOSIT\" ); \n",
            "         lido.approve(address(collateralAsset ), msg.value); \n",
            "         uint256 wstETHAmount  = IWstETH(address(collateralAsset )).wrap(msg.value); \n",
            "         depositedAsset [msg.sender] += wstETHAmount ; \n",
            "         if (mintAmount  > 0) { \n",
            "             _mintPeUSD (msg.sender, msg.sender, mintAmount , getAssetPrice ()); \n",
            "         } \n",
            "         emit DepositEther (msg.sender, address(collateralAsset ), msg.value,wstETHAmount , block.timestamp ); \n",
            "    } \n",
            "constructor (address _rocketStorageAddress , address _rETH, address _oracle, address _config) \n",
            "    LybraPeUSDVaultBase (_rETH, _oracle, _config) { \n",
            "    rocketStorage  = IRocketStorageInterface (_rocketStorageAddress ); \n",
            "} \n",
            " \n",
            "function  depositEtherToMint (uint256 mintAmount ) external  payable override  { \n",
            "    require(msg.value >= 1 ether, \"DNL\"); \n",
            "    uint256 preBalance  = collateralAsset .balanceOf (address(this)); \n",
            "    IRocketDepositPool (rocketStorage .getAddress (keccak256 (abi.encodePacked (\"contract.address\" , \"rocketDepositPool\" )))).deposit{v\n",
            "    uint256 balance = collateralAsset .balanceOf (address(this)); \n",
            "    depositedAsset [msg.sender] += balance ‑ preBalance ; \n",
            " \n",
            "    if (mintAmount  > 0) { \n",
            "         _mintPeUSD (msg.sender, msg.sender, mintAmount , getAssetPrice ()); \n",
            "    } \n",
            " \n",
            "    emit DepositEther (msg.sender, address(collateralAsset ), msg.value,balance ‑ preBalance , block.timestamp ); \n",
            "} c o d e   i n   c o m m i t   7 7 e 8 b c 3 6 6 4 \u0000 b 1 b 1 9 5 f d 7 1 8 c 2 c e 1 d 4 9 a f 8 5 3 0 f 9 8 1   t o   i n ste a d   i n t r o d u c e   a   m u l t i si g   a d d r e s s   t h a t   w i l l   h a v e   t h e  \n",
            "ADMIN   r o l e   w h o se  o n l y   p e r m i ssi o n   w i t h i n   t h e   c o n \u0000 i g u r a t o r   c o n t r a c t   i s   t o   p a u s e   t h e   m i n t i n g   f u n c t i o n   i n   e m e r g e n c y   s i t u a t i o n s .\n",
            "D e s c r i p t i o n\n",
            "T h e  GovernanceTimelock   c o n t r a c t   i s  r e sp o n si b l e   f o r   R o l e s   B a s e d   A c c e s s   C o n t r o l   m a n a g e m e n t   a n d   c h e c k s   i n   t h e   L y b r a   P r o t o c o l .   I t\n",
            "o ﬀ e r s  t w o   f u n c t i o n s  sp e c i \u0000 i c a l l y   t h a t   c h e c k   i f   a n   a d d r e s s   h a s   t h e   r e q u i r e d   r o l e   ‑  checkRole   a n d  checkOnlyRole ꞉\n",
            "c o n t r a c t s / l y b r a / g o v e rn a n c e / G o v e rn a n c e T i m e l o c k . s o l ꞉ L 2 4 ‑ L 3 0\n",
            "function  checkRole (bytes32 role, address _sender) public view  returns(bool){ \n",
            "    return hasRole(role, _sender) || hasRole(DAO, _sender); \n",
            "} \n",
            " \n",
            "function  checkOnlyRole (bytes32 role, address _sender) public view  returns(bool){ \n",
            "    return hasRole(role, _sender); \n",
            "} \n",
            "I n  checkRole ,   t h e   c o n t r a c t   a l so   l e t s  a n   a d d r e s s   w i t h   t h e   r o l e  DAO   b y p a ss  t h e   c h e c k   a l t o g e t h e r ,   m a k i n g   i t   a   p o w e r f u l   r o l e .\n",
            "F o r   i n i t i a l   r o l e   m a n a g e m e n t ,   w h e n   t h e  GovernanceTimelock   c o n t r a c t   g e t s  d e p l o y e d ,   i t s  c o n s t r u c t o r   l o g i c   i n i t i a l i z e s   a   f e w   r o l e s ,\n",
            "a ssi g n s  r e l e v a n t   a d m i n   r o l e s,   a n d ,   n o t a b l y ,   a s s i g n s   t h e  DAO   r o l e   t o   t h e   c o n t r a c t ,   a n d   t h e  DAO   a n d   t h e  GOV   r o l e   t o   t h e   d e p l o y e r .\n",
            "c o n t r a c t s / l y b r a / g o v e rn a n c e / G o v e rn a n c e T i m e l o c k . s o l ꞉ L 1 4 ‑ L 2 3\n",
            "T h e   a ssi g n m e n t   o f   su c h   p o w e r f u l   r o l e s   t o   a   s i n g l e   p r i v a t e   k e y   w i t h   t h e   d e p l o y e r   h a s   i n h e r e n t   r i s k s .   S p e c i \u0000 i c a l l y   i n   o u r   c a s e ,   t h e  \n",
            "DAO   r o l e   a l o n e   a s  w e   sa w   m a y   b y p a s s   m a n y   c h e c k s   w i t h i n   t h e   L y b r a   P r o t o c o l ,   a n d   t h e  GOV   r o l e   e v e n   h a s  r o l e   m a n a g e m e n t\n",
            "p r i vi l e g e s.\n",
            "Ho w e v e r ,   i t   d o e s  m a k e   sen se  t o   a s s i g n   s u c h   r o l e s   a t   t h e   b e g i n n i n g   o f   t h e   d e p l o y m e n t   t o   \u0000 i n i s h   i n i t i a l i z a t i o n   a n d   a s s i g n   t h e   r e s t   o f\n",
            "t h e   r o l e s.   O n e   c o u l d   a r g u e   t h a t   h a vi n g   a c c e s s   t o   t h e  DAO   r o l e   i n   t h e   e a r l y   st a g e s  o f   t h e   s y s t e m ’ s   l i f e   c o u l d   a l l o w   f o r   q u i c k   d i s a s t e r\n",
            "r e c o v e r y   i n   t h e   e v e n t   o f   i n c i d e n t s   a s   w e l l .   T h o u g h ,   i t   i s   s t i l l   d a n g e r o u s   t o   h o l d   p r i vi l e g e s   f o r   s u c h   a   s y s t e m   i n   a   s i n g l e   a d d r e s s   a s\n",
            "w e   h a v e   seen   o v e r   t h e   l a st  y e a r s   i n   s e c u r i t y   i n c i d e n t s   t h a t   h a v e   t o   d o   w i t h   c o m p r o m i s e d   k e y s .\n",
            "R e c o mme n d a t i o n\n",
            "W h i l e   r e d e si g n i n g   t h e   d e p l o y m e n t   p r o c e s s   t o   a c c o u n t   f o r   a   l e s s e r ‑ p r i vi l e g e d   d e p l o y e r   w o u l d   b e   i d e a l ,   t h e   L y b r a   F i n a n c e   t e a m\n",
            "sh o u l d   a t   l e a st  t r a n sf e r   o w n e r sh i p   a s   s o o n   a s   t h e   d e p l o y m e n t   i s   c o m p l e t e   t o   m i n i m i z e   c o m p r o m i s e d   p r i v a t e   k e y   r i s k .\n",
            "6 . 3   T h e  configurator.getEUSDMaxLocked()   C o n d i t i o n   C a n   B e   B y p a s s e d   D u r i n g   a   F l a s h l o a n  \n",
            "M e d i u m  ✓   F i x e d\n",
            "R e s o l u t i o n\n",
            "F i x e d   i n   f 6 c 3 a \u0000 b 5 e 4 8 3 5 5 c 1 8 0 4 1 7 b 1 9 2 b d 2 4 b a 2 9 4 f 7 7 7 9 7   b y   c h e c k i n g  eUSD   a m o u n t   a f t e r   \u0000 l a sh   l o a n .\n",
            "D e s c r i p t i o n\n",
            "W h e n   c o n v e r t i n g  EUSD   t o k e n s  t o  peUSD ,   t h e r e   i s  a   c h e c k   t h a t   l i m i t s  t h e   t o t a l   a m o u n t   o f  EUSD   t h a t   c a n   b e   c o n v e r t e d ꞉\n",
            "c o n t r a c t s / l y b r a / t o k e n / P e U S D M a i n n e t . s o l ꞉ L 7 4 ‑ L 7 7\n",
            "function  convertToPeUSD (address user, uint256 eusdAmount ) public { \n",
            "    require(_msgSender () == user || _msgSender () == address(this), \"MDM\"); \n",
            "    require(eusdAmount  != 0, \"ZA\"); \n",
            "    require(EUSD.balanceOf (address(this)) + eusdAmount  <= configurator .getEUSDMaxLocked (),\"ESL\"); \n",
            "T h e   i ssu e   i s  t h a t   t h e r e   i s  a   w a y   t o   b y p a s s   t h i s   r e s t r i c t i o n .   A n   a t t a c k e r   c a n   g e t   a   \u0000 l a s h   l o a n   ( i n  EUSD )   f r o m   t h i s  c o n t r a c t ,   e ssen t i a l l y\n",
            "r e d u c i n g   t h e   vi si b l e   a m o u n t   o f   l o c k e d   t o k e n s   (EUSD.balanceOf(address(this)) ) .\n",
            "R e c o mme n d a t i o n\n",
            "M u l t i p l e   a p p r o a c h e s  c a n   so l v e   t h i s   i s s u e .   O n e   w o u l d   b e   a d d i n g   r e e n t r a n c y   p r o t e c t i o n .   A n o t h e r   o n e   c o u l d   b e   k e e p i n g   t r a c k   o f   t h e\n",
            "b o r r o w e d   a m o u n t   f o r   a   \u0000 l a sh l o a n .\n",
            "6 . 4   L i q u i d a t i o n   K e e p e r s   A u t o m a t i c a l l y   B e c o m e  eUSD   D e b t   P r o v i d e r s   f o r   O t h e r   L i q u i d a t i o n s .   M e d i u m  \n",
            "✓   F i x e d\n",
            "R e s o l u t i o nconstructor (uint256 minDelay , address[] memory proposers , address[] memory executors , address admin) TimelockController (minDelay\n",
            "   \n",
            "    _setRoleAdmin (DAO, GOV); \n",
            "    _setRoleAdmin (TIMELOCK , GOV); \n",
            "    _setRoleAdmin (ADMIN, GOV); \n",
            "    _grantRole (DAO, address(this)); \n",
            "    _grantRole (DAO, msg.sender); \n",
            "    _grantRole (GOV, msg.sender); \n",
            "} F i x e d   i n   c o m m i t   b b c f 1 8 6 7 e f 6 6 c f d c d 4 b 4 f d 2 6 d f 3 9 5 1 8 0 4 8 \u0000 b d e 1 f   b y   a d d i n g   a n   a l t e r n a t i v e   c h e c k   t o   t h e   a l l o w a n c e   \u0000 l a g   t o   s e e   i f  \n",
            "msg.sender == provider ,   t h u s  r e m o vi n g   t h e   d a n g e r   f o r   s o l o   l i q u i d a t o r s   t h a t   d o n ’ t   u s e   a n o t h e r   p r o vi d e r .\n",
            "D e s c r i p t i o n\n",
            "O n e   o f   t h e   m o st  i m p o r t a n t   m e c h a n i s m s   i n   t h e   L y b r a   P r o t o c o l   i s   t h e   l i q u i d a t i o n   o f   p o o r l y   c o l l a t e r a l i z e d   v a u l t s .   F o r   e x a m p l e ,   i f   a\n",
            "v a u l t   i s  f o u n d   t o   h a v e   a   c o l l a t e r a l i z a t i o n   r a t i o   t h a t   i s   t o o   s m a l l ,   a   l i q u i d a t o r   m a y   p r o vi d e   d e b t   t o k e n s   t o   t h e   p r o t o c o l   a n d   r e t r i e v e\n",
            "t h e   v a u l t   c o l l a t e r a l   a t   a   d i sc o u n t ꞉\n",
            "c o n t r a c t s / l y b r a / p o o l s / b a s e / L y b r a E U S D V a u l t Ba s e . s o l ꞉ L 1 4 8 ‑ L 1 7 0\n",
            "T o   l i q u i d a t e   t h e   v a u l t ,   t h e   l i q u i d a t o r   n e e d s  t o   t r a n sf e r   d e b t   t o k e n s  f r o m   t h e   p r o v i d e r   a d d r e ss,   w h i c h   i n   t u r n   n e e d s  t o   h a v e   h a d\n",
            "a p p r o v e d   a l l o w a n c e   o f   t h e   t o k e n   f o r   t h e   v a u l t ꞉\n",
            "c o n t r a c t s / l y b r a / p o o l s / b a s e / L y b r a E U S D V a u l t Ba s e . s o l ꞉ L 1 5 4\n",
            "require(EUSD.allowance (provider , address(this)) != 0, \"provider should authorize to provide liquidation EUSD\" ); \n",
            "T h e   a l l o w a n c e   d o e sn ’ t   n e e d   t o   b e   l a r g e ,   i t   o n l y   n e e d s   t o   b e   n o n ‑ z e r o .   W h i l e   i t   i s   t r u e   t h a t   i n   t h e  superLiquidation   f u n c t i o n   t h e\n",
            "a l l o w a n c e   c h e c k   i s  f o r  eusdAmount ,   w h i c h   i s  t h e   a m o u n t   a sso c i a t e d   w i t h  assetAmount   ( t h e   r e q u e sted   a m o u n t   o f   c o l l a t e r a l   t o   b e\n",
            "l i q u i d a t e d ) ,   t h e   l i q u i d a t o r   c o u l d   s i m p l y   c a l l   t h e   m a x i m u m   o f   t h e   a l l o w a n c e   t h e   p r o vi d e r   h a s   g i v e n   t o   t h e   v a u l t   a n d   t h e n   r e p e a t   t h e\n",
            "l i q u i d a t i o n   p r o c e ss.   T h e   a l l o w a n c e   d o e s   n o t   a c t u a l l y   d e c r e a s e   t h r o u g h o u t   t h e   l i q u i d a t i o n   p r o c e s s .\n",
            "c o n t r a c t s / l y b r a / p o o l s / b a s e / L y b r a E U S D V a u l t Ba s e . s o l ꞉ L 1 9 1\n",
            "require(EUSD.allowance (provider , address(this)) >= eusdAmount , \"provider should authorize to provide liquidation EUSD\" ); \n",
            "N o t a b l y ,   t h i s  a d d r e ss  d o e sn ’ t   h a v e   t o   b e   t h e   s a m e   o n e   a s   t h e   l i q u i d a t o r .   I n   f a c t ,   t h e r e   a r e   n o   c h e c k s   o n   w h e t h e r   t h e   l i q u i d a t o r   h a s\n",
            "a n   a g r e e m e n t   o r   a l l o w a n c e   f r o m   t h e   p r o vi d e r   t o   u s e   t h e i r   t o k e n s   i n   t h i s   p a r t i c u l a r   v a u l t ’ s   l i q u i d a t i o n .   T h e   c o n t r a c t   o n l y   c h e c k s   t o\n",
            "see  i f   t h e   p r o vi d e r   h a s EUSD   a l l o w a n c e   f o r   t h e   v a u l t ,   a n d   h o w   t o   s p l i t   t h e   r e w a r d s   i f   t h e   p r o vi d e r   i s   d i ﬀ e r e n t   f r o m   t h e   l i q u i d a t o r ꞉\n",
            "c o n t r a c t s / l y b r a / p o o l s / b a s e / L y b r a E U S D V a u l t Ba s e . s o l ꞉ L 1 6 2 ‑ L 1 6 8\n",
            "if (provider  == msg.sender) { \n",
            "    collateralAsset .safeTransfer (msg.sender, reducedAsset ); \n",
            "} else { \n",
            "    reward2keeper  = (reducedAsset  * configurator .vaultKeeperRatio (address(this))) / 110; \n",
            "    collateralAsset .safeTransfer (provider , reducedAsset  ‑ reward2keeper ); \n",
            "    collateralAsset .safeTransfer (msg.sender, reward2keeper ); \n",
            "} \n",
            "I n   f a c t ,   t h i s  i s  a   d e si g n   c h o i c e   o f   t h e   s y s t e m   t o   t r e a t   t h e   a l l o w a n c e   t o   t h e   v a u l t   a s   a n   a g r e e m e n t   t o   b e c o m e   a   p u b l i c   p r o vi d e r   o f\n",
            "d e b t   t o k e n s  f o r   t h e   l i q u i d a t i o n   p r o c e s s .   I t   i s   i m p o r t a n t   t o   n o t e   t h a t   t h e r e   a r e   i n c e n t i v e s   a s s o c i a t e d   w i t h   b e i n g   a   p r o vi d e r   a s   t h e y\n",
            "g e t   t h e   c o l l a t e r a l   a sset  a t   a   d i sc o u n t .\n",
            "Ho w e v e r ,   i t   i s  n o t   o b vi o u s  f r o m   d o c u m e n t a t i o n   a t   t h e   t i m e   o f   t h e   a u d i t   n o r   t h e   c o d e   t h a t   a n   a d d r e s s   h a vi n g   a   n o n ‑ z e r o  EUSD\n",
            "a l l o w a n c e   f o r   t h e   v a u l t   a u t o m a t i c a l l y   a l l o w s   o t h e r   u s e r s   t o   u s e   t h a t   a d d r e s s   a s   a   p r o vi d e r .   I n d e e d ,   m a n y   g e n e r a l ‑ p u r p o s e\n",
            "l i q u i d a t o r   b o t s  u se  t h e i r   t o k e n s  d u r i n g   l i q u i d a t i o n s ,   u s i n g   t h e   s a m e   a d d r e s s   f o r   b o t h   t h e   l i q u i d a t o r   a n d   t h e   p r o vi d e r .   A s   a   r e s u l t ,\n",
            "t h i s  w o u l d   p u t   t h a t   a d d r e ss  a t   t h e   b e h e s t   o f   a n y   o t h e r   u s e r   w h o   w o u l d   w a n t   t o   u t i l i z e   t h e s e   t o k e n s   i n   l i q u i d a t i o n s .   T h e   u s e r   m i g h t\n",
            "n o t   b e   c o m f o r t a b l e   d o i n g   t h i s  t r a d e   i n   a n y   c a s e ,   e v e n   a t   a   d i s c o u n t .\n",
            "I n   f a c t ,   d u e   t o   t h i s  m e c h a n i sm ,   e v e n   d u r i n g   c o n s c i o u s l y   i n i t i a t e d   l i q u i d a t i o n s   M E V   b o t s   c o u l d   s p o t   t h i s   o p p o r t u n i t y   a n d   f r o n t ‑ r u n\n",
            "t h e   l i q u i d a t o r ’ s  t r a n sa c t i o n .   A   f r o n t r u n n e r   c o u l d   p u t   t h e m s e l v e s   a s   t h e   k e e p e r   a n d   t h e   o r i g i n a l   u s e r   a s   t h e   p r o vi d e r ,   g r a b b i n g   t h e  \n",
            "reward2keeper   f e e   a n d   l e a vi n g   t h e   o r i g i n a l   a d d r e s s   w i t h   f e w e r   r e w a r d s   a n d   f a i l e d   g a s   a f t e r   t h e   l i q u i d a t i o n .\n",
            "R e c o mme n d a t i o n\n",
            "W h i l e   t h e   m e c h a n i sm   i s  u n d e r s t o o d   t o   b e   d o n e   f o r   c o n v e n i e n c e   a n d   a c c e s s   t o   l i q u i d i t y   a s   a   d e s i g n   d e c i s i o n ,   t h i s   c o u l d   p u t\n",
            "u n a w a r e   u ser s  i n   u n f o r t u n a t e   si t u a t i o n s   o f   h a vi n g   p e r f o r m e d   a   t r a d e   w i t h o u t   e x p l i c i t   c o n s e n t .   S p e c i \u0000 i c a l l y ,   t h e   M E V   a t t a c k   v e c t o r\n",
            "c o u l d   b e   e x e c u t e d   a n d   r e p e a t e d   w i t h o u t   f a i l   b y   a   c a p a b l e   a c t o r   m o n i t o r i n g   t h e   m e m p o o l .   C o n s i d e r   h a vi n g   a   s e p a r a t e ,   e x p l i c i t\n",
            "\u0000 l a g   f o r   a l l o w i n g   o t h e r s  t o   u se  a   u s e r ’ s   t o k e n s   d u r i n g   l i q u i d a t i o n ,   t h u s   a l s o   a c c o m m o d a t i n g   s o l o   l i q u i d a t o r s   b y   r e m o vi n g   t h e   M E V\n",
            "a t t a c k   v e c t o r .   Co n si d e r   e x p l i c i t l y   m e n t i o n i n g   t h e s e   m e c h a n i s m s   i n   t h e   d o c u m e n t a t i o n   a s   w e l l .function  liquidation (address provider , address onBehalfOf , uint256 assetAmount ) external  virtual { \n",
            "    uint256 assetPrice  = getAssetPrice (); \n",
            "    uint256 onBehalfOfCollateralRatio  = (depositedAsset [onBehalfOf ] * assetPrice  * 100) / borrowed [onBehalfOf ]; \n",
            "    require(onBehalfOfCollateralRatio  < badCollateralRatio , \"Borrowers collateral ratio should below badCollateralRatio\" ); \n",
            " \n",
            "    require(assetAmount  * 2 <= depositedAsset [onBehalfOf ], \"a max of 50% collateral can be liquidated\" ); \n",
            "    require(EUSD.allowance (provider , address(this)) != 0, \"provider should authorize to provide liquidation EUSD\" ); \n",
            "    uint256 eusdAmount  = (assetAmount  * assetPrice ) / 1e18; \n",
            " \n",
            "    _repay(provider , onBehalfOf , eusdAmount ); \n",
            "    uint256 reducedAsset  = assetAmount  * 11 / 10; \n",
            "    totalDepositedAsset  ‑= reducedAsset ; \n",
            "    depositedAsset [onBehalfOf ] ‑= reducedAsset ; \n",
            "    uint256 reward2keeper ; \n",
            "    if (provider  == msg.sender) { \n",
            "         collateralAsset .safeTransfer (msg.sender, reducedAsset ); \n",
            "    } else { \n",
            "         reward2keeper  = (reducedAsset  * configurator .vaultKeeperRatio (address(this))) / 110; \n",
            "         collateralAsset .safeTransfer (provider , reducedAsset  ‑ reward2keeper ); \n",
            "         collateralAsset .safeTransfer (msg.sender, reward2keeper ); \n",
            "    } \n",
            "    emit LiquidationRecord (provider , msg.sender, onBehalfOf , eusdAmount , reducedAsset , reward2keeper , false, block.timestamp ); \n",
            "} 6 . 5   U s e   t h e   S a m e   S o l i d i t y   V e r s i o n   A c r o s s   C o n t r a c t s .   M i n o r  ✓   F i x e d\n",
            "R e s o l u t i o n\n",
            "F i x e d   i n   c o m m i t   3 3 a f 5 c 9 2 0 4 4 c d 8 4 c 7 f 6 9 e b 8 a 5 5 3 1 6 d 1 e 8 5 3 5 e a 8 4   a n d   c o m m i t\n",
            "b 1 c 6 a c 2 6 b 2 6 2 e c 6 0 1 1 c 1 4 2 9 7 5 8 3 d 6 7 d 9 e 3 e 9 4 3 2 6 .\n",
            "D e s c r i p t i o n\n",
            "M o st  c o n t r a c t s  u se  t h e   sa m e   S o l i d i t y   v e r s i o n   w i t h  pragma solidity ^0.8.17 .   T h e   o n l y   e x c e p t i o n   i s  t h e  StakingRewardsV2   c o n t r a c t   w h i c h\n",
            "h a s pragma solidity ^0.8 .\n",
            "c o n t r a c t s / l y b r a / min e r / s t a k e r e w a r d V 2 p o o l . s o l ꞉ L 2\n",
            "pragma solidity  ^0.8; \n",
            "R e c o mme n d a t i o n\n",
            "I f   a l l   c o n t r a c t s  w i l l   b e   t e sted   a n d   u t i l i z e d   t o g e t h e r ,   i t   w o u l d   b e   b e s t   t o   u t i l i z e   a n d   d o c u m e n t   t h e   s a m e   v e r s i o n   w i t h i n   a l l   c o n t r a c t\n",
            "c o d e   t o   a v o i d   a n y   i ssu e s  a n d   i n c o n s i s t e n c i e s   t h a t   m a y   a r i s e   a c r o s s   S o l i d i t y   v e r s i o n s .\n",
            "6 . 6   D u p l i c a t i o n   o f   B a d   C o l l a t e r a l   R a t i o   M i n o r     A c k n o w l e d g e d\n",
            "R e s o l u t i o n\n",
            "T h e   L y b r a   F i n a n c e   t e a m   h a s  a c k n o w l e d g e d   t h i s   a s   a   c h o i c e   b y   d e s i g n   a n d   p r o vi d e d   t h e   f o l l o w i n g   n o t e ꞉\n",
            "T h e   l i q u i d a t i o n   r a t i o   f o r   e a c h   e U S D   v a u l t   i s   \u0000 i x e d ,   a n d   t h i s   h a s   b e e n   s t a t e d   i n   o u r   d o c s .   T h e r e f o r e ,   w e   w i l l   k e e p   i t\n",
            "u n c h a n g e d .\n",
            "D e s c r i p t i o n\n",
            "I t   i s  p o ssi b l e   t o   set  a   b a d   c o l l a t e r a l   r a t i o   i n   t h e  LybraConfigurator   c o n t r a c t   f o r   a n y   v a u l t ꞉\n",
            "c o n t r a c t s / l y b r a / c o n \u0000 i g u r a t i o n / L y b r a C o n \u0000 i g u r a t o r . s o l ꞉ L 1 3 7 ‑ L 1 4 1\n",
            "function  setBadCollateralRatio (address pool, uint256 newRatio ) external  onlyRole (DAO) { \n",
            "    require(newRatio  >= 130 * 1e18 && newRatio  <= 150 * 1e18 && newRatio  <= vaultSafeCollateralRatio [pool] + 1e19, \"LNA\"); \n",
            "    vaultBadCollateralRatio [pool] = newRatio ; \n",
            "    emit SafeCollateralRatioChanged (pool, newRatio ); \n",
            "} \n",
            "Bu t   i n   t h e  LybraEUSDVaultBase   c o n t r a c t ,   t h i s  v a l u e   i s  \u0000 i x e d   a n d   c a n n o t   b e   c h a n g e d ꞉\n",
            "c o n t r a c t s / l y b r a / p o o l s / b a s e / L y b r a E U S D V a u l t Ba s e . s o l ꞉ L 1 9\n",
            "uint256 public immutable  badCollateralRatio  = 150 * 1e18; \n",
            "T h i s  d u p l i c a t i o n   o f   v a l u e s  c a n   b e   m i s l e a d i n g   a t   s o m e   p o i n t .   I t ’ s   b e t t e r   t o   m a k e   s u r e   y o u   c a n n o t   c h a n g e   t h e   b a d   c o l l a t e r a l   r a t i o   i n\n",
            "t h e  LybraConfigurator   c o n t r a c t   f o r   so m e   t y p e s  o f   v a u l t s .\n",
            "6 . 7   M i s s i n g   E v e n t s .   M i n o r  ✓   F i x e d\n",
            "R e s o l u t i o n\n",
            "F i x e d   i n   c o m m i t   5 1 8 e f 4 3 4 c 6 f 8 9 c 7 7 4 7 3 7 3 b 6 a e 1 7 8 d 9 6 6 5 d 3 6 3 7 f 2 .\n",
            "D e s c r i p t i o n\n",
            "I n   a   f e w   c a se s  i n   t h e   L y b r a   P r o t o c o l   s y s t e m ,   t h e r e   a r e   c o n t r a c t s   t h a t   a r e   m i s s i n g   e v e n t s   i n   s i g n i \u0000 i c a n t   s c e n a r i o s ,   s u c h   a s   i m p o r t a n t\n",
            "c o n \u0000 i g u r a t i o n   c h a n g e s  l i k e   a   p r i c e   o r a c l e   c h a n g e .   C o n s i d e r   i m p l e m e n t i n g   m o r e   e v e n t s   i n   t h e   b e l o w   e x a m p l e s .\n",
            "E x a mpl e s\n",
            "N o   e v e n t s  i n   t h e   c o n t r a c t ꞉\n",
            "c o n t r a c t s / l y b r a / min e r / e s L BR B o o s t . s o l ꞉ L 1 0 ‑ L 3 0contract  esLBRBoost  is Ownable { \n",
            "    esLBRLockSetting [] public esLBRLockSettings ; \n",
            "    mapping(address => LockStatus ) public userLockStatus ; \n",
            "    IMiningIncentives  public miningIncentives ; \n",
            " \n",
            "    // Define a struct for the lock settings  \n",
            "    struct esLBRLockSetting  { \n",
            "         uint256 duration ; \n",
            "         uint256 miningBoost ; \n",
            "    } \n",
            " \n",
            "    // Define a struct for the user's lock status  \n",
            "    struct LockStatus  { \n",
            "         uint256 lockAmount ; \n",
            "         uint256 unlockTime ; \n",
            "         uint256 duration ; \n",
            "         uint256 miningBoost ; \n",
            "    } \n",
            " \n",
            "    // Constructor to initialize the default lock settings  \n",
            "    constructor (address _miningIncentives ) { \n",
            "M i ssi n g   a n   e v e n t   d u r i n g   a   p r e m a t u r e   u n l o c k ꞉\n",
            "c o n t r a c t s / l y b r a / min e r / P r o t o c o l R e w a r d s P o o l . s o l ꞉ L 1 2 5 ‑ L 1 3 5\n",
            "function  unlockPrematurely () external  { \n",
            "    require(block.timestamp  + exitCycle  ‑ 3 days > time2fullRedemption [msg.sender], \"ENW\"); \n",
            "    uint256 burnAmount  = getReservedLBRForVesting (msg.sender) ‑ getPreUnlockableAmount (msg.sender); \n",
            "    uint256 amount = getPreUnlockableAmount (msg.sender) + getClaimAbleLBR (msg.sender); \n",
            "    if (amount > 0) { \n",
            "         LBR.mint(msg.sender, amount); \n",
            "    } \n",
            "    unstakeRatio [msg.sender] = 0; \n",
            "    time2fullRedemption [msg.sender] = 0; \n",
            "    grabableAmount  += burnAmount ; \n",
            "} \n",
            "M i ssi n g   e v e n t s  f o r   setti n g   i m p o r t a n t   c o n \u0000 i g u r a t i o n s   s u c h   a s  setToken ,  setLBROracle ,   a n d  setPools ꞉\n",
            "c o n t r a c t s / l y b r a / min e r / E U S D M i n i n g I n c e n t i v e s . s o l ꞉ L 8 7 ‑ L 1 0 2\n",
            "function  setToken (address _lbr, address _eslbr) external  onlyOwner  { \n",
            "    LBR = _lbr; \n",
            "    esLBR = _eslbr; \n",
            "} \n",
            " \n",
            "function  setLBROracle (address _lbrOracle ) external  onlyOwner  { \n",
            "    lbrPriceFeed  = AggregatorV3Interface (_lbrOracle ); \n",
            "} \n",
            " \n",
            "function  setPools (address[] memory _vaults) external  onlyOwner  { \n",
            "    require(_vaults.length <= 10, \"EL\"); \n",
            "    for (uint i = 0; i < _vaults.length; i++) { \n",
            "         require(configurator .mintVault (_vaults[i]), \"NOT_VAULT\" ); \n",
            "    } \n",
            "    vaults = _vaults; \n",
            "} \n",
            "M i ssi n g   e v e n t s  f o r   setti n g   i m p o r t a n t   c o n \u0000 i g u r a t i o n s  su c h   a s setRewardsDuration   a n d  setBoost ꞉\n",
            "c o n t r a c t s / l y b r a / min e r / s t a k e r e w a r d V 2 p o o l . s o l ꞉ L 1 2 1 ‑ L 1 3 0\n",
            "// Allows the owner to set the rewards duration  \n",
            "function  setRewardsDuration (uint256 _duration ) external  onlyOwner  { \n",
            "    require(finishAt  < block.timestamp , \"reward duration not finished\" ); \n",
            "    duration  = _duration ; \n",
            "} \n",
            " \n",
            "// Allows the owner to set the boost contract address  \n",
            "function  setBoost (address _boost) external  onlyOwner  { \n",
            "    esLBRBoost  = IesLBRBoost (_boost); \n",
            "} \n",
            "M i ssi n g   e v e n t   d u r i n g   w h a t   i s  e ss e n t i a l l y   s t a k i n g  LBR   i n t o  esLBR   ( su c h   a s  i n  ProtocolRewardsPool.stake() ) .   Co n si d e r   a n   a p p r o p r i a t e\n",
            "e v e n t   h e r e   su c h   a s StakeLBR ꞉\n",
            "c o n t r a c t s / l y b r a / min e r / e s L BR B o o s t . s o l ꞉ L 5 5 ‑ L 5 8\n",
            "if(useLBR) { \n",
            "    IesLBR(miningIncentives .LBR()).burn(msg.sender, lbrAmount ); \n",
            "    IesLBR(miningIncentives .esLBR()).mint(msg.sender, lbrAmount ); \n",
            "} \n",
            "R e c o mme n d a t i o n\n",
            "I m p l e m e n t   a d d i t i o n a l   e v e n t s  a s  a p p r o p r i a t e .\n",
            "6 . 8   I n c o r r e c t   I n t e r f a c e s   M i n o r  ✓   F i x e d\n",
            "R e s o l u t i o nF i x e d   i n   c o m m i t   9 0 2 8 5 1 0 7 d e 8 a 6 7 5 4 9 5 4 c 3 0 3 c d 6 9 d 9 7 b 5 f d b 4 e 2 4 8 ,   c o m m i t\n",
            "0 a c 9 c d 7 3 2 b 6 0 1 d 0 b a e f 2 6 9 0 e f 9 f 9 f 0 2 c d a 9 8 9 3 3 1 ,   a n d   c o m m i t   5 1 8 e f 4 3 4 c 6 f 8 9 c 7 7 4 7 3 7 3 b 6 a e 1 7 8 d 9 6 6 5 d 3 6 3 7 f 2 .\n",
            "D e s c r i p t i o n\n",
            "I n   a   f e w   c a se s,   i n c o r r e c t   i n t e r f a c e s   a r e   u s e d   o n   t o p   o f   c o n t r a c t s .   T h o u g h   t h e   e ﬀ e c t   i s   t h e   s a m e   a s   t h e   c o n t r a c t s   a r e   j u s t   t o k e n s\n",
            "a n d   f o l l o w   t h e   sa m e   i n t e r f a c e s ,   i t   i s   b e s t   p r a c t i c e   t o   i m p l e m e n t   c o r r e c t   i n t e r f a c e s .\n",
            "IPeUSD   i s  u sed   i n ste a d   o f  IEUSD\n",
            "c o n t r a c t s / l y b r a / c o n \u0000 i g u r a t i o n / L y b r a C o n \u0000 i g u r a t o r . s o l ꞉ L 6 0\n",
            "IPeUSD public EUSD; \n",
            "IPeUSD   i s  u sed   i n ste a d   o f  IEUSD\n",
            "c o n t r a c t s / l y b r a / c o n \u0000 i g u r a t i o n / L y b r a C o n \u0000 i g u r a t o r . s o l ꞉ L 1 0 9\n",
            "if (address(EUSD) == address(0)) EUSD = IPeUSD(_eusd); \n",
            "IesLBR   i n ste a d   o f  ILBR\n",
            "c o n t r a c t s / l y b r a / min e r / P r o t o c o l R e w a r d s P o o l . s o l ꞉ L 2 9\n",
            "IesLBR public LBR; \n",
            "IesLBR   i n ste a d   o f  ILBR\n",
            "c o n t r a c t s / l y b r a / min e r / P r o t o c o l R e w a r d s P o o l . s o l ꞉ L 5 7\n",
            "LBR = IesLBR(_lbr); \n",
            "R e c o mme n d a t i o n\n",
            "I m p l e m e n t   c o r r e c t   i n t e r f a c e s  f o r   c o n s i s t e n c y .\n",
            "6 . 9   T h e   E T H   S t a k i n g   R e w a r d s   D i s t r i b u t i o n   T r a d e o ﬀ\n",
            "D e s c r i p t i o n\n",
            "W h e n   u ser s  d e p o si t  stETH   t o   t h e  LybraStETHDepositVault ,   t h e y   g i v e   u p   t h e i r   r e w a r d s  f r o m  ETH   st a k i n g .   I n   e x c h a n g e ,   a l l   t h e   r e w a r d s\n",
            "f r o m  stETH   a r e   g o i n g   t o   t h e  EUSD   h o l d e r s  p r o p o r t i o n a l l y .   S o   e v e r y   u s e r   i s   i n c e n t i vi z e d   t o   b o r r o w   a s   m u c h  EUSD   a s  p o ssi b l e   t o   g e t\n",
            "t h e i r   f a i r   sh a r e   o f   r e w a r d s.   A d d i t i o n a l l y ,   i f   a n y   o t h e r  LybraEUSDVaultBase   v a u l t   i s  a d d e d   w i t h   a   l o w e r   y i e l d   L S D ,   t h e   d e p o s i t o r s   o f   t h a t\n",
            "v a u l t   w i l l   r e c e i v e   a n   e x t r a   p o r t i o n   o f  stETH   r e w a r d s.   W h i l e   t h e   d e p o si t o r s  o f  LybraStETHDepositVault   w i l l   st a r t   g e t t i n g   l e ss.\n",
            "A p p e n d i x   1   ‑   F i l e s   i n   S c o p e\n",
            "T h i s  a u d i t   c o v e r e d   t h e   f o l l o w i n g   \u0000 i l e s ꞉\n",
            "F i l e S H A ‑ 1   h a s h\n",
            "c o n t r a c t s / l y b r a / P r o x y / L y b r a P r o x y . s o l ab1ed4e8e31a501c8d1db02086fdc6e883626948\n",
            "c o n t r a c t s / l y b r a / P r o x y / L y b r a P r o x y A d m i n . s o l 8d745b8fb75d3a9f88db0b2253a2d5ef62e1ae0c\n",
            "c o n t r a c t s / l y b r a / c o n \u0000 i g u r a t i o n / L y b r a C o n \u0000 i g u r a t o r . s o l4f439afd7578a4f1f8eceae61ab41435d97d1988\n",
            "c o n t r a c t s / l y b r a / g o v e r n a n c e / A d m i n T i m e l o c k . s o l 535affc02992b45c3584087d361e893cad4b7ec4\n",
            "c o n t r a c t s / l y b r a / g o v e r n a n c e / Go v e r n a n c e T i m e l o c k . s o l91b1cd13d0a86ca27e94771b0e52725b98dcf730\n",
            "c o n t r a c t s / l y b r a / g o v e r n a n c e / L y b r a Go v e r n a n c e . s o l a62a2c595ae33903375af7685f368a56100c957e\n",
            "c o n t r a c t s / l y b r a / m i n e r / E US DM i n i n g I n c e n t i v e s . s o l 9b8b29038cc934a7d3f977495c1ffb3c4e709e4f\n",
            "c o n t r a c t s / l y b r a / m i n e r / P r o t o c o l R e w a r d s P o o l . s o l 2c96638c9c570c8252aa3a37050b46a72385922b\n",
            "c o n t r a c t s / l y b r a / m i n e r / e sL BR Bo o s t . s o l 9709aef5aba508a0fc2278066ff257504ebe35eb\n",
            "c o n t r a c t s / l y b r a / m i n e r / st a k e r e w a r d V 2 p o o l . s o l 305609a52c0e0d4f85da80c9d4eb2e24a1cbe97c\n",
            "c o n t r a c t s / l y b r a / p o o l s / L y b r a R E T H V a u l t . s o l 8e91a0cb71f408ebedac495456a7b4c217ecb9d3\n",
            "c o n t r a c t s / l y b r a / p o o l s / L y b r a S t E T H V a u l t . s o l baf5b8f6eede7e46f49b3df45744b808631a1c4a\n",
            "c o n t r a c t s / l y b r a / p o o l s / L y b r a W b E T H V a u l t . s o l 07d96ce9074bfc8366572f33fd597b031f10390b\n",
            "c o n t r a c t s / l y b r a / p o o l s / L y b r a W st E T H V a u l t . s o l f1b5181faf3ecdd517ff4bdb39782be5a8b43525\n",
            "c o n t r a c t s / l y b r a / p o o l s / b a se/ L y b r a E U S D V a u l t B a s e . s o l359dc0953fd1938834143e9573a39acfdbc18652\n",
            "c o n t r a c t s / l y b r a / p o o l s / b a se/ L y b r a P e U S D V a u l t B a s e . s o l94631f7b46b2788e08b91fbc5a046bd8c1aeac85\n",
            "c o n t r a c t s / l y b r a / t o k e n / E US D . so l dfdf7a49d4b268cdb428cf8e90bbde075696e8e1\n",
            "c o n t r a c t s / l y b r a / t o k e n / L BR . so l 2f39fb851d45abff1dbc1ea34ab6ed0091fe1c0a\n",
            "c o n t r a c t s / l y b r a / t o k e n / P e US D . so l 61c63b361a82ae5eb78b73dceee3fd07c3e65a66F i l e S H A ‑ 1   h a s h\n",
            "c o n t r a c t s / l y b r a / t o k e n / P e US DM a i n n e t . s o l 1e600938b49f04ce0c43a4261af87cb71d7a34d6\n",
            "c o n t r a c t s / l y b r a / t o k e n / e sL BR . so l d722f7df6c40b82f5a55bec6c17dec173ef60e1c\n",
            "A p p e n d i x   2   ‑   D i s c l o s u r e\n",
            "Co n sen s y s  Di l i g e n c e   ( “ CD ” )   t y p i c a l l y   r e c e i v e s   c o m p e n s a t i o n   f r o m   o n e   o r   m o r e   c l i e n t s   ( t h e   “ C l i e n t s ” )   f o r   p e r f o r m i n g   t h e   a n a l y s i s\n",
            "c o n t a i n e d   i n   t h e se  r e p o r t s  ( t h e   “ R e p o r t s ” ) .   T h e   R e p o r t s   m a y   b e   d i s t r i b u t e d   t h r o u g h   o t h e r   m e a n s ,   i n c l u d i n g   vi a   C o n s e n s y s\n",
            "p u b l i c a t i o n s  a n d   o t h e r   d i str i b u t i o n s .\n",
            "T h e   R e p o r t s  a r e   n o t   a n   e n d o r sem e n t   o r   i n d i c t m e n t   o f   a n y   p a r t i c u l a r   p r o j e c t   o r   t e a m ,   a n d   t h e   R e p o r t s   d o   n o t   g u a r a n t e e   t h e\n",
            "sec u r i t y   o f   a n y   p a r t i c u l a r   p r o j e c t .   T h i s   R e p o r t   d o e s   n o t   c o n s i d e r ,   a n d   s h o u l d   n o t   b e   i n t e r p r e t e d   a s   c o n s i d e r i n g   o r   h a vi n g   a n y\n",
            "b e a r i n g   o n ,   t h e   p o t e n t i a l   e c o n o m i c s   o f   a   t o k e n ,   t o k e n   s a l e   o r   a n y   o t h e r   p r o d u c t ,   s e r vi c e   o r   o t h e r   a s s e t .   C r y p t o g r a p h i c   t o k e n s   a r e\n",
            "e m e r g e n t   t e c h n o l o g i e s  a n d   c a r r y   w i t h   t h e m   h i g h   l e v e l s   o f   t e c h n i c a l   r i s k   a n d   u n c e r t a i n t y .   N o   R e p o r t   p r o vi d e s   a n y   w a r r a n t y   o r\n",
            "r e p r e sen t a t i o n   t o   a n y   t h i r d   p a r t y   i n   a n y   r e s p e c t ,   i n c l u d i n g   r e g a r d i n g   t h e   b u g ‑ f r e e   n a t u r e   o f   c o d e ,   t h e   b u s i n e s s   m o d e l   o r\n",
            "p r o p r i e t o r s  o f   a n y   su c h   b u si n e s s   m o d e l ,   a n d   t h e   l e g a l   c o m p l i a n c e   o f   a n y   s u c h   b u s i n e s s .   N o   t h i r d   p a r t y   s h o u l d   r e l y   o n   t h e   R e p o r t s\n",
            "i n   a n y   w a y ,   i n c l u d i n g   f o r   t h e   p u r p o s e   o f   m a k i n g   a n y   d e c i s i o n s   t o   b u y   o r   s e l l   a n y   t o k e n ,   p r o d u c t ,   s e r vi c e   o r   o t h e r   a s s e t .\n",
            "S p e c i \u0000 i c a l l y ,   f o r   t h e   a v o i d a n c e   o f   d o u b t ,   t h i s   R e p o r t   d o e s   n o t   c o n s t i t u t e   i n v e s t m e n t   a d vi c e ,   i s   n o t   i n t e n d e d   t o   b e   r e l i e d   u p o n   a s\n",
            "i n v e stm e n t   a d vi c e ,   i s  n o t   a n   e n d o r s e m e n t   o f   t h i s   p r o j e c t   o r   t e a m ,   a n d   i t   i s   n o t   a   g u a r a n t e e   a s   t o   t h e   a b s o l u t e   s e c u r i t y   o f   t h e\n",
            "p r o j e c t .   CD  o w e s  n o   d u t y   t o   a n y   t h i r d   p a r t y   b y   vi r t u e   o f   p u b l i s h i n g   t h e s e   R e p o r t s .\n",
            "A . 2 . 1   P u r p o s e   o f   R e p o r t s\n",
            "T h e   R e p o r t s  a n d   t h e   a n a l y si s  d e s c r i b e d   t h e r e i n   a r e   c r e a t e d   s o l e l y   f o r   C l i e n t s   a n d   p u b l i s h e d   w i t h   t h e i r   c o n s e n t .   T h e   s c o p e   o f   o u r\n",
            "r e vi e w   i s  l i m i t e d   t o   a   r e vi e w   o f   c o d e   a n d   o n l y   t h e   c o d e   w e   n o t e   a s   b e i n g   w i t h i n   t h e   s c o p e   o f   o u r   r e vi e w   w i t h i n   t h i s   r e p o r t .   A n y\n",
            "S o l i d i t y   c o d e   i t sel f   p r e sen t s  u n i q u e   a n d   u n q u a n t i \u0000 i a b l e   r i s k s   a s   t h e   S o l i d i t y   l a n g u a g e   i t s e l f   r e m a i n s   u n d e r   d e v e l o p m e n t   a n d   i s\n",
            "su b j e c t   t o   u n k n o w n   r i sk s  a n d   \u0000 l a w s .   T h e   r e vi e w   d o e s   n o t   e x t e n d   t o   t h e   c o m p i l e r   l a y e r ,   o r   a n y   o t h e r   a r e a s   b e y o n d   s p e c i \u0000 i e d   c o d e\n",
            "t h a t   c o u l d   p r e sen t   sec u r i t y   r i sk s .   C r y p t o g r a p h i c   t o k e n s   a r e   e m e r g e n t   t e c h n o l o g i e s   a n d   c a r r y   w i t h   t h e m   h i g h   l e v e l s   o f   t e c h n i c a l\n",
            "r i sk   a n d   u n c e r t a i n t y .   I n   so m e   i n s t a n c e s ,   w e   m a y   p e r f o r m   p e n e t r a t i o n   t e s t i n g   o r   i n f r a s t r u c t u r e   a s s e s s m e n t s   d e p e n d i n g   o n   t h e\n",
            "sc o p e   o f   t h e   p a r t i c u l a r   e n g a g e m e n t .\n",
            "CD  m a k e s  t h e   R e p o r t s  a v a i l a b l e   t o   p a r t i e s   o t h e r   t h a n   t h e   C l i e n t s   ( i . e . ,   “ t h i r d   p a r t i e s ” )   o n   i t s   w e b s i t e .   C D   h o p e s   t h a t   b y   m a k i n g\n",
            "t h e se  a n a l y se s  p u b l i c l y   a v a i l a b l e ,   i t   c a n   h e l p   t h e   b l o c k c h a i n   e c o s y s t e m   d e v e l o p   t e c h n i c a l   b e s t   p r a c t i c e s   i n   t h i s   r a p i d l y   e v o l v i n g\n",
            "a r e a   o f   i n n o v a t i o n .\n",
            "A . 2 . 2   L i n k s   t o   O t h e r   W e b   S i t e s   f r o m   T h i s   W e b   S i t e\n",
            "Y o u   m a y ,   t h r o u g h   h y p e r t e x t   o r   o t h e r   c o m p u t e r   l i n k s ,   g a i n   a c c e s s   t o   w e b   s i t e s   o p e r a t e d   b y   p e r s o n s   o t h e r   t h a n   C o n s e n s y s   a n d   C D .\n",
            "S u c h   h y p e r l i n k s  a r e   p r o vi d e d   f o r   y o u r   r e f e r e n c e   a n d   c o n v e n i e n c e   o n l y ,   a n d   a r e   t h e   e x c l u s i v e   r e s p o n s i b i l i t y   o f   s u c h   w e b   s i t e s ’\n",
            "o w n e r s.   Y o u   a g r e e   t h a t   Co n sen s y s   a n d   C D   a r e   n o t   r e s p o n s i b l e   f o r   t h e   c o n t e n t   o r   o p e r a t i o n   o f   s u c h   W e b   s i t e s ,   a n d   t h a t   C o n s e n s y s\n",
            "a n d   CD  sh a l l   h a v e   n o   l i a b i l i t y   t o   y o u   o r   a n y   o t h e r   p e r s o n   o r   e n t i t y   f o r   t h e   u s e   o f   t h i r d   p a r t y   W e b   s i t e s .   E x c e p t   a s   d e s c r i b e d   b e l o w ,\n",
            "a   h y p e r l i n k   f r o m   t h i s  w e b   S i t e   t o   a n o t h e r   w e b   s i t e   d o e s   n o t   i m p l y   o r   m e a n   t h a t   C o n s e n s y s   a n d   C D   e n d o r s e s   t h e   c o n t e n t   o n   t h a t\n",
            "W e b   si t e   o r   t h e   o p e r a t o r   o r   o p e r a t i o n s   o f   t h a t   s i t e .   Y o u   a r e   s o l e l y   r e s p o n s i b l e   f o r   d e t e r m i n i n g   t h e   e x t e n t   t o   w h i c h   y o u   m a y   u s e\n",
            "a n y   c o n t e n t   a t   a n y   o t h e r   w e b   si t e s   t o   w h i c h   y o u   l i n k   f r o m   t h e   R e p o r t s .   C o n s e n s y s   a n d   C D   a s s u m e s   n o   r e s p o n s i b i l i t y   f o r   t h e   u s e   o f\n",
            "t h i r d ‑ p a r t y   so f t w a r e   o n   t h e   W e b   S i t e   a n d   s h a l l   h a v e   n o   l i a b i l i t y   w h a t s o e v e r   t o   a n y   p e r s o n   o r   e n t i t y   f o r   t h e   a c c u r a c y   o r\n",
            "c o m p l e t e n e ss  o f   a n y   o u t c o m e   g e n e r a t e d   b y   s u c h   s o f t w a r e .\n",
            "A . 2 . 3   T i m e l i n e s s   o f   C o n t e n t\n",
            "T h e   c o n t e n t   c o n t a i n e d   i n   t h e   R e p o r t s   i s   c u r r e n t   a s   o f   t h e   d a t e   a p p e a r i n g   o n   t h e   R e p o r t   a n d   i s   s u b j e c t   t o   c h a n g e   w i t h o u t   n o t i c e\n",
            "u n l e ss  i n d i c a t e d   o t h e r w i se ,   b y   C o n s e n s y s   a n d   C D .\n"
          ]
        },
        {
          "output_type": "error",
          "ename": "IndexError",
          "evalue": "index out of range in self",
          "traceback": [
            "\u001b[0;31m---------------------------------------------------------------------------\u001b[0m",
            "\u001b[0;31mIndexError\u001b[0m                                Traceback (most recent call last)",
            "\u001b[0;32m<ipython-input-38-34ecdf8ad819>\u001b[0m in \u001b[0;36m<cell line: 23>\u001b[0;34m()\u001b[0m\n\u001b[1;32m     21\u001b[0m \u001b[0;34m\u001b[0m\u001b[0m\n\u001b[1;32m     22\u001b[0m \u001b[0;31m# Generate summary using Pegasus model\u001b[0m\u001b[0;34m\u001b[0m\u001b[0;34m\u001b[0m\u001b[0m\n\u001b[0;32m---> 23\u001b[0;31m \u001b[0msummary\u001b[0m \u001b[0;34m=\u001b[0m \u001b[0mpipe\u001b[0m\u001b[0;34m(\u001b[0m\u001b[0msample_text\u001b[0m\u001b[0;34m,\u001b[0m \u001b[0;34m**\u001b[0m\u001b[0mgen_kwargs\u001b[0m\u001b[0;34m)\u001b[0m\u001b[0;34m[\u001b[0m\u001b[0;36m0\u001b[0m\u001b[0;34m]\u001b[0m\u001b[0;34m[\u001b[0m\u001b[0;34m'summary_text'\u001b[0m\u001b[0;34m]\u001b[0m\u001b[0;34m\u001b[0m\u001b[0;34m\u001b[0m\u001b[0m\n\u001b[0m\u001b[1;32m     24\u001b[0m \u001b[0msummary\u001b[0m \u001b[0;34m=\u001b[0m \u001b[0msummary\u001b[0m\u001b[0;34m.\u001b[0m\u001b[0mstrip\u001b[0m\u001b[0;34m(\u001b[0m\u001b[0;34m)\u001b[0m\u001b[0;34m\u001b[0m\u001b[0;34m\u001b[0m\u001b[0m\n\u001b[1;32m     25\u001b[0m \u001b[0;34m\u001b[0m\u001b[0m\n",
            "\u001b[0;32m/usr/local/lib/python3.10/dist-packages/transformers/pipelines/text2text_generation.py\u001b[0m in \u001b[0;36m__call__\u001b[0;34m(self, *args, **kwargs)\u001b[0m\n\u001b[1;32m    267\u001b[0m               \u001b[0mids\u001b[0m \u001b[0mof\u001b[0m \u001b[0mthe\u001b[0m \u001b[0msummary\u001b[0m\u001b[0;34m.\u001b[0m\u001b[0;34m\u001b[0m\u001b[0;34m\u001b[0m\u001b[0m\n\u001b[1;32m    268\u001b[0m         \"\"\"\n\u001b[0;32m--> 269\u001b[0;31m         \u001b[0;32mreturn\u001b[0m \u001b[0msuper\u001b[0m\u001b[0;34m(\u001b[0m\u001b[0;34m)\u001b[0m\u001b[0;34m.\u001b[0m\u001b[0m__call__\u001b[0m\u001b[0;34m(\u001b[0m\u001b[0;34m*\u001b[0m\u001b[0margs\u001b[0m\u001b[0;34m,\u001b[0m \u001b[0;34m**\u001b[0m\u001b[0mkwargs\u001b[0m\u001b[0;34m)\u001b[0m\u001b[0;34m\u001b[0m\u001b[0;34m\u001b[0m\u001b[0m\n\u001b[0m\u001b[1;32m    270\u001b[0m \u001b[0;34m\u001b[0m\u001b[0m\n\u001b[1;32m    271\u001b[0m     \u001b[0;32mdef\u001b[0m \u001b[0mcheck_inputs\u001b[0m\u001b[0;34m(\u001b[0m\u001b[0mself\u001b[0m\u001b[0;34m,\u001b[0m \u001b[0minput_length\u001b[0m\u001b[0;34m:\u001b[0m \u001b[0mint\u001b[0m\u001b[0;34m,\u001b[0m \u001b[0mmin_length\u001b[0m\u001b[0;34m:\u001b[0m \u001b[0mint\u001b[0m\u001b[0;34m,\u001b[0m \u001b[0mmax_length\u001b[0m\u001b[0;34m:\u001b[0m \u001b[0mint\u001b[0m\u001b[0;34m)\u001b[0m \u001b[0;34m->\u001b[0m \u001b[0mbool\u001b[0m\u001b[0;34m:\u001b[0m\u001b[0;34m\u001b[0m\u001b[0;34m\u001b[0m\u001b[0m\n",
            "\u001b[0;32m/usr/local/lib/python3.10/dist-packages/transformers/pipelines/text2text_generation.py\u001b[0m in \u001b[0;36m__call__\u001b[0;34m(self, *args, **kwargs)\u001b[0m\n\u001b[1;32m    165\u001b[0m         \"\"\"\n\u001b[1;32m    166\u001b[0m \u001b[0;34m\u001b[0m\u001b[0m\n\u001b[0;32m--> 167\u001b[0;31m         \u001b[0mresult\u001b[0m \u001b[0;34m=\u001b[0m \u001b[0msuper\u001b[0m\u001b[0;34m(\u001b[0m\u001b[0;34m)\u001b[0m\u001b[0;34m.\u001b[0m\u001b[0m__call__\u001b[0m\u001b[0;34m(\u001b[0m\u001b[0;34m*\u001b[0m\u001b[0margs\u001b[0m\u001b[0;34m,\u001b[0m \u001b[0;34m**\u001b[0m\u001b[0mkwargs\u001b[0m\u001b[0;34m)\u001b[0m\u001b[0;34m\u001b[0m\u001b[0;34m\u001b[0m\u001b[0m\n\u001b[0m\u001b[1;32m    168\u001b[0m         if (\n\u001b[1;32m    169\u001b[0m             \u001b[0misinstance\u001b[0m\u001b[0;34m(\u001b[0m\u001b[0margs\u001b[0m\u001b[0;34m[\u001b[0m\u001b[0;36m0\u001b[0m\u001b[0;34m]\u001b[0m\u001b[0;34m,\u001b[0m \u001b[0mlist\u001b[0m\u001b[0;34m)\u001b[0m\u001b[0;34m\u001b[0m\u001b[0;34m\u001b[0m\u001b[0m\n",
            "\u001b[0;32m/usr/local/lib/python3.10/dist-packages/transformers/pipelines/base.py\u001b[0m in \u001b[0;36m__call__\u001b[0;34m(self, inputs, num_workers, batch_size, *args, **kwargs)\u001b[0m\n\u001b[1;32m   1194\u001b[0m             )\n\u001b[1;32m   1195\u001b[0m         \u001b[0;32melse\u001b[0m\u001b[0;34m:\u001b[0m\u001b[0;34m\u001b[0m\u001b[0;34m\u001b[0m\u001b[0m\n\u001b[0;32m-> 1196\u001b[0;31m             \u001b[0;32mreturn\u001b[0m \u001b[0mself\u001b[0m\u001b[0;34m.\u001b[0m\u001b[0mrun_single\u001b[0m\u001b[0;34m(\u001b[0m\u001b[0minputs\u001b[0m\u001b[0;34m,\u001b[0m \u001b[0mpreprocess_params\u001b[0m\u001b[0;34m,\u001b[0m \u001b[0mforward_params\u001b[0m\u001b[0;34m,\u001b[0m \u001b[0mpostprocess_params\u001b[0m\u001b[0;34m)\u001b[0m\u001b[0;34m\u001b[0m\u001b[0;34m\u001b[0m\u001b[0m\n\u001b[0m\u001b[1;32m   1197\u001b[0m \u001b[0;34m\u001b[0m\u001b[0m\n\u001b[1;32m   1198\u001b[0m     \u001b[0;32mdef\u001b[0m \u001b[0mrun_multi\u001b[0m\u001b[0;34m(\u001b[0m\u001b[0mself\u001b[0m\u001b[0;34m,\u001b[0m \u001b[0minputs\u001b[0m\u001b[0;34m,\u001b[0m \u001b[0mpreprocess_params\u001b[0m\u001b[0;34m,\u001b[0m \u001b[0mforward_params\u001b[0m\u001b[0;34m,\u001b[0m \u001b[0mpostprocess_params\u001b[0m\u001b[0;34m)\u001b[0m\u001b[0;34m:\u001b[0m\u001b[0;34m\u001b[0m\u001b[0;34m\u001b[0m\u001b[0m\n",
            "\u001b[0;32m/usr/local/lib/python3.10/dist-packages/transformers/pipelines/base.py\u001b[0m in \u001b[0;36mrun_single\u001b[0;34m(self, inputs, preprocess_params, forward_params, postprocess_params)\u001b[0m\n\u001b[1;32m   1201\u001b[0m     \u001b[0;32mdef\u001b[0m \u001b[0mrun_single\u001b[0m\u001b[0;34m(\u001b[0m\u001b[0mself\u001b[0m\u001b[0;34m,\u001b[0m \u001b[0minputs\u001b[0m\u001b[0;34m,\u001b[0m \u001b[0mpreprocess_params\u001b[0m\u001b[0;34m,\u001b[0m \u001b[0mforward_params\u001b[0m\u001b[0;34m,\u001b[0m \u001b[0mpostprocess_params\u001b[0m\u001b[0;34m)\u001b[0m\u001b[0;34m:\u001b[0m\u001b[0;34m\u001b[0m\u001b[0;34m\u001b[0m\u001b[0m\n\u001b[1;32m   1202\u001b[0m         \u001b[0mmodel_inputs\u001b[0m \u001b[0;34m=\u001b[0m \u001b[0mself\u001b[0m\u001b[0;34m.\u001b[0m\u001b[0mpreprocess\u001b[0m\u001b[0;34m(\u001b[0m\u001b[0minputs\u001b[0m\u001b[0;34m,\u001b[0m \u001b[0;34m**\u001b[0m\u001b[0mpreprocess_params\u001b[0m\u001b[0;34m)\u001b[0m\u001b[0;34m\u001b[0m\u001b[0;34m\u001b[0m\u001b[0m\n\u001b[0;32m-> 1203\u001b[0;31m         \u001b[0mmodel_outputs\u001b[0m \u001b[0;34m=\u001b[0m \u001b[0mself\u001b[0m\u001b[0;34m.\u001b[0m\u001b[0mforward\u001b[0m\u001b[0;34m(\u001b[0m\u001b[0mmodel_inputs\u001b[0m\u001b[0;34m,\u001b[0m \u001b[0;34m**\u001b[0m\u001b[0mforward_params\u001b[0m\u001b[0;34m)\u001b[0m\u001b[0;34m\u001b[0m\u001b[0;34m\u001b[0m\u001b[0m\n\u001b[0m\u001b[1;32m   1204\u001b[0m         \u001b[0moutputs\u001b[0m \u001b[0;34m=\u001b[0m \u001b[0mself\u001b[0m\u001b[0;34m.\u001b[0m\u001b[0mpostprocess\u001b[0m\u001b[0;34m(\u001b[0m\u001b[0mmodel_outputs\u001b[0m\u001b[0;34m,\u001b[0m \u001b[0;34m**\u001b[0m\u001b[0mpostprocess_params\u001b[0m\u001b[0;34m)\u001b[0m\u001b[0;34m\u001b[0m\u001b[0;34m\u001b[0m\u001b[0m\n\u001b[1;32m   1205\u001b[0m         \u001b[0;32mreturn\u001b[0m \u001b[0moutputs\u001b[0m\u001b[0;34m\u001b[0m\u001b[0;34m\u001b[0m\u001b[0m\n",
            "\u001b[0;32m/usr/local/lib/python3.10/dist-packages/transformers/pipelines/base.py\u001b[0m in \u001b[0;36mforward\u001b[0;34m(self, model_inputs, **forward_params)\u001b[0m\n\u001b[1;32m   1100\u001b[0m                 \u001b[0;32mwith\u001b[0m \u001b[0minference_context\u001b[0m\u001b[0;34m(\u001b[0m\u001b[0;34m)\u001b[0m\u001b[0;34m:\u001b[0m\u001b[0;34m\u001b[0m\u001b[0;34m\u001b[0m\u001b[0m\n\u001b[1;32m   1101\u001b[0m                     \u001b[0mmodel_inputs\u001b[0m \u001b[0;34m=\u001b[0m \u001b[0mself\u001b[0m\u001b[0;34m.\u001b[0m\u001b[0m_ensure_tensor_on_device\u001b[0m\u001b[0;34m(\u001b[0m\u001b[0mmodel_inputs\u001b[0m\u001b[0;34m,\u001b[0m \u001b[0mdevice\u001b[0m\u001b[0;34m=\u001b[0m\u001b[0mself\u001b[0m\u001b[0;34m.\u001b[0m\u001b[0mdevice\u001b[0m\u001b[0;34m)\u001b[0m\u001b[0;34m\u001b[0m\u001b[0;34m\u001b[0m\u001b[0m\n\u001b[0;32m-> 1102\u001b[0;31m                     \u001b[0mmodel_outputs\u001b[0m \u001b[0;34m=\u001b[0m \u001b[0mself\u001b[0m\u001b[0;34m.\u001b[0m\u001b[0m_forward\u001b[0m\u001b[0;34m(\u001b[0m\u001b[0mmodel_inputs\u001b[0m\u001b[0;34m,\u001b[0m \u001b[0;34m**\u001b[0m\u001b[0mforward_params\u001b[0m\u001b[0;34m)\u001b[0m\u001b[0;34m\u001b[0m\u001b[0;34m\u001b[0m\u001b[0m\n\u001b[0m\u001b[1;32m   1103\u001b[0m                     \u001b[0mmodel_outputs\u001b[0m \u001b[0;34m=\u001b[0m \u001b[0mself\u001b[0m\u001b[0;34m.\u001b[0m\u001b[0m_ensure_tensor_on_device\u001b[0m\u001b[0;34m(\u001b[0m\u001b[0mmodel_outputs\u001b[0m\u001b[0;34m,\u001b[0m \u001b[0mdevice\u001b[0m\u001b[0;34m=\u001b[0m\u001b[0mtorch\u001b[0m\u001b[0;34m.\u001b[0m\u001b[0mdevice\u001b[0m\u001b[0;34m(\u001b[0m\u001b[0;34m\"cpu\"\u001b[0m\u001b[0;34m)\u001b[0m\u001b[0;34m)\u001b[0m\u001b[0;34m\u001b[0m\u001b[0;34m\u001b[0m\u001b[0m\n\u001b[1;32m   1104\u001b[0m             \u001b[0;32melse\u001b[0m\u001b[0;34m:\u001b[0m\u001b[0;34m\u001b[0m\u001b[0;34m\u001b[0m\u001b[0m\n",
            "\u001b[0;32m/usr/local/lib/python3.10/dist-packages/transformers/pipelines/text2text_generation.py\u001b[0m in \u001b[0;36m_forward\u001b[0;34m(self, model_inputs, **generate_kwargs)\u001b[0m\n\u001b[1;32m    189\u001b[0m             \u001b[0mgenerate_kwargs\u001b[0m\u001b[0;34m.\u001b[0m\u001b[0mget\u001b[0m\u001b[0;34m(\u001b[0m\u001b[0;34m\"max_length\"\u001b[0m\u001b[0;34m,\u001b[0m \u001b[0mself\u001b[0m\u001b[0;34m.\u001b[0m\u001b[0mmodel\u001b[0m\u001b[0;34m.\u001b[0m\u001b[0mconfig\u001b[0m\u001b[0;34m.\u001b[0m\u001b[0mmax_length\u001b[0m\u001b[0;34m)\u001b[0m\u001b[0;34m,\u001b[0m\u001b[0;34m\u001b[0m\u001b[0;34m\u001b[0m\u001b[0m\n\u001b[1;32m    190\u001b[0m         )\n\u001b[0;32m--> 191\u001b[0;31m         \u001b[0moutput_ids\u001b[0m \u001b[0;34m=\u001b[0m \u001b[0mself\u001b[0m\u001b[0;34m.\u001b[0m\u001b[0mmodel\u001b[0m\u001b[0;34m.\u001b[0m\u001b[0mgenerate\u001b[0m\u001b[0;34m(\u001b[0m\u001b[0;34m**\u001b[0m\u001b[0mmodel_inputs\u001b[0m\u001b[0;34m,\u001b[0m \u001b[0;34m**\u001b[0m\u001b[0mgenerate_kwargs\u001b[0m\u001b[0;34m)\u001b[0m\u001b[0;34m\u001b[0m\u001b[0;34m\u001b[0m\u001b[0m\n\u001b[0m\u001b[1;32m    192\u001b[0m         \u001b[0mout_b\u001b[0m \u001b[0;34m=\u001b[0m \u001b[0moutput_ids\u001b[0m\u001b[0;34m.\u001b[0m\u001b[0mshape\u001b[0m\u001b[0;34m[\u001b[0m\u001b[0;36m0\u001b[0m\u001b[0;34m]\u001b[0m\u001b[0;34m\u001b[0m\u001b[0;34m\u001b[0m\u001b[0m\n\u001b[1;32m    193\u001b[0m         \u001b[0;32mif\u001b[0m \u001b[0mself\u001b[0m\u001b[0;34m.\u001b[0m\u001b[0mframework\u001b[0m \u001b[0;34m==\u001b[0m \u001b[0;34m\"pt\"\u001b[0m\u001b[0;34m:\u001b[0m\u001b[0;34m\u001b[0m\u001b[0;34m\u001b[0m\u001b[0m\n",
            "\u001b[0;32m/usr/local/lib/python3.10/dist-packages/torch/utils/_contextlib.py\u001b[0m in \u001b[0;36mdecorate_context\u001b[0;34m(*args, **kwargs)\u001b[0m\n\u001b[1;32m    113\u001b[0m     \u001b[0;32mdef\u001b[0m \u001b[0mdecorate_context\u001b[0m\u001b[0;34m(\u001b[0m\u001b[0;34m*\u001b[0m\u001b[0margs\u001b[0m\u001b[0;34m,\u001b[0m \u001b[0;34m**\u001b[0m\u001b[0mkwargs\u001b[0m\u001b[0;34m)\u001b[0m\u001b[0;34m:\u001b[0m\u001b[0;34m\u001b[0m\u001b[0;34m\u001b[0m\u001b[0m\n\u001b[1;32m    114\u001b[0m         \u001b[0;32mwith\u001b[0m \u001b[0mctx_factory\u001b[0m\u001b[0;34m(\u001b[0m\u001b[0;34m)\u001b[0m\u001b[0;34m:\u001b[0m\u001b[0;34m\u001b[0m\u001b[0;34m\u001b[0m\u001b[0m\n\u001b[0;32m--> 115\u001b[0;31m             \u001b[0;32mreturn\u001b[0m \u001b[0mfunc\u001b[0m\u001b[0;34m(\u001b[0m\u001b[0;34m*\u001b[0m\u001b[0margs\u001b[0m\u001b[0;34m,\u001b[0m \u001b[0;34m**\u001b[0m\u001b[0mkwargs\u001b[0m\u001b[0;34m)\u001b[0m\u001b[0;34m\u001b[0m\u001b[0;34m\u001b[0m\u001b[0m\n\u001b[0m\u001b[1;32m    116\u001b[0m \u001b[0;34m\u001b[0m\u001b[0m\n\u001b[1;32m    117\u001b[0m     \u001b[0;32mreturn\u001b[0m \u001b[0mdecorate_context\u001b[0m\u001b[0;34m\u001b[0m\u001b[0;34m\u001b[0m\u001b[0m\n",
            "\u001b[0;32m/usr/local/lib/python3.10/dist-packages/transformers/generation/utils.py\u001b[0m in \u001b[0;36mgenerate\u001b[0;34m(self, inputs, generation_config, logits_processor, stopping_criteria, prefix_allowed_tokens_fn, synced_gpus, assistant_model, streamer, negative_prompt_ids, negative_prompt_attention_mask, **kwargs)\u001b[0m\n\u001b[1;32m   1411\u001b[0m             \u001b[0;31m# if model is encoder decoder encoder_outputs are created\u001b[0m\u001b[0;34m\u001b[0m\u001b[0;34m\u001b[0m\u001b[0m\n\u001b[1;32m   1412\u001b[0m             \u001b[0;31m# and added to `model_kwargs`\u001b[0m\u001b[0;34m\u001b[0m\u001b[0;34m\u001b[0m\u001b[0m\n\u001b[0;32m-> 1413\u001b[0;31m             model_kwargs = self._prepare_encoder_decoder_kwargs_for_generation(\n\u001b[0m\u001b[1;32m   1414\u001b[0m                 \u001b[0minputs_tensor\u001b[0m\u001b[0;34m,\u001b[0m \u001b[0mmodel_kwargs\u001b[0m\u001b[0;34m,\u001b[0m \u001b[0mmodel_input_name\u001b[0m\u001b[0;34m\u001b[0m\u001b[0;34m\u001b[0m\u001b[0m\n\u001b[1;32m   1415\u001b[0m             )\n",
            "\u001b[0;32m/usr/local/lib/python3.10/dist-packages/transformers/generation/utils.py\u001b[0m in \u001b[0;36m_prepare_encoder_decoder_kwargs_for_generation\u001b[0;34m(self, inputs_tensor, model_kwargs, model_input_name)\u001b[0m\n\u001b[1;32m    516\u001b[0m         \u001b[0mencoder_kwargs\u001b[0m\u001b[0;34m[\u001b[0m\u001b[0;34m\"return_dict\"\u001b[0m\u001b[0;34m]\u001b[0m \u001b[0;34m=\u001b[0m \u001b[0;32mTrue\u001b[0m\u001b[0;34m\u001b[0m\u001b[0;34m\u001b[0m\u001b[0m\n\u001b[1;32m    517\u001b[0m         \u001b[0mencoder_kwargs\u001b[0m\u001b[0;34m[\u001b[0m\u001b[0mmodel_input_name\u001b[0m\u001b[0;34m]\u001b[0m \u001b[0;34m=\u001b[0m \u001b[0minputs_tensor\u001b[0m\u001b[0;34m\u001b[0m\u001b[0;34m\u001b[0m\u001b[0m\n\u001b[0;32m--> 518\u001b[0;31m         \u001b[0mmodel_kwargs\u001b[0m\u001b[0;34m[\u001b[0m\u001b[0;34m\"encoder_outputs\"\u001b[0m\u001b[0;34m]\u001b[0m\u001b[0;34m:\u001b[0m \u001b[0mModelOutput\u001b[0m \u001b[0;34m=\u001b[0m \u001b[0mencoder\u001b[0m\u001b[0;34m(\u001b[0m\u001b[0;34m**\u001b[0m\u001b[0mencoder_kwargs\u001b[0m\u001b[0;34m)\u001b[0m\u001b[0;34m\u001b[0m\u001b[0;34m\u001b[0m\u001b[0m\n\u001b[0m\u001b[1;32m    519\u001b[0m \u001b[0;34m\u001b[0m\u001b[0m\n\u001b[1;32m    520\u001b[0m         \u001b[0;32mreturn\u001b[0m \u001b[0mmodel_kwargs\u001b[0m\u001b[0;34m\u001b[0m\u001b[0;34m\u001b[0m\u001b[0m\n",
            "\u001b[0;32m/usr/local/lib/python3.10/dist-packages/torch/nn/modules/module.py\u001b[0m in \u001b[0;36m_wrapped_call_impl\u001b[0;34m(self, *args, **kwargs)\u001b[0m\n\u001b[1;32m   1509\u001b[0m             \u001b[0;32mreturn\u001b[0m \u001b[0mself\u001b[0m\u001b[0;34m.\u001b[0m\u001b[0m_compiled_call_impl\u001b[0m\u001b[0;34m(\u001b[0m\u001b[0;34m*\u001b[0m\u001b[0margs\u001b[0m\u001b[0;34m,\u001b[0m \u001b[0;34m**\u001b[0m\u001b[0mkwargs\u001b[0m\u001b[0;34m)\u001b[0m  \u001b[0;31m# type: ignore[misc]\u001b[0m\u001b[0;34m\u001b[0m\u001b[0;34m\u001b[0m\u001b[0m\n\u001b[1;32m   1510\u001b[0m         \u001b[0;32melse\u001b[0m\u001b[0;34m:\u001b[0m\u001b[0;34m\u001b[0m\u001b[0;34m\u001b[0m\u001b[0m\n\u001b[0;32m-> 1511\u001b[0;31m             \u001b[0;32mreturn\u001b[0m \u001b[0mself\u001b[0m\u001b[0;34m.\u001b[0m\u001b[0m_call_impl\u001b[0m\u001b[0;34m(\u001b[0m\u001b[0;34m*\u001b[0m\u001b[0margs\u001b[0m\u001b[0;34m,\u001b[0m \u001b[0;34m**\u001b[0m\u001b[0mkwargs\u001b[0m\u001b[0;34m)\u001b[0m\u001b[0;34m\u001b[0m\u001b[0;34m\u001b[0m\u001b[0m\n\u001b[0m\u001b[1;32m   1512\u001b[0m \u001b[0;34m\u001b[0m\u001b[0m\n\u001b[1;32m   1513\u001b[0m     \u001b[0;32mdef\u001b[0m \u001b[0m_call_impl\u001b[0m\u001b[0;34m(\u001b[0m\u001b[0mself\u001b[0m\u001b[0;34m,\u001b[0m \u001b[0;34m*\u001b[0m\u001b[0margs\u001b[0m\u001b[0;34m,\u001b[0m \u001b[0;34m**\u001b[0m\u001b[0mkwargs\u001b[0m\u001b[0;34m)\u001b[0m\u001b[0;34m:\u001b[0m\u001b[0;34m\u001b[0m\u001b[0;34m\u001b[0m\u001b[0m\n",
            "\u001b[0;32m/usr/local/lib/python3.10/dist-packages/torch/nn/modules/module.py\u001b[0m in \u001b[0;36m_call_impl\u001b[0;34m(self, *args, **kwargs)\u001b[0m\n\u001b[1;32m   1518\u001b[0m                 \u001b[0;32mor\u001b[0m \u001b[0m_global_backward_pre_hooks\u001b[0m \u001b[0;32mor\u001b[0m \u001b[0m_global_backward_hooks\u001b[0m\u001b[0;34m\u001b[0m\u001b[0;34m\u001b[0m\u001b[0m\n\u001b[1;32m   1519\u001b[0m                 or _global_forward_hooks or _global_forward_pre_hooks):\n\u001b[0;32m-> 1520\u001b[0;31m             \u001b[0;32mreturn\u001b[0m \u001b[0mforward_call\u001b[0m\u001b[0;34m(\u001b[0m\u001b[0;34m*\u001b[0m\u001b[0margs\u001b[0m\u001b[0;34m,\u001b[0m \u001b[0;34m**\u001b[0m\u001b[0mkwargs\u001b[0m\u001b[0;34m)\u001b[0m\u001b[0;34m\u001b[0m\u001b[0;34m\u001b[0m\u001b[0m\n\u001b[0m\u001b[1;32m   1521\u001b[0m \u001b[0;34m\u001b[0m\u001b[0m\n\u001b[1;32m   1522\u001b[0m         \u001b[0;32mtry\u001b[0m\u001b[0;34m:\u001b[0m\u001b[0;34m\u001b[0m\u001b[0;34m\u001b[0m\u001b[0m\n",
            "\u001b[0;32m/usr/local/lib/python3.10/dist-packages/transformers/models/pegasus/modeling_pegasus.py\u001b[0m in \u001b[0;36mforward\u001b[0;34m(self, input_ids, attention_mask, head_mask, inputs_embeds, output_attentions, output_hidden_states, return_dict)\u001b[0m\n\u001b[1;32m    746\u001b[0m             \u001b[0minputs_embeds\u001b[0m \u001b[0;34m=\u001b[0m \u001b[0mself\u001b[0m\u001b[0;34m.\u001b[0m\u001b[0membed_tokens\u001b[0m\u001b[0;34m(\u001b[0m\u001b[0minput_ids\u001b[0m\u001b[0;34m)\u001b[0m \u001b[0;34m*\u001b[0m \u001b[0mself\u001b[0m\u001b[0;34m.\u001b[0m\u001b[0membed_scale\u001b[0m\u001b[0;34m\u001b[0m\u001b[0;34m\u001b[0m\u001b[0m\n\u001b[1;32m    747\u001b[0m \u001b[0;34m\u001b[0m\u001b[0m\n\u001b[0;32m--> 748\u001b[0;31m         \u001b[0membed_pos\u001b[0m \u001b[0;34m=\u001b[0m \u001b[0mself\u001b[0m\u001b[0;34m.\u001b[0m\u001b[0membed_positions\u001b[0m\u001b[0;34m(\u001b[0m\u001b[0minput_shape\u001b[0m\u001b[0;34m)\u001b[0m\u001b[0;34m\u001b[0m\u001b[0;34m\u001b[0m\u001b[0m\n\u001b[0m\u001b[1;32m    749\u001b[0m \u001b[0;34m\u001b[0m\u001b[0m\n\u001b[1;32m    750\u001b[0m         \u001b[0mhidden_states\u001b[0m \u001b[0;34m=\u001b[0m \u001b[0minputs_embeds\u001b[0m \u001b[0;34m+\u001b[0m \u001b[0membed_pos\u001b[0m\u001b[0;34m\u001b[0m\u001b[0;34m\u001b[0m\u001b[0m\n",
            "\u001b[0;32m/usr/local/lib/python3.10/dist-packages/torch/nn/modules/module.py\u001b[0m in \u001b[0;36m_wrapped_call_impl\u001b[0;34m(self, *args, **kwargs)\u001b[0m\n\u001b[1;32m   1509\u001b[0m             \u001b[0;32mreturn\u001b[0m \u001b[0mself\u001b[0m\u001b[0;34m.\u001b[0m\u001b[0m_compiled_call_impl\u001b[0m\u001b[0;34m(\u001b[0m\u001b[0;34m*\u001b[0m\u001b[0margs\u001b[0m\u001b[0;34m,\u001b[0m \u001b[0;34m**\u001b[0m\u001b[0mkwargs\u001b[0m\u001b[0;34m)\u001b[0m  \u001b[0;31m# type: ignore[misc]\u001b[0m\u001b[0;34m\u001b[0m\u001b[0;34m\u001b[0m\u001b[0m\n\u001b[1;32m   1510\u001b[0m         \u001b[0;32melse\u001b[0m\u001b[0;34m:\u001b[0m\u001b[0;34m\u001b[0m\u001b[0;34m\u001b[0m\u001b[0m\n\u001b[0;32m-> 1511\u001b[0;31m             \u001b[0;32mreturn\u001b[0m \u001b[0mself\u001b[0m\u001b[0;34m.\u001b[0m\u001b[0m_call_impl\u001b[0m\u001b[0;34m(\u001b[0m\u001b[0;34m*\u001b[0m\u001b[0margs\u001b[0m\u001b[0;34m,\u001b[0m \u001b[0;34m**\u001b[0m\u001b[0mkwargs\u001b[0m\u001b[0;34m)\u001b[0m\u001b[0;34m\u001b[0m\u001b[0;34m\u001b[0m\u001b[0m\n\u001b[0m\u001b[1;32m   1512\u001b[0m \u001b[0;34m\u001b[0m\u001b[0m\n\u001b[1;32m   1513\u001b[0m     \u001b[0;32mdef\u001b[0m \u001b[0m_call_impl\u001b[0m\u001b[0;34m(\u001b[0m\u001b[0mself\u001b[0m\u001b[0;34m,\u001b[0m \u001b[0;34m*\u001b[0m\u001b[0margs\u001b[0m\u001b[0;34m,\u001b[0m \u001b[0;34m**\u001b[0m\u001b[0mkwargs\u001b[0m\u001b[0;34m)\u001b[0m\u001b[0;34m:\u001b[0m\u001b[0;34m\u001b[0m\u001b[0;34m\u001b[0m\u001b[0m\n",
            "\u001b[0;32m/usr/local/lib/python3.10/dist-packages/torch/nn/modules/module.py\u001b[0m in \u001b[0;36m_call_impl\u001b[0;34m(self, *args, **kwargs)\u001b[0m\n\u001b[1;32m   1518\u001b[0m                 \u001b[0;32mor\u001b[0m \u001b[0m_global_backward_pre_hooks\u001b[0m \u001b[0;32mor\u001b[0m \u001b[0m_global_backward_hooks\u001b[0m\u001b[0;34m\u001b[0m\u001b[0;34m\u001b[0m\u001b[0m\n\u001b[1;32m   1519\u001b[0m                 or _global_forward_hooks or _global_forward_pre_hooks):\n\u001b[0;32m-> 1520\u001b[0;31m             \u001b[0;32mreturn\u001b[0m \u001b[0mforward_call\u001b[0m\u001b[0;34m(\u001b[0m\u001b[0;34m*\u001b[0m\u001b[0margs\u001b[0m\u001b[0;34m,\u001b[0m \u001b[0;34m**\u001b[0m\u001b[0mkwargs\u001b[0m\u001b[0;34m)\u001b[0m\u001b[0;34m\u001b[0m\u001b[0;34m\u001b[0m\u001b[0m\n\u001b[0m\u001b[1;32m   1521\u001b[0m \u001b[0;34m\u001b[0m\u001b[0m\n\u001b[1;32m   1522\u001b[0m         \u001b[0;32mtry\u001b[0m\u001b[0;34m:\u001b[0m\u001b[0;34m\u001b[0m\u001b[0;34m\u001b[0m\u001b[0m\n",
            "\u001b[0;32m/usr/local/lib/python3.10/dist-packages/torch/utils/_contextlib.py\u001b[0m in \u001b[0;36mdecorate_context\u001b[0;34m(*args, **kwargs)\u001b[0m\n\u001b[1;32m    113\u001b[0m     \u001b[0;32mdef\u001b[0m \u001b[0mdecorate_context\u001b[0m\u001b[0;34m(\u001b[0m\u001b[0;34m*\u001b[0m\u001b[0margs\u001b[0m\u001b[0;34m,\u001b[0m \u001b[0;34m**\u001b[0m\u001b[0mkwargs\u001b[0m\u001b[0;34m)\u001b[0m\u001b[0;34m:\u001b[0m\u001b[0;34m\u001b[0m\u001b[0;34m\u001b[0m\u001b[0m\n\u001b[1;32m    114\u001b[0m         \u001b[0;32mwith\u001b[0m \u001b[0mctx_factory\u001b[0m\u001b[0;34m(\u001b[0m\u001b[0;34m)\u001b[0m\u001b[0;34m:\u001b[0m\u001b[0;34m\u001b[0m\u001b[0;34m\u001b[0m\u001b[0m\n\u001b[0;32m--> 115\u001b[0;31m             \u001b[0;32mreturn\u001b[0m \u001b[0mfunc\u001b[0m\u001b[0;34m(\u001b[0m\u001b[0;34m*\u001b[0m\u001b[0margs\u001b[0m\u001b[0;34m,\u001b[0m \u001b[0;34m**\u001b[0m\u001b[0mkwargs\u001b[0m\u001b[0;34m)\u001b[0m\u001b[0;34m\u001b[0m\u001b[0;34m\u001b[0m\u001b[0m\n\u001b[0m\u001b[1;32m    116\u001b[0m \u001b[0;34m\u001b[0m\u001b[0m\n\u001b[1;32m    117\u001b[0m     \u001b[0;32mreturn\u001b[0m \u001b[0mdecorate_context\u001b[0m\u001b[0;34m\u001b[0m\u001b[0;34m\u001b[0m\u001b[0m\n",
            "\u001b[0;32m/usr/local/lib/python3.10/dist-packages/transformers/models/pegasus/modeling_pegasus.py\u001b[0m in \u001b[0;36mforward\u001b[0;34m(self, input_ids_shape, past_key_values_length)\u001b[0m\n\u001b[1;32m    106\u001b[0m             \u001b[0mpast_key_values_length\u001b[0m\u001b[0;34m,\u001b[0m \u001b[0mpast_key_values_length\u001b[0m \u001b[0;34m+\u001b[0m \u001b[0mseq_len\u001b[0m\u001b[0;34m,\u001b[0m \u001b[0mdtype\u001b[0m\u001b[0;34m=\u001b[0m\u001b[0mtorch\u001b[0m\u001b[0;34m.\u001b[0m\u001b[0mlong\u001b[0m\u001b[0;34m,\u001b[0m \u001b[0mdevice\u001b[0m\u001b[0;34m=\u001b[0m\u001b[0mself\u001b[0m\u001b[0;34m.\u001b[0m\u001b[0mweight\u001b[0m\u001b[0;34m.\u001b[0m\u001b[0mdevice\u001b[0m\u001b[0;34m\u001b[0m\u001b[0;34m\u001b[0m\u001b[0m\n\u001b[1;32m    107\u001b[0m         )\n\u001b[0;32m--> 108\u001b[0;31m         \u001b[0;32mreturn\u001b[0m \u001b[0msuper\u001b[0m\u001b[0;34m(\u001b[0m\u001b[0;34m)\u001b[0m\u001b[0;34m.\u001b[0m\u001b[0mforward\u001b[0m\u001b[0;34m(\u001b[0m\u001b[0mpositions\u001b[0m\u001b[0;34m)\u001b[0m\u001b[0;34m\u001b[0m\u001b[0;34m\u001b[0m\u001b[0m\n\u001b[0m\u001b[1;32m    109\u001b[0m \u001b[0;34m\u001b[0m\u001b[0m\n\u001b[1;32m    110\u001b[0m \u001b[0;34m\u001b[0m\u001b[0m\n",
            "\u001b[0;32m/usr/local/lib/python3.10/dist-packages/torch/nn/modules/sparse.py\u001b[0m in \u001b[0;36mforward\u001b[0;34m(self, input)\u001b[0m\n\u001b[1;32m    161\u001b[0m \u001b[0;34m\u001b[0m\u001b[0m\n\u001b[1;32m    162\u001b[0m     \u001b[0;32mdef\u001b[0m \u001b[0mforward\u001b[0m\u001b[0;34m(\u001b[0m\u001b[0mself\u001b[0m\u001b[0;34m,\u001b[0m \u001b[0minput\u001b[0m\u001b[0;34m:\u001b[0m \u001b[0mTensor\u001b[0m\u001b[0;34m)\u001b[0m \u001b[0;34m->\u001b[0m \u001b[0mTensor\u001b[0m\u001b[0;34m:\u001b[0m\u001b[0;34m\u001b[0m\u001b[0;34m\u001b[0m\u001b[0m\n\u001b[0;32m--> 163\u001b[0;31m         return F.embedding(\n\u001b[0m\u001b[1;32m    164\u001b[0m             \u001b[0minput\u001b[0m\u001b[0;34m,\u001b[0m \u001b[0mself\u001b[0m\u001b[0;34m.\u001b[0m\u001b[0mweight\u001b[0m\u001b[0;34m,\u001b[0m \u001b[0mself\u001b[0m\u001b[0;34m.\u001b[0m\u001b[0mpadding_idx\u001b[0m\u001b[0;34m,\u001b[0m \u001b[0mself\u001b[0m\u001b[0;34m.\u001b[0m\u001b[0mmax_norm\u001b[0m\u001b[0;34m,\u001b[0m\u001b[0;34m\u001b[0m\u001b[0;34m\u001b[0m\u001b[0m\n\u001b[1;32m    165\u001b[0m             self.norm_type, self.scale_grad_by_freq, self.sparse)\n",
            "\u001b[0;32m/usr/local/lib/python3.10/dist-packages/torch/nn/functional.py\u001b[0m in \u001b[0;36membedding\u001b[0;34m(input, weight, padding_idx, max_norm, norm_type, scale_grad_by_freq, sparse)\u001b[0m\n\u001b[1;32m   2235\u001b[0m         \u001b[0;31m# remove once script supports set_grad_enabled\u001b[0m\u001b[0;34m\u001b[0m\u001b[0;34m\u001b[0m\u001b[0m\n\u001b[1;32m   2236\u001b[0m         \u001b[0m_no_grad_embedding_renorm_\u001b[0m\u001b[0;34m(\u001b[0m\u001b[0mweight\u001b[0m\u001b[0;34m,\u001b[0m \u001b[0minput\u001b[0m\u001b[0;34m,\u001b[0m \u001b[0mmax_norm\u001b[0m\u001b[0;34m,\u001b[0m \u001b[0mnorm_type\u001b[0m\u001b[0;34m)\u001b[0m\u001b[0;34m\u001b[0m\u001b[0;34m\u001b[0m\u001b[0m\n\u001b[0;32m-> 2237\u001b[0;31m     \u001b[0;32mreturn\u001b[0m \u001b[0mtorch\u001b[0m\u001b[0;34m.\u001b[0m\u001b[0membedding\u001b[0m\u001b[0;34m(\u001b[0m\u001b[0mweight\u001b[0m\u001b[0;34m,\u001b[0m \u001b[0minput\u001b[0m\u001b[0;34m,\u001b[0m \u001b[0mpadding_idx\u001b[0m\u001b[0;34m,\u001b[0m \u001b[0mscale_grad_by_freq\u001b[0m\u001b[0;34m,\u001b[0m \u001b[0msparse\u001b[0m\u001b[0;34m)\u001b[0m\u001b[0;34m\u001b[0m\u001b[0;34m\u001b[0m\u001b[0m\n\u001b[0m\u001b[1;32m   2238\u001b[0m \u001b[0;34m\u001b[0m\u001b[0m\n\u001b[1;32m   2239\u001b[0m \u001b[0;34m\u001b[0m\u001b[0m\n",
            "\u001b[0;31mIndexError\u001b[0m: index out of range in self"
          ]
        }
      ]
    },
    {
      "cell_type": "code",
      "source": [],
      "metadata": {
        "id": "5LzI2q39HO9_"
      },
      "execution_count": null,
      "outputs": []
    }
  ]
}